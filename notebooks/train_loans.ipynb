{
 "cells": [
  {
   "cell_type": "code",
   "execution_count": 1,
   "outputs": [],
   "source": [
    "%load_ext autoreload\n",
    "%autoreload 2"
   ],
   "metadata": {
    "collapsed": false,
    "pycharm": {
     "name": "#%%\n"
    }
   }
  },
  {
   "cell_type": "code",
   "execution_count": 41,
   "metadata": {
    "collapsed": true
   },
   "outputs": [],
   "source": [
    "import pandas as pd\n",
    "import missingno as msn\n",
    "import numpy as np\n",
    "from src.loan_pred.preprocessing.preprocess import convert_dtype"
   ]
  },
  {
   "cell_type": "code",
   "execution_count": 42,
   "outputs": [
    {
     "data": {
      "text/plain": "                         customerid  systemloanid  loannumber  \\\n0  8a2a81a74ce8c05d014cfb32a0da1049     301682320           2   \n1  8a2a81a74ce8c05d014cfb32a0da1049     301883808           9   \n2  8a2a81a74ce8c05d014cfb32a0da1049     301831714           8   \n3  8a8588f35438fe12015444567666018e     301861541           5   \n4  8a85890754145ace015429211b513e16     301941754           2   \n\n                 approveddate                creationdate  loanamount  \\\n0  2016-08-15 18:22:40.000000  2016-08-15 17:22:32.000000     10000.0   \n1  2017-04-28 18:39:07.000000  2017-04-28 17:38:53.000000     10000.0   \n2  2017-03-05 10:56:25.000000  2017-03-05 09:56:19.000000     20000.0   \n3  2017-04-09 18:25:55.000000  2017-04-09 17:25:42.000000     10000.0   \n4  2017-06-17 09:29:57.000000  2017-06-17 08:29:50.000000     10000.0   \n\n   totaldue  termdays                  closeddate referredby  \\\n0   13000.0        30  2016-09-01 16:06:48.000000        NaN   \n1   13000.0        30  2017-05-28 14:44:49.000000        NaN   \n2   23800.0        30  2017-04-26 22:18:56.000000        NaN   \n3   11500.0        15  2017-04-24 01:35:52.000000        NaN   \n4   11500.0        15  2017-07-14 21:18:43.000000        NaN   \n\n                 firstduedate             firstrepaiddate  \n0  2016-09-14 00:00:00.000000  2016-09-01 15:51:43.000000  \n1  2017-05-30 00:00:00.000000  2017-05-26 00:00:00.000000  \n2  2017-04-04 00:00:00.000000  2017-04-26 22:03:47.000000  \n3  2017-04-24 00:00:00.000000  2017-04-24 00:48:43.000000  \n4  2017-07-03 00:00:00.000000  2017-07-14 21:08:35.000000  ",
      "text/html": "<div>\n<style scoped>\n    .dataframe tbody tr th:only-of-type {\n        vertical-align: middle;\n    }\n\n    .dataframe tbody tr th {\n        vertical-align: top;\n    }\n\n    .dataframe thead th {\n        text-align: right;\n    }\n</style>\n<table border=\"1\" class=\"dataframe\">\n  <thead>\n    <tr style=\"text-align: right;\">\n      <th></th>\n      <th>customerid</th>\n      <th>systemloanid</th>\n      <th>loannumber</th>\n      <th>approveddate</th>\n      <th>creationdate</th>\n      <th>loanamount</th>\n      <th>totaldue</th>\n      <th>termdays</th>\n      <th>closeddate</th>\n      <th>referredby</th>\n      <th>firstduedate</th>\n      <th>firstrepaiddate</th>\n    </tr>\n  </thead>\n  <tbody>\n    <tr>\n      <th>0</th>\n      <td>8a2a81a74ce8c05d014cfb32a0da1049</td>\n      <td>301682320</td>\n      <td>2</td>\n      <td>2016-08-15 18:22:40.000000</td>\n      <td>2016-08-15 17:22:32.000000</td>\n      <td>10000.0</td>\n      <td>13000.0</td>\n      <td>30</td>\n      <td>2016-09-01 16:06:48.000000</td>\n      <td>NaN</td>\n      <td>2016-09-14 00:00:00.000000</td>\n      <td>2016-09-01 15:51:43.000000</td>\n    </tr>\n    <tr>\n      <th>1</th>\n      <td>8a2a81a74ce8c05d014cfb32a0da1049</td>\n      <td>301883808</td>\n      <td>9</td>\n      <td>2017-04-28 18:39:07.000000</td>\n      <td>2017-04-28 17:38:53.000000</td>\n      <td>10000.0</td>\n      <td>13000.0</td>\n      <td>30</td>\n      <td>2017-05-28 14:44:49.000000</td>\n      <td>NaN</td>\n      <td>2017-05-30 00:00:00.000000</td>\n      <td>2017-05-26 00:00:00.000000</td>\n    </tr>\n    <tr>\n      <th>2</th>\n      <td>8a2a81a74ce8c05d014cfb32a0da1049</td>\n      <td>301831714</td>\n      <td>8</td>\n      <td>2017-03-05 10:56:25.000000</td>\n      <td>2017-03-05 09:56:19.000000</td>\n      <td>20000.0</td>\n      <td>23800.0</td>\n      <td>30</td>\n      <td>2017-04-26 22:18:56.000000</td>\n      <td>NaN</td>\n      <td>2017-04-04 00:00:00.000000</td>\n      <td>2017-04-26 22:03:47.000000</td>\n    </tr>\n    <tr>\n      <th>3</th>\n      <td>8a8588f35438fe12015444567666018e</td>\n      <td>301861541</td>\n      <td>5</td>\n      <td>2017-04-09 18:25:55.000000</td>\n      <td>2017-04-09 17:25:42.000000</td>\n      <td>10000.0</td>\n      <td>11500.0</td>\n      <td>15</td>\n      <td>2017-04-24 01:35:52.000000</td>\n      <td>NaN</td>\n      <td>2017-04-24 00:00:00.000000</td>\n      <td>2017-04-24 00:48:43.000000</td>\n    </tr>\n    <tr>\n      <th>4</th>\n      <td>8a85890754145ace015429211b513e16</td>\n      <td>301941754</td>\n      <td>2</td>\n      <td>2017-06-17 09:29:57.000000</td>\n      <td>2017-06-17 08:29:50.000000</td>\n      <td>10000.0</td>\n      <td>11500.0</td>\n      <td>15</td>\n      <td>2017-07-14 21:18:43.000000</td>\n      <td>NaN</td>\n      <td>2017-07-03 00:00:00.000000</td>\n      <td>2017-07-14 21:08:35.000000</td>\n    </tr>\n  </tbody>\n</table>\n</div>"
     },
     "execution_count": 42,
     "metadata": {},
     "output_type": "execute_result"
    }
   ],
   "source": [
    "train_prevloans = pd.read_csv(\"../data/raw_data/train/trainprevloans.csv\")\n",
    "train_prevloans.head()"
   ],
   "metadata": {
    "collapsed": false,
    "pycharm": {
     "name": "#%%\n"
    }
   }
  },
  {
   "cell_type": "code",
   "execution_count": 43,
   "outputs": [
    {
     "data": {
      "text/plain": "(18183, 12)"
     },
     "execution_count": 43,
     "metadata": {},
     "output_type": "execute_result"
    }
   ],
   "source": [
    "train_prevloans.shape"
   ],
   "metadata": {
    "collapsed": false,
    "pycharm": {
     "name": "#%%\n"
    }
   }
  },
  {
   "cell_type": "code",
   "execution_count": 44,
   "outputs": [
    {
     "data": {
      "text/plain": "customerid               category\nsystemloanid                int32\nloannumber                  int32\napproveddate       datetime64[ns]\ncreationdate       datetime64[ns]\nloanamount                float64\ntotaldue                  float64\ntermdays                    int32\ncloseddate         datetime64[ns]\nreferredby               category\nfirstduedate       datetime64[ns]\nfirstrepaiddate    datetime64[ns]\ndtype: object"
     },
     "execution_count": 44,
     "metadata": {},
     "output_type": "execute_result"
    }
   ],
   "source": [
    "cols_dtypes = {\n",
    "    \"customerid\": \"category\",\n",
    "    \"systemloanid\": \"int\",\n",
    "    \"loannumber\": \"int\",\n",
    "    \"approveddate\": \"datetime\",\n",
    "    \"creationdate\": \"datetime\",\n",
    "    \"loanamount\": \"float\",\n",
    "    \"totaldue\": \"float\",\n",
    "    \"termdays\": \"int\",\n",
    "    \"closeddate\": \"datetime\",\n",
    "    \"referredby\": \"category\",\n",
    "    \"firstduedate\": \"datetime\",\n",
    "    \"firstrepaiddate\": \"datetime\"\n",
    "}\n",
    "train_prevloans = convert_dtype(data=train_prevloans, columns_type=cols_dtypes)\n",
    "train_prevloans.dtypes"
   ],
   "metadata": {
    "collapsed": false,
    "pycharm": {
     "name": "#%%\n"
    }
   }
  },
  {
   "cell_type": "code",
   "execution_count": 45,
   "outputs": [
    {
     "data": {
      "text/plain": "customerid             0\nsystemloanid           0\nloannumber             0\napproveddate           0\ncreationdate           0\nloanamount             0\ntotaldue               0\ntermdays               0\ncloseddate             0\nreferredby         17157\nfirstduedate           0\nfirstrepaiddate        0\ndtype: int64"
     },
     "execution_count": 45,
     "metadata": {},
     "output_type": "execute_result"
    }
   ],
   "source": [
    "train_prevloans.isnull().sum()"
   ],
   "metadata": {
    "collapsed": false,
    "pycharm": {
     "name": "#%%\n"
    }
   }
  },
  {
   "cell_type": "markdown",
   "source": [
    "let's drop the referredby column"
   ],
   "metadata": {
    "collapsed": false,
    "pycharm": {
     "name": "#%% md\n"
    }
   }
  },
  {
   "cell_type": "code",
   "execution_count": 46,
   "outputs": [
    {
     "data": {
      "text/plain": "                         customerid  loannumber  loanamount  totaldue  \\\n0  8a2a81a74ce8c05d014cfb32a0da1049           2     10000.0   13000.0   \n1  8a2a81a74ce8c05d014cfb32a0da1049           9     10000.0   13000.0   \n2  8a2a81a74ce8c05d014cfb32a0da1049           8     20000.0   23800.0   \n3  8a8588f35438fe12015444567666018e           5     10000.0   11500.0   \n4  8a85890754145ace015429211b513e16           2     10000.0   11500.0   \n\n   termdays  closeddate_days  firstduedate_days  firstrepaiddate_days  \n0        30               16                 29                    16  \n1        30               29                 31                    27  \n2        30               52                 29                    52  \n3        15               14                 14                    14  \n4        15               27                 15                    27  ",
      "text/html": "<div>\n<style scoped>\n    .dataframe tbody tr th:only-of-type {\n        vertical-align: middle;\n    }\n\n    .dataframe tbody tr th {\n        vertical-align: top;\n    }\n\n    .dataframe thead th {\n        text-align: right;\n    }\n</style>\n<table border=\"1\" class=\"dataframe\">\n  <thead>\n    <tr style=\"text-align: right;\">\n      <th></th>\n      <th>customerid</th>\n      <th>loannumber</th>\n      <th>loanamount</th>\n      <th>totaldue</th>\n      <th>termdays</th>\n      <th>closeddate_days</th>\n      <th>firstduedate_days</th>\n      <th>firstrepaiddate_days</th>\n    </tr>\n  </thead>\n  <tbody>\n    <tr>\n      <th>0</th>\n      <td>8a2a81a74ce8c05d014cfb32a0da1049</td>\n      <td>2</td>\n      <td>10000.0</td>\n      <td>13000.0</td>\n      <td>30</td>\n      <td>16</td>\n      <td>29</td>\n      <td>16</td>\n    </tr>\n    <tr>\n      <th>1</th>\n      <td>8a2a81a74ce8c05d014cfb32a0da1049</td>\n      <td>9</td>\n      <td>10000.0</td>\n      <td>13000.0</td>\n      <td>30</td>\n      <td>29</td>\n      <td>31</td>\n      <td>27</td>\n    </tr>\n    <tr>\n      <th>2</th>\n      <td>8a2a81a74ce8c05d014cfb32a0da1049</td>\n      <td>8</td>\n      <td>20000.0</td>\n      <td>23800.0</td>\n      <td>30</td>\n      <td>52</td>\n      <td>29</td>\n      <td>52</td>\n    </tr>\n    <tr>\n      <th>3</th>\n      <td>8a8588f35438fe12015444567666018e</td>\n      <td>5</td>\n      <td>10000.0</td>\n      <td>11500.0</td>\n      <td>15</td>\n      <td>14</td>\n      <td>14</td>\n      <td>14</td>\n    </tr>\n    <tr>\n      <th>4</th>\n      <td>8a85890754145ace015429211b513e16</td>\n      <td>2</td>\n      <td>10000.0</td>\n      <td>11500.0</td>\n      <td>15</td>\n      <td>27</td>\n      <td>15</td>\n      <td>27</td>\n    </tr>\n  </tbody>\n</table>\n</div>"
     },
     "execution_count": 46,
     "metadata": {},
     "output_type": "execute_result"
    }
   ],
   "source": [
    "def preprocess_prev_loans(df):\n",
    "    dt_cols = [\"closeddate\", \"firstduedate\", \"firstrepaiddate\"]\n",
    "    col_to_select = ['customerid', 'loannumber', 'loanamount', 'totaldue', 'termdays']\n",
    "    for col in dt_cols:\n",
    "        df[f\"{col}_days\"] = (df[col] - df[\"approveddate\"]).dt.days\n",
    "        col_to_select.append(f\"{col}_days\")\n",
    "    df = df[col_to_select]\n",
    "    df = df.drop_duplicates()\n",
    "    df = df.reset_index(drop=True)\n",
    "    return df\n",
    "\n",
    "train_prevloans = preprocess_prev_loans(train_prevloans)\n",
    "train_prevloans.head()"
   ],
   "metadata": {
    "collapsed": false,
    "pycharm": {
     "name": "#%%\n"
    }
   }
  },
  {
   "cell_type": "code",
   "execution_count": 49,
   "outputs": [],
   "source": [
    "from pathlib import Path\n",
    "path = Path(\"../data/preprocessed/train/train_prevloans.csv\")\n",
    "path.parent.mkdir(parents=True, exist_ok=True)\n",
    "train_prevloans.to_csv(path, index=False)"
   ],
   "metadata": {
    "collapsed": false,
    "pycharm": {
     "name": "#%%\n"
    }
   }
  },
  {
   "cell_type": "code",
   "execution_count": null,
   "outputs": [],
   "source": [],
   "metadata": {
    "collapsed": false,
    "pycharm": {
     "name": "#%%\n"
    }
   }
  }
 ],
 "metadata": {
  "kernelspec": {
   "display_name": "Python 3",
   "language": "python",
   "name": "python3"
  },
  "language_info": {
   "codemirror_mode": {
    "name": "ipython",
    "version": 2
   },
   "file_extension": ".py",
   "mimetype": "text/x-python",
   "name": "python",
   "nbconvert_exporter": "python",
   "pygments_lexer": "ipython2",
   "version": "2.7.6"
  }
 },
 "nbformat": 4,
 "nbformat_minor": 0
}
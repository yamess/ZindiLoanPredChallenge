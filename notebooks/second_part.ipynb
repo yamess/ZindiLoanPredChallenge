{
 "cells": [
  {
   "cell_type": "code",
   "execution_count": 1,
   "metadata": {
    "collapsed": true,
    "pycharm": {
     "name": "#%%\n"
    }
   },
   "outputs": [],
   "source": [
    "% load_ext autoreload\n",
    "% autoreload 2"
   ]
  },
  {
   "cell_type": "code",
   "execution_count": 87,
   "outputs": [],
   "source": [
    "import dgl\n",
    "import numpy as np\n",
    "import torch\n",
    "from torch_geometric.data import HeteroData\n",
    "\n",
    "from loan_pred.helpers.helper import load_pickle\n",
    "from loan_pred.preprocessing.embedding import EmbeddingTransformer\n",
    "from loan_pred.preprocessing.get_data import (\n",
    "    get_train_dg, get_train_loans, get_train_prevloans\n",
    ")"
   ],
   "metadata": {
    "collapsed": false,
    "pycharm": {
     "name": "#%%\n"
    }
   }
  },
  {
   "cell_type": "code",
   "execution_count": 3,
   "outputs": [
    {
     "data": {
      "text/plain": "                         customerid  birthdate  bank_account_type  \\\n0  8a858e135cb22031015cbafc76964ebd 1973-10-10                  2   \n1  8a858e275c7ea5ec015c82482d7c3996 1986-01-21                  2   \n2  8a858e5b5bd99460015bdc95cd485634 1987-04-01                  2   \n3  8a858efd5ca70688015cabd1f1e94b55 1991-07-19                  2   \n4  8a858e785acd3412015acd48f4920d04 1982-11-22                  2   \n\n   longitude_gps  latitude_gps  bank_name_clients  employment_status_clients  \\\n0      -0.181928     -0.236603                  6                          1   \n1      -0.181040     -0.043197                 12                          1   \n2       0.155890     -0.552651                  4                          1   \n3      -0.175854     -0.199322                  6                          1   \n4       0.533009      1.545177                  6                          1   \n\n   is_missing_emp_status_clients  \n0                              1  \n1                              0  \n2                              1  \n3                              0  \n4                              0  ",
      "text/html": "<div>\n<style scoped>\n    .dataframe tbody tr th:only-of-type {\n        vertical-align: middle;\n    }\n\n    .dataframe tbody tr th {\n        vertical-align: top;\n    }\n\n    .dataframe thead th {\n        text-align: right;\n    }\n</style>\n<table border=\"1\" class=\"dataframe\">\n  <thead>\n    <tr style=\"text-align: right;\">\n      <th></th>\n      <th>customerid</th>\n      <th>birthdate</th>\n      <th>bank_account_type</th>\n      <th>longitude_gps</th>\n      <th>latitude_gps</th>\n      <th>bank_name_clients</th>\n      <th>employment_status_clients</th>\n      <th>is_missing_emp_status_clients</th>\n    </tr>\n  </thead>\n  <tbody>\n    <tr>\n      <th>0</th>\n      <td>8a858e135cb22031015cbafc76964ebd</td>\n      <td>1973-10-10</td>\n      <td>2</td>\n      <td>-0.181928</td>\n      <td>-0.236603</td>\n      <td>6</td>\n      <td>1</td>\n      <td>1</td>\n    </tr>\n    <tr>\n      <th>1</th>\n      <td>8a858e275c7ea5ec015c82482d7c3996</td>\n      <td>1986-01-21</td>\n      <td>2</td>\n      <td>-0.181040</td>\n      <td>-0.043197</td>\n      <td>12</td>\n      <td>1</td>\n      <td>0</td>\n    </tr>\n    <tr>\n      <th>2</th>\n      <td>8a858e5b5bd99460015bdc95cd485634</td>\n      <td>1987-04-01</td>\n      <td>2</td>\n      <td>0.155890</td>\n      <td>-0.552651</td>\n      <td>4</td>\n      <td>1</td>\n      <td>1</td>\n    </tr>\n    <tr>\n      <th>3</th>\n      <td>8a858efd5ca70688015cabd1f1e94b55</td>\n      <td>1991-07-19</td>\n      <td>2</td>\n      <td>-0.175854</td>\n      <td>-0.199322</td>\n      <td>6</td>\n      <td>1</td>\n      <td>0</td>\n    </tr>\n    <tr>\n      <th>4</th>\n      <td>8a858e785acd3412015acd48f4920d04</td>\n      <td>1982-11-22</td>\n      <td>2</td>\n      <td>0.533009</td>\n      <td>1.545177</td>\n      <td>6</td>\n      <td>1</td>\n      <td>0</td>\n    </tr>\n  </tbody>\n</table>\n</div>"
     },
     "execution_count": 3,
     "metadata": {},
     "output_type": "execute_result"
    }
   ],
   "source": [
    "scaler_dg = load_pickle(file_path=\"../models_storage/scalers/dg_scaler.pk\")\n",
    "encoder_dg = load_pickle(file_path=\"../models_storage/encoders/dg_multilabel_encoder.pk\")\n",
    "train_dg = get_train_dg(\n",
    "    path=\"../data/preprocessed/train/train_dg.csv\",\n",
    "    encoder=encoder_dg,\n",
    "    scaler=scaler_dg\n",
    ")\n",
    "train_dg.head()"
   ],
   "metadata": {
    "collapsed": false,
    "pycharm": {
     "name": "#%%\n"
    }
   }
  },
  {
   "cell_type": "code",
   "execution_count": 4,
   "outputs": [
    {
     "data": {
      "text/plain": "                         customerid  loannumber        approveddate  \\\n0  8a2a81a74ce8c05d014cfb32a0da1049    1.868965 2017-07-25 08:22:56   \n1  8a85886e54beabf90154c0a29ae757c0   -0.868398 2017-07-05 17:04:41   \n2  8a8588f35438fe12015444567666018e    0.500283 2017-07-06 14:52:57   \n3  8a85890754145ace015429211b513e16   -0.594662 2017-07-27 19:00:41   \n4  8a858970548359cc0154883481981866    1.047756 2017-07-03 23:42:45   \n\n   loanamount  totaldue  termdays good_bad_flag  \n0    1.134202  1.108898  0.064140             1  \n1   -0.261346 -0.335566  0.064140             1  \n2    0.203837  0.083119 -1.238939             1  \n3   -0.726529 -0.817054 -1.238939             1  \n4    2.064568  1.904400  0.064140             1  ",
      "text/html": "<div>\n<style scoped>\n    .dataframe tbody tr th:only-of-type {\n        vertical-align: middle;\n    }\n\n    .dataframe tbody tr th {\n        vertical-align: top;\n    }\n\n    .dataframe thead th {\n        text-align: right;\n    }\n</style>\n<table border=\"1\" class=\"dataframe\">\n  <thead>\n    <tr style=\"text-align: right;\">\n      <th></th>\n      <th>customerid</th>\n      <th>loannumber</th>\n      <th>approveddate</th>\n      <th>loanamount</th>\n      <th>totaldue</th>\n      <th>termdays</th>\n      <th>good_bad_flag</th>\n    </tr>\n  </thead>\n  <tbody>\n    <tr>\n      <th>0</th>\n      <td>8a2a81a74ce8c05d014cfb32a0da1049</td>\n      <td>1.868965</td>\n      <td>2017-07-25 08:22:56</td>\n      <td>1.134202</td>\n      <td>1.108898</td>\n      <td>0.064140</td>\n      <td>1</td>\n    </tr>\n    <tr>\n      <th>1</th>\n      <td>8a85886e54beabf90154c0a29ae757c0</td>\n      <td>-0.868398</td>\n      <td>2017-07-05 17:04:41</td>\n      <td>-0.261346</td>\n      <td>-0.335566</td>\n      <td>0.064140</td>\n      <td>1</td>\n    </tr>\n    <tr>\n      <th>2</th>\n      <td>8a8588f35438fe12015444567666018e</td>\n      <td>0.500283</td>\n      <td>2017-07-06 14:52:57</td>\n      <td>0.203837</td>\n      <td>0.083119</td>\n      <td>-1.238939</td>\n      <td>1</td>\n    </tr>\n    <tr>\n      <th>3</th>\n      <td>8a85890754145ace015429211b513e16</td>\n      <td>-0.594662</td>\n      <td>2017-07-27 19:00:41</td>\n      <td>-0.726529</td>\n      <td>-0.817054</td>\n      <td>-1.238939</td>\n      <td>1</td>\n    </tr>\n    <tr>\n      <th>4</th>\n      <td>8a858970548359cc0154883481981866</td>\n      <td>1.047756</td>\n      <td>2017-07-03 23:42:45</td>\n      <td>2.064568</td>\n      <td>1.904400</td>\n      <td>0.064140</td>\n      <td>1</td>\n    </tr>\n  </tbody>\n</table>\n</div>"
     },
     "execution_count": 4,
     "metadata": {},
     "output_type": "execute_result"
    }
   ],
   "source": [
    "train_perf = get_train_loans(\n",
    "    path=\"../data/preprocessed/train/train_perf.csv\",\n",
    "    encoder=load_pickle(file_path=\"../models_storage/encoders/loan_target_encoder\"),\n",
    "    scaler=load_pickle(file_path=\"../models_storage/scalers/loan_scaler.pk\")\n",
    ")\n",
    "train_perf.head()"
   ],
   "metadata": {
    "collapsed": false,
    "pycharm": {
     "name": "#%%\n"
    }
   }
  },
  {
   "cell_type": "code",
   "execution_count": 5,
   "outputs": [
    {
     "data": {
      "text/plain": "                         customerid  loannumber  loanamount  totaldue  \\\n0  8a2a81a74ce8c05d014cfb32a0da1049   -0.673771   -0.697536 -0.628776   \n1  8a2a81a74ce8c05d014cfb32a0da1049    1.480472   -0.697536 -0.628776   \n2  8a2a81a74ce8c05d014cfb32a0da1049    1.172723    0.375392  0.404325   \n3  8a8588f35438fe12015444567666018e    0.249476   -0.697536 -0.772263   \n4  8a85890754145ace015429211b513e16   -0.673771   -0.697536 -0.772263   \n\n   termdays  closeddate_days  firstduedate_days  firstrepaiddate_days  \n0  0.302132        -0.556943           0.618378             -0.543251  \n1  0.302132         0.424067           0.897378              0.365004  \n2  0.302132         2.159701           0.618378              2.429218  \n3 -1.068200        -0.707868          -1.474120             -0.708388  \n4 -1.068200         0.273143          -1.334620              0.365004  ",
      "text/html": "<div>\n<style scoped>\n    .dataframe tbody tr th:only-of-type {\n        vertical-align: middle;\n    }\n\n    .dataframe tbody tr th {\n        vertical-align: top;\n    }\n\n    .dataframe thead th {\n        text-align: right;\n    }\n</style>\n<table border=\"1\" class=\"dataframe\">\n  <thead>\n    <tr style=\"text-align: right;\">\n      <th></th>\n      <th>customerid</th>\n      <th>loannumber</th>\n      <th>loanamount</th>\n      <th>totaldue</th>\n      <th>termdays</th>\n      <th>closeddate_days</th>\n      <th>firstduedate_days</th>\n      <th>firstrepaiddate_days</th>\n    </tr>\n  </thead>\n  <tbody>\n    <tr>\n      <th>0</th>\n      <td>8a2a81a74ce8c05d014cfb32a0da1049</td>\n      <td>-0.673771</td>\n      <td>-0.697536</td>\n      <td>-0.628776</td>\n      <td>0.302132</td>\n      <td>-0.556943</td>\n      <td>0.618378</td>\n      <td>-0.543251</td>\n    </tr>\n    <tr>\n      <th>1</th>\n      <td>8a2a81a74ce8c05d014cfb32a0da1049</td>\n      <td>1.480472</td>\n      <td>-0.697536</td>\n      <td>-0.628776</td>\n      <td>0.302132</td>\n      <td>0.424067</td>\n      <td>0.897378</td>\n      <td>0.365004</td>\n    </tr>\n    <tr>\n      <th>2</th>\n      <td>8a2a81a74ce8c05d014cfb32a0da1049</td>\n      <td>1.172723</td>\n      <td>0.375392</td>\n      <td>0.404325</td>\n      <td>0.302132</td>\n      <td>2.159701</td>\n      <td>0.618378</td>\n      <td>2.429218</td>\n    </tr>\n    <tr>\n      <th>3</th>\n      <td>8a8588f35438fe12015444567666018e</td>\n      <td>0.249476</td>\n      <td>-0.697536</td>\n      <td>-0.772263</td>\n      <td>-1.068200</td>\n      <td>-0.707868</td>\n      <td>-1.474120</td>\n      <td>-0.708388</td>\n    </tr>\n    <tr>\n      <th>4</th>\n      <td>8a85890754145ace015429211b513e16</td>\n      <td>-0.673771</td>\n      <td>-0.697536</td>\n      <td>-0.772263</td>\n      <td>-1.068200</td>\n      <td>0.273143</td>\n      <td>-1.334620</td>\n      <td>0.365004</td>\n    </tr>\n  </tbody>\n</table>\n</div>"
     },
     "execution_count": 5,
     "metadata": {},
     "output_type": "execute_result"
    }
   ],
   "source": [
    "train_prevloans = get_train_prevloans(\n",
    "    path=\"../data/preprocessed/train/train_prevloans.csv\",\n",
    "    scaler=load_pickle(file_path=\"../models_storage/scalers/prevloan_scaler.pk\")\n",
    ")\n",
    "train_prevloans.head()"
   ],
   "metadata": {
    "collapsed": false,
    "pycharm": {
     "name": "#%%\n"
    }
   }
  },
  {
   "cell_type": "code",
   "execution_count": 6,
   "outputs": [],
   "source": [
    "# Apply embedding transformation\n",
    "embeddings_weight = load_pickle(file_path=\"../models_storage/embeddings/embeddings_weights.pk\")\n",
    "embedder = EmbeddingTransformer(embedding_weights=embeddings_weight)"
   ],
   "metadata": {
    "collapsed": false,
    "pycharm": {
     "name": "#%%\n"
    }
   }
  },
  {
   "cell_type": "code",
   "execution_count": 7,
   "outputs": [
    {
     "data": {
      "text/plain": "                         customerid  birthdate  longitude_gps  latitude_gps  \\\n0  8a858e135cb22031015cbafc76964ebd 1973-10-10      -0.181928     -0.236603   \n1  8a858e275c7ea5ec015c82482d7c3996 1986-01-21      -0.181040     -0.043197   \n2  8a858e5b5bd99460015bdc95cd485634 1987-04-01       0.155890     -0.552651   \n3  8a858efd5ca70688015cabd1f1e94b55 1991-07-19      -0.175854     -0.199322   \n4  8a858e785acd3412015acd48f4920d04 1982-11-22       0.533009      1.545177   \n\n   is_missing_emp_status_clients  bank_account_type_0  bank_account_type_1  \\\n0                              1            -0.028878            -0.855125   \n1                              0            -0.028878            -0.855125   \n2                              1            -0.028878            -0.855125   \n3                              0            -0.028878            -0.855125   \n4                              0            -0.028878            -0.855125   \n\n   bank_name_clients_0  bank_name_clients_1  bank_name_clients_2  ...  \\\n0             0.063461            -0.186302             1.173964  ...   \n1            -0.123493            -2.284099            -1.671413  ...   \n2             1.103828             0.777442             1.248884  ...   \n3             0.063461            -0.186302             1.173964  ...   \n4             0.063461            -0.186302             1.173964  ...   \n\n   bank_name_clients_4  bank_name_clients_5  bank_name_clients_6  \\\n0            -0.154604             0.766620            -0.135906   \n1             0.747014            -0.053674            -3.044296   \n2            -1.158112            -0.445147             0.017469   \n3            -0.154604             0.766620            -0.135906   \n4            -0.154604             0.766620            -0.135906   \n\n   bank_name_clients_7  bank_name_clients_8  bank_name_clients_9  \\\n0             0.285251            -0.012637            -0.010871   \n1             1.864994             0.822281             2.384361   \n2            -0.171524            -0.475374            -0.648696   \n3             0.285251            -0.012637            -0.010871   \n4             0.285251            -0.012637            -0.010871   \n\n   employment_status_clients_0  employment_status_clients_1  \\\n0                     0.486133                     0.341335   \n1                     0.486133                     0.341335   \n2                     0.486133                     0.341335   \n3                     0.486133                     0.341335   \n4                     0.486133                     0.341335   \n\n   employment_status_clients_2  employment_status_clients_3  \n0                    -1.499897                     0.908332  \n1                    -1.499897                     0.908332  \n2                    -1.499897                     0.908332  \n3                    -1.499897                     0.908332  \n4                    -1.499897                     0.908332  \n\n[5 rows x 21 columns]",
      "text/html": "<div>\n<style scoped>\n    .dataframe tbody tr th:only-of-type {\n        vertical-align: middle;\n    }\n\n    .dataframe tbody tr th {\n        vertical-align: top;\n    }\n\n    .dataframe thead th {\n        text-align: right;\n    }\n</style>\n<table border=\"1\" class=\"dataframe\">\n  <thead>\n    <tr style=\"text-align: right;\">\n      <th></th>\n      <th>customerid</th>\n      <th>birthdate</th>\n      <th>longitude_gps</th>\n      <th>latitude_gps</th>\n      <th>is_missing_emp_status_clients</th>\n      <th>bank_account_type_0</th>\n      <th>bank_account_type_1</th>\n      <th>bank_name_clients_0</th>\n      <th>bank_name_clients_1</th>\n      <th>bank_name_clients_2</th>\n      <th>...</th>\n      <th>bank_name_clients_4</th>\n      <th>bank_name_clients_5</th>\n      <th>bank_name_clients_6</th>\n      <th>bank_name_clients_7</th>\n      <th>bank_name_clients_8</th>\n      <th>bank_name_clients_9</th>\n      <th>employment_status_clients_0</th>\n      <th>employment_status_clients_1</th>\n      <th>employment_status_clients_2</th>\n      <th>employment_status_clients_3</th>\n    </tr>\n  </thead>\n  <tbody>\n    <tr>\n      <th>0</th>\n      <td>8a858e135cb22031015cbafc76964ebd</td>\n      <td>1973-10-10</td>\n      <td>-0.181928</td>\n      <td>-0.236603</td>\n      <td>1</td>\n      <td>-0.028878</td>\n      <td>-0.855125</td>\n      <td>0.063461</td>\n      <td>-0.186302</td>\n      <td>1.173964</td>\n      <td>...</td>\n      <td>-0.154604</td>\n      <td>0.766620</td>\n      <td>-0.135906</td>\n      <td>0.285251</td>\n      <td>-0.012637</td>\n      <td>-0.010871</td>\n      <td>0.486133</td>\n      <td>0.341335</td>\n      <td>-1.499897</td>\n      <td>0.908332</td>\n    </tr>\n    <tr>\n      <th>1</th>\n      <td>8a858e275c7ea5ec015c82482d7c3996</td>\n      <td>1986-01-21</td>\n      <td>-0.181040</td>\n      <td>-0.043197</td>\n      <td>0</td>\n      <td>-0.028878</td>\n      <td>-0.855125</td>\n      <td>-0.123493</td>\n      <td>-2.284099</td>\n      <td>-1.671413</td>\n      <td>...</td>\n      <td>0.747014</td>\n      <td>-0.053674</td>\n      <td>-3.044296</td>\n      <td>1.864994</td>\n      <td>0.822281</td>\n      <td>2.384361</td>\n      <td>0.486133</td>\n      <td>0.341335</td>\n      <td>-1.499897</td>\n      <td>0.908332</td>\n    </tr>\n    <tr>\n      <th>2</th>\n      <td>8a858e5b5bd99460015bdc95cd485634</td>\n      <td>1987-04-01</td>\n      <td>0.155890</td>\n      <td>-0.552651</td>\n      <td>1</td>\n      <td>-0.028878</td>\n      <td>-0.855125</td>\n      <td>1.103828</td>\n      <td>0.777442</td>\n      <td>1.248884</td>\n      <td>...</td>\n      <td>-1.158112</td>\n      <td>-0.445147</td>\n      <td>0.017469</td>\n      <td>-0.171524</td>\n      <td>-0.475374</td>\n      <td>-0.648696</td>\n      <td>0.486133</td>\n      <td>0.341335</td>\n      <td>-1.499897</td>\n      <td>0.908332</td>\n    </tr>\n    <tr>\n      <th>3</th>\n      <td>8a858efd5ca70688015cabd1f1e94b55</td>\n      <td>1991-07-19</td>\n      <td>-0.175854</td>\n      <td>-0.199322</td>\n      <td>0</td>\n      <td>-0.028878</td>\n      <td>-0.855125</td>\n      <td>0.063461</td>\n      <td>-0.186302</td>\n      <td>1.173964</td>\n      <td>...</td>\n      <td>-0.154604</td>\n      <td>0.766620</td>\n      <td>-0.135906</td>\n      <td>0.285251</td>\n      <td>-0.012637</td>\n      <td>-0.010871</td>\n      <td>0.486133</td>\n      <td>0.341335</td>\n      <td>-1.499897</td>\n      <td>0.908332</td>\n    </tr>\n    <tr>\n      <th>4</th>\n      <td>8a858e785acd3412015acd48f4920d04</td>\n      <td>1982-11-22</td>\n      <td>0.533009</td>\n      <td>1.545177</td>\n      <td>0</td>\n      <td>-0.028878</td>\n      <td>-0.855125</td>\n      <td>0.063461</td>\n      <td>-0.186302</td>\n      <td>1.173964</td>\n      <td>...</td>\n      <td>-0.154604</td>\n      <td>0.766620</td>\n      <td>-0.135906</td>\n      <td>0.285251</td>\n      <td>-0.012637</td>\n      <td>-0.010871</td>\n      <td>0.486133</td>\n      <td>0.341335</td>\n      <td>-1.499897</td>\n      <td>0.908332</td>\n    </tr>\n  </tbody>\n</table>\n<p>5 rows × 21 columns</p>\n</div>"
     },
     "execution_count": 7,
     "metadata": {},
     "output_type": "execute_result"
    }
   ],
   "source": [
    "train_dg = embedder.transform(train_dg)\n",
    "train_dg.head()"
   ],
   "metadata": {
    "collapsed": false,
    "pycharm": {
     "name": "#%%\n"
    }
   }
  },
  {
   "cell_type": "code",
   "execution_count": 8,
   "outputs": [],
   "source": [
    "# Graph generation"
   ],
   "metadata": {
    "collapsed": false,
    "pycharm": {
     "name": "#%%\n"
    }
   }
  },
  {
   "cell_type": "code",
   "execution_count": 9,
   "outputs": [],
   "source": [
    "from loan_pred.preprocessing.graph_processing import generate_graphs_data\n",
    "\n",
    "graph_generator = generate_graphs_data(\n",
    "    loan=train_perf,\n",
    "    dg=train_dg,\n",
    "    prev_loan=train_prevloans\n",
    ")"
   ],
   "metadata": {
    "collapsed": false,
    "pycharm": {
     "name": "#%%\n"
    }
   }
  },
  {
   "cell_type": "code",
   "execution_count": 10,
   "outputs": [
    {
     "name": "stdout",
     "output_type": "stream",
     "text": [
      "{'id': 0, 'user_id': '8a2a81a74ce8c05d014cfb32a0da1049', 'label': 1, 'node_loans': [[1.868964712900149, 1.1342024378353102, 1.1088983044984644, 0.06413962696284115, 0.9105374790315618]], 'node_dg': [[-0.16622738032006648, -0.2678823639894638, 0.0, 2.2026453018188477, 1.5976506471633911, -1.425376296043396, 0.36965134739875793, 1.0473814010620117, 1.9874283075332642, 0.24556586146354675, 1.1803208589553833, 0.15472577512264252, -1.920318365097046, -0.8908156752586365, -0.6241723299026489, 0.4861326813697815, 0.34133508801460266, -1.4998971223831177, 0.9083321690559387]], 'node_prevloans': [[-0.673771321016832, -0.6975358677579336, -0.6287764937273944, 0.30213165900863986, -0.5569429447405659, 0.6183781593635554, -0.5432506713248281], [1.4804723804160946, -0.6975358677579336, -0.6287764937273944, 0.30213165900863986, 0.4240673261638455, 0.897377937823334, 0.36500371102529966], [1.172723280211391, 0.3753919808058758, 0.4043250555812386, 0.30213165900863986, 2.159700882379343, 0.6183781593635554, 2.429218216366499], [1.7882214806207986, 0.3753919808058758, 0.47128534118457593, 0.30213165900863986, 0.04675568350830268, 0.897377937823334, 0.11729797038435574], [2.0959705808255022, 0.3753919808058758, 0.47128534118457593, 0.30213165900863986, 0.1976803405705198, 1.0368778270532233, 0.28243513081165167], [0.5572250798019833, 0.3753919808058758, 0.4043250555812386, 0.30213165900863986, 3.36709813887708, 0.6183781593635554, 3.7503154997848664], [-0.058273120607424365, 0.3753919808058758, 0.47128534118457593, 0.30213165900863986, 0.4995296546949541, 0.7578780485934448, 0.6127094516662436], [0.8649741800066871, 0.3753919808058758, 0.4043250555812386, 0.30213165900863986, -1.6888778727071945, 0.6183781593635554, -1.7817793745295476], [-0.9815204212215358, -0.6975358677579336, -0.6287764937273944, 0.30213165900863986, -1.3870285585827602, 0.6183781593635554, -1.4515050536749556], [-0.3660222208121282, 0.3753919808058758, 0.47128534118457593, 0.30213165900863986, 0.4240673261638455, 0.6183781593635554, 0.5301408714525956], [0.24947597959727946, 1.4483198293696853, 1.4278608498036804, 0.30213165900863986, 1.556002254130474, 0.6183781593635554, 1.7686695746573151]]}\n"
     ]
    }
   ],
   "source": [
    "for k, v in enumerate(graph_generator):\n",
    "    print(v)\n",
    "    break"
   ],
   "metadata": {
    "collapsed": false,
    "pycharm": {
     "name": "#%%\n"
    }
   }
  },
  {
   "cell_type": "code",
   "execution_count": 16,
   "outputs": [],
   "source": [
    "data = {'id': 0, 'user_id': '8a2a81a74ce8c05d014cfb32a0da1049', 'label': 1, 'node_loans': [\n",
    "    [1.868964712900149, 1.1342024378353102, 1.1088983044984644, 0.06413962696284115, 0.9105374790315618]], 'node_dg': [\n",
    "    [-0.16622738032006648, -0.2678823639894638, 0.0, 2.2026453018188477, 1.5976506471633911, -1.425376296043396,\n",
    "     0.36965134739875793, 1.0473814010620117, 1.9874283075332642, 0.24556586146354675, 1.1803208589553833,\n",
    "     0.15472577512264252, -1.920318365097046, -0.8908156752586365, -0.6241723299026489, 0.4861326813697815,\n",
    "     0.34133508801460266, -1.4998971223831177, 0.9083321690559387]], 'node_prevloans': [\n",
    "    [-0.673771321016832, -0.6975358677579336, -0.6287764937273944, 0.30213165900863986, -0.5569429447405659,\n",
    "     0.6183781593635554, -0.5432506713248281],\n",
    "    [1.4804723804160946, -0.6975358677579336, -0.6287764937273944, 0.30213165900863986, 0.4240673261638455,\n",
    "     0.897377937823334, 0.36500371102529966],\n",
    "    [1.172723280211391, 0.3753919808058758, 0.4043250555812386, 0.30213165900863986, 2.159700882379343,\n",
    "     0.6183781593635554, 2.429218216366499],\n",
    "    [1.7882214806207986, 0.3753919808058758, 0.47128534118457593, 0.30213165900863986, 0.04675568350830268,\n",
    "     0.897377937823334, 0.11729797038435574],\n",
    "    [2.0959705808255022, 0.3753919808058758, 0.47128534118457593, 0.30213165900863986, 0.1976803405705198,\n",
    "     1.0368778270532233, 0.28243513081165167],\n",
    "    [0.5572250798019833, 0.3753919808058758, 0.4043250555812386, 0.30213165900863986, 3.36709813887708,\n",
    "     0.6183781593635554, 3.7503154997848664],\n",
    "    [-0.058273120607424365, 0.3753919808058758, 0.47128534118457593, 0.30213165900863986, 0.4995296546949541,\n",
    "     0.7578780485934448, 0.6127094516662436],\n",
    "    [0.8649741800066871, 0.3753919808058758, 0.4043250555812386, 0.30213165900863986, -1.6888778727071945,\n",
    "     0.6183781593635554, -1.7817793745295476],\n",
    "    [-0.9815204212215358, -0.6975358677579336, -0.6287764937273944, 0.30213165900863986, -1.3870285585827602,\n",
    "     0.6183781593635554, -1.4515050536749556],\n",
    "    [-0.3660222208121282, 0.3753919808058758, 0.47128534118457593, 0.30213165900863986, 0.4240673261638455,\n",
    "     0.6183781593635554, 0.5301408714525956],\n",
    "    [0.24947597959727946, 1.4483198293696853, 1.4278608498036804, 0.30213165900863986, 1.556002254130474,\n",
    "     0.6183781593635554, 1.7686695746573151]]}"
   ],
   "metadata": {
    "collapsed": false,
    "pycharm": {
     "name": "#%%\n"
    }
   }
  },
  {
   "cell_type": "code",
   "execution_count": 17,
   "outputs": [],
   "source": [
    "heterograph = HeteroData()\n",
    "\n",
    "heterograph[\"node_loans\"].x = np.array(data[\"node_loans\"])\n",
    "heterograph[\"node_dg\"].x = np.array(data[\"node_dg\"])\n",
    "heterograph[\"node_prevloans\"].x = np.array(data[\"node_prevloans\"])"
   ],
   "metadata": {
    "collapsed": false,
    "pycharm": {
     "name": "#%%\n"
    }
   }
  },
  {
   "cell_type": "code",
   "execution_count": 18,
   "outputs": [
    {
     "data": {
      "text/plain": "HeteroData(\n  \u001B[1mnode_loans\u001B[0m={ x=[1, 5] },\n  \u001B[1mnode_dg\u001B[0m={ x=[1, 19] },\n  \u001B[1mnode_prevloans\u001B[0m={ x=[11, 7] }\n)"
     },
     "execution_count": 18,
     "metadata": {},
     "output_type": "execute_result"
    }
   ],
   "source": [
    "heterograph"
   ],
   "metadata": {
    "collapsed": false,
    "pycharm": {
     "name": "#%%\n"
    }
   }
  },
  {
   "cell_type": "code",
   "execution_count": 19,
   "outputs": [],
   "source": [
    "def set_edges(data: dict, graph):\n",
    "    for node in [\"node_prevloans\", \"node_dg\"]:\n",
    "        node_ids = list(range(len(data[node])))\n",
    "        if len(node_ids) > 0:\n",
    "            edges = np.array([[0] * len(node_ids), node_ids])\n",
    "            graph[\"node_loans\", \"has\", node].edge_index = edges\n",
    "    return graph"
   ],
   "metadata": {
    "collapsed": false,
    "pycharm": {
     "name": "#%%\n"
    }
   }
  },
  {
   "cell_type": "code",
   "execution_count": 20,
   "outputs": [],
   "source": [
    "graph = set_edges(data, heterograph)"
   ],
   "metadata": {
    "collapsed": false,
    "pycharm": {
     "name": "#%%\n"
    }
   }
  },
  {
   "cell_type": "code",
   "execution_count": 131,
   "outputs": [],
   "source": [
    "feats = {}\n",
    "for node in [\"node_prevloans\", \"node_dg\"]:\n",
    "    node_ids = list(range(len(data[node])))\n",
    "    if len(node_ids) > 0:\n",
    "        rel = \"has\" if node == \"node_prevloans\" else \"lives\"\n",
    "        test_[(\"node_loans\", rel, node)] = (np.array([0] * len(node_ids)), np.array(node_ids))\n",
    "\n",
    "\n",
    "def get_node_feat(data):\n",
    "    feat_n = {\n",
    "        \"node_loans\": torch.tensor(data[\"node_loans\"]),\n",
    "        \"node_dg\": torch.tensor(data[\"node_dg\"]),\n",
    "        \"node_prevloans\": torch.tensor(data[\"node_prevloans\"])\n",
    "    }\n",
    "    return feat_n"
   ],
   "metadata": {
    "collapsed": false,
    "pycharm": {
     "name": "#%%\n"
    }
   }
  },
  {
   "cell_type": "code",
   "execution_count": 132,
   "outputs": [
    {
     "data": {
      "text/plain": "{('node_loans',\n  'has',\n  'node_prevloans'): (array([0, 0, 0, 0, 0, 0, 0, 0, 0, 0, 0]), array([ 0,  1,  2,  3,  4,  5,  6,  7,  8,  9, 10])),\n ('node_loans', 'lives', 'node_dg'): (array([0]), array([0]))}"
     },
     "execution_count": 132,
     "metadata": {},
     "output_type": "execute_result"
    }
   ],
   "source": [
    "test_"
   ],
   "metadata": {
    "collapsed": false,
    "pycharm": {
     "name": "#%%\n"
    }
   }
  },
  {
   "cell_type": "code",
   "execution_count": 133,
   "outputs": [],
   "source": [
    "rt = dgl.heterograph(test_)"
   ],
   "metadata": {
    "collapsed": false,
    "pycharm": {
     "name": "#%%\n"
    }
   }
  },
  {
   "cell_type": "code",
   "execution_count": 134,
   "outputs": [],
   "source": [
    "rt.nodes[\"node_loans\"].data[\"feat\"] = torch.tensor(data[\"node_loans\"])\n",
    "rt.nodes[\"node_dg\"].data[\"feat\"] = torch.tensor(data[\"node_dg\"])\n",
    "rt.nodes[\"node_prevloans\"].data[\"feat\"] = torch.tensor(data[\"node_prevloans\"])"
   ],
   "metadata": {
    "collapsed": false,
    "pycharm": {
     "name": "#%%\n"
    }
   }
  },
  {
   "cell_type": "code",
   "execution_count": 135,
   "outputs": [
    {
     "data": {
      "text/plain": "NodeSpace(data={'feat': tensor([[-0.6738, -0.6975, -0.6288,  0.3021, -0.5569,  0.6184, -0.5433],\n        [ 1.4805, -0.6975, -0.6288,  0.3021,  0.4241,  0.8974,  0.3650],\n        [ 1.1727,  0.3754,  0.4043,  0.3021,  2.1597,  0.6184,  2.4292],\n        [ 1.7882,  0.3754,  0.4713,  0.3021,  0.0468,  0.8974,  0.1173],\n        [ 2.0960,  0.3754,  0.4713,  0.3021,  0.1977,  1.0369,  0.2824],\n        [ 0.5572,  0.3754,  0.4043,  0.3021,  3.3671,  0.6184,  3.7503],\n        [-0.0583,  0.3754,  0.4713,  0.3021,  0.4995,  0.7579,  0.6127],\n        [ 0.8650,  0.3754,  0.4043,  0.3021, -1.6889,  0.6184, -1.7818],\n        [-0.9815, -0.6975, -0.6288,  0.3021, -1.3870,  0.6184, -1.4515],\n        [-0.3660,  0.3754,  0.4713,  0.3021,  0.4241,  0.6184,  0.5301],\n        [ 0.2495,  1.4483,  1.4279,  0.3021,  1.5560,  0.6184,  1.7687]])})"
     },
     "execution_count": 135,
     "metadata": {},
     "output_type": "execute_result"
    }
   ],
   "source": [
    "rt.nodes[\"node_prevloans\"]"
   ],
   "metadata": {
    "collapsed": false,
    "pycharm": {
     "name": "#%%\n"
    }
   }
  },
  {
   "cell_type": "code",
   "execution_count": 104,
   "outputs": [
    {
     "data": {
      "text/plain": "[('node_loans', 'has', 'node_prevloans'), ('node_loans', 'lives', 'node_dg')]"
     },
     "execution_count": 104,
     "metadata": {},
     "output_type": "execute_result"
    }
   ],
   "source": [
    "rt.canonical_etypes"
   ],
   "metadata": {
    "collapsed": false,
    "pycharm": {
     "name": "#%%\n"
    }
   }
  },
  {
   "cell_type": "code",
   "execution_count": 151,
   "outputs": [],
   "source": [
    "dg = rt.ndata[\"feat\"][\"node_dg\"]\n",
    "loan = rt.ndata[\"feat\"][\"node_loans\"]\n",
    "prev = rt.ndata[\"feat\"][\"node_prevloans\"]"
   ],
   "metadata": {
    "collapsed": false,
    "pycharm": {
     "name": "#%%\n"
    }
   }
  },
  {
   "cell_type": "code",
   "execution_count": 175,
   "outputs": [
    {
     "data": {
      "text/plain": "tensor([-0.1662, -0.2679,  0.0000,  2.2026,  1.5977, -1.4254,  0.3697,  1.0474,\n         1.9874,  0.2456,  1.1803,  0.1547, -1.9203, -0.8908, -0.6242,  0.4861,\n         0.3413, -1.4999,  0.9083,  1.8690,  1.1342,  1.1089,  0.0641,  0.9105,\n        -0.6738, -0.6975, -0.6288,  0.3021, -0.5569,  0.6184, -0.5433,  1.4805,\n        -0.6975, -0.6288,  0.3021,  0.4241,  0.8974,  0.3650,  1.1727,  0.3754,\n         0.4043,  0.3021,  2.1597,  0.6184,  2.4292,  1.7882,  0.3754,  0.4713,\n         0.3021,  0.0468,  0.8974,  0.1173,  2.0960,  0.3754,  0.4713,  0.3021,\n         0.1977,  1.0369,  0.2824,  0.5572,  0.3754,  0.4043,  0.3021,  3.3671,\n         0.6184,  3.7503, -0.0583,  0.3754,  0.4713,  0.3021,  0.4995,  0.7579,\n         0.6127,  0.8650,  0.3754,  0.4043,  0.3021, -1.6889,  0.6184, -1.7818,\n        -0.9815, -0.6975, -0.6288,  0.3021, -1.3870,  0.6184, -1.4515, -0.3660,\n         0.3754,  0.4713,  0.3021,  0.4241,  0.6184,  0.5301,  0.2495,  1.4483,\n         1.4279,  0.3021,  1.5560,  0.6184,  1.7687])"
     },
     "execution_count": 175,
     "metadata": {},
     "output_type": "execute_result"
    }
   ],
   "source": [
    "torch.cat((dg.flatten(), loan.flatten(), prev.flatten()))"
   ],
   "metadata": {
    "collapsed": false,
    "pycharm": {
     "name": "#%%\n"
    }
   }
  },
  {
   "cell_type": "code",
   "execution_count": 355,
   "outputs": [],
   "source": [
    "data = {'id': 0, 'user_id': '8a2a81a74ce8c05d014cfb32a0da1049', 'label': 1, 'node_loans': [\n",
    "    [1.868964712900149, 1.1342024378353102, 1.1088983044984644, 0.06413962696284115, 0.9105374790315618]], 'node_dg': [\n",
    "    [-0.16622738032006648, -0.2678823639894638, 0.0, 2.2026453018188477, 1.5976506471633911, -1.425376296043396,\n",
    "     0.36965134739875793, 1.0473814010620117, 1.9874283075332642, 0.24556586146354675, 1.1803208589553833,\n",
    "     0.15472577512264252, -1.920318365097046, -0.8908156752586365, -0.6241723299026489, 0.4861326813697815,\n",
    "     0.34133508801460266, -1.4998971223831177, 0.9083321690559387]], 'node_prevloans': [\n",
    "    [-0.673771321016832, -0.6975358677579336, -0.6287764937273944, 0.30213165900863986, -0.5569429447405659,\n",
    "     0.6183781593635554, -0.5432506713248281],\n",
    "    [1.4804723804160946, -0.6975358677579336, -0.6287764937273944, 0.30213165900863986, 0.4240673261638455,\n",
    "     0.897377937823334, 0.36500371102529966],\n",
    "    [1.172723280211391, 0.3753919808058758, 0.4043250555812386, 0.30213165900863986, 2.159700882379343,\n",
    "     0.6183781593635554, 2.429218216366499],\n",
    "    [1.7882214806207986, 0.3753919808058758, 0.47128534118457593, 0.30213165900863986, 0.04675568350830268,\n",
    "     0.897377937823334, 0.11729797038435574],\n",
    "    [2.0959705808255022, 0.3753919808058758, 0.47128534118457593, 0.30213165900863986, 0.1976803405705198,\n",
    "     1.0368778270532233, 0.28243513081165167],\n",
    "    [0.5572250798019833, 0.3753919808058758, 0.4043250555812386, 0.30213165900863986, 3.36709813887708,\n",
    "     0.6183781593635554, 3.7503154997848664],\n",
    "    [-0.058273120607424365, 0.3753919808058758, 0.47128534118457593, 0.30213165900863986, 0.4995296546949541,\n",
    "     0.7578780485934448, 0.6127094516662436],\n",
    "    [0.8649741800066871, 0.3753919808058758, 0.4043250555812386, 0.30213165900863986, -1.6888778727071945,\n",
    "     0.6183781593635554, -1.7817793745295476],\n",
    "    [-0.9815204212215358, -0.6975358677579336, -0.6287764937273944, 0.30213165900863986, -1.3870285585827602,\n",
    "     0.6183781593635554, -1.4515050536749556],\n",
    "    [-0.3660222208121282, 0.3753919808058758, 0.47128534118457593, 0.30213165900863986, 0.4240673261638455,\n",
    "     0.6183781593635554, 0.5301408714525956],\n",
    "    [0.24947597959727946, 1.4483198293696853, 1.4278608498036804, 0.30213165900863986, 1.556002254130474,\n",
    "     0.6183781593635554, 1.7686695746573151]]}"
   ],
   "metadata": {
    "collapsed": false,
    "pycharm": {
     "name": "#%%\n"
    }
   }
  },
  {
   "cell_type": "code",
   "execution_count": 356,
   "outputs": [],
   "source": [
    "\n",
    "import numpy as np\n",
    "import torch\n",
    "\n",
    "test_ = {}\n",
    "for node in [\"node_prevloans\", \"node_dg\"]:\n",
    "    node_ids = list(range(len(data[node])))\n",
    "    if len(node_ids) > 0:\n",
    "        if node == \"node_prevloans\":\n",
    "            rel = \"has\"\n",
    "        else:\n",
    "            rel = \"lives\"\n",
    "        test_[(\"node_loans\", rel, node)] = (np.array([0] * len(node_ids)), np.array(node_ids))"
   ],
   "metadata": {
    "collapsed": false,
    "pycharm": {
     "name": "#%%\n"
    }
   }
  },
  {
   "cell_type": "code",
   "execution_count": 357,
   "outputs": [],
   "source": [
    "g = dgl.heterograph(test_)\n",
    "g.nodes[\"node_loans\"].data[\"feat\"] = torch.tensor(data[\"node_loans\"])\n",
    "g.nodes[\"node_dg\"].data[\"feat\"] = torch.tensor(data[\"node_dg\"])\n",
    "g.nodes[\"node_prevloans\"].data[\"feat\"] = torch.tensor(data[\"node_prevloans\"])"
   ],
   "metadata": {
    "collapsed": false,
    "pycharm": {
     "name": "#%%\n"
    }
   }
  },
  {
   "cell_type": "code",
   "execution_count": 358,
   "outputs": [],
   "source": [
    "features = g.ndata[\"feat\"]\n",
    "feat = {\n",
    "    'node_dg': g.ndata['feat']['node_dg'],\n",
    "    'node_prevloans': g.ndata['feat']['node_prevloans']\n",
    "}"
   ],
   "metadata": {
    "collapsed": false,
    "pycharm": {
     "name": "#%%\n"
    }
   }
  },
  {
   "cell_type": "code",
   "execution_count": 392,
   "outputs": [],
   "source": [
    "import dgl.nn.pytorch as dglnn\n",
    "\n",
    "conv1 = dglnn.HeteroGraphConv(\n",
    "    {\n",
    "        'has': dglnn.GraphConv(in_feats=5, out_feats=3, norm='both', weight=True, bias=True, activation=F.relu),\n",
    "        'lives': dglnn.GraphConv(in_feats=5, out_feats=3, norm='both', weight=True, bias=True, activation=F.relu)\n",
    "    },\n",
    "    aggregate='sum'\n",
    ")\n",
    "conv2 = dglnn.HeteroGraphConv(\n",
    "    {\n",
    "        'has': dglnn.GraphConv(in_feats=5, out_feats=3, norm='both', weight=True, bias=True, activation=F.relu),\n",
    "        'lives': dglnn.GraphConv(in_feats=5, out_feats=3, norm='both', weight=True, bias=True, activation=F.relu)\n",
    "    },\n",
    "    aggregate='sum',\n",
    ")"
   ],
   "metadata": {
    "collapsed": false,
    "pycharm": {
     "name": "#%%\n"
    }
   }
  },
  {
   "cell_type": "code",
   "execution_count": 393,
   "outputs": [],
   "source": [
    "res2 = conv1(g, features)\n",
    "h = {k: F.relu(v) for k, v in res2.items()}\n",
    "h['node_loans'] = g.ndata[\"feat\"]['node_loans']\n",
    "res3 = conv2(g, h)"
   ],
   "metadata": {
    "collapsed": false,
    "pycharm": {
     "name": "#%%\n"
    }
   }
  },
  {
   "cell_type": "code",
   "execution_count": 394,
   "outputs": [
    {
     "data": {
      "text/plain": "tensor([[0.5572, 0.1803, 0.2400, 0.3021, 0.4584, 0.7198, 0.5527]])"
     },
     "execution_count": 394,
     "metadata": {},
     "output_type": "execute_result"
    }
   ],
   "source": [
    "dgl.mean_nodes(g, 'feat', ntype='node_prevloans')"
   ],
   "metadata": {
    "collapsed": false,
    "pycharm": {
     "name": "#%%\n"
    }
   }
  },
  {
   "cell_type": "code",
   "execution_count": 395,
   "outputs": [
    {
     "data": {
      "text/plain": "{'node_dg': tensor([[-0.1662, -0.2679,  0.0000,  2.2026,  1.5977, -1.4254,  0.3697,  1.0474,\n           1.9874,  0.2456,  1.1803,  0.1547, -1.9203, -0.8908, -0.6242,  0.4861,\n           0.3413, -1.4999,  0.9083]]),\n 'node_loans': tensor([[1.8690, 1.1342, 1.1089, 0.0641, 0.9105]]),\n 'node_prevloans': tensor([[-0.6738, -0.6975, -0.6288,  0.3021, -0.5569,  0.6184, -0.5433],\n         [ 1.4805, -0.6975, -0.6288,  0.3021,  0.4241,  0.8974,  0.3650],\n         [ 1.1727,  0.3754,  0.4043,  0.3021,  2.1597,  0.6184,  2.4292],\n         [ 1.7882,  0.3754,  0.4713,  0.3021,  0.0468,  0.8974,  0.1173],\n         [ 2.0960,  0.3754,  0.4713,  0.3021,  0.1977,  1.0369,  0.2824],\n         [ 0.5572,  0.3754,  0.4043,  0.3021,  3.3671,  0.6184,  3.7503],\n         [-0.0583,  0.3754,  0.4713,  0.3021,  0.4995,  0.7579,  0.6127],\n         [ 0.8650,  0.3754,  0.4043,  0.3021, -1.6889,  0.6184, -1.7818],\n         [-0.9815, -0.6975, -0.6288,  0.3021, -1.3870,  0.6184, -1.4515],\n         [-0.3660,  0.3754,  0.4713,  0.3021,  0.4241,  0.6184,  0.5301],\n         [ 0.2495,  1.4483,  1.4279,  0.3021,  1.5560,  0.6184,  1.7687]])}"
     },
     "execution_count": 395,
     "metadata": {},
     "output_type": "execute_result"
    }
   ],
   "source": [
    "features"
   ],
   "metadata": {
    "collapsed": false,
    "pycharm": {
     "name": "#%%\n"
    }
   }
  },
  {
   "cell_type": "code",
   "execution_count": 396,
   "outputs": [
    {
     "data": {
      "text/plain": "{'node_dg': tensor([[0.0000, 0.9212, 1.6309]], grad_fn=<ReluBackward0>),\n 'node_prevloans': tensor([[0.5591, 0.0000, 0.0000],\n         [0.5591, 0.0000, 0.0000],\n         [0.5591, 0.0000, 0.0000],\n         [0.5591, 0.0000, 0.0000],\n         [0.5591, 0.0000, 0.0000],\n         [0.5591, 0.0000, 0.0000],\n         [0.5591, 0.0000, 0.0000],\n         [0.5591, 0.0000, 0.0000],\n         [0.5591, 0.0000, 0.0000],\n         [0.5591, 0.0000, 0.0000],\n         [0.5591, 0.0000, 0.0000]], grad_fn=<ReluBackward0>),\n 'node_loans': tensor([[1.8690, 1.1342, 1.1089, 0.0641, 0.9105]])}"
     },
     "execution_count": 396,
     "metadata": {},
     "output_type": "execute_result"
    }
   ],
   "source": [
    "h"
   ],
   "metadata": {
    "collapsed": false,
    "pycharm": {
     "name": "#%%\n"
    }
   }
  },
  {
   "cell_type": "code",
   "execution_count": 397,
   "outputs": [
    {
     "data": {
      "text/plain": "{'node_dg': tensor([[0., 0., 0.]], grad_fn=<SumBackward1>),\n 'node_prevloans': tensor([[0.3872, 0.0000, 0.0000],\n         [0.3872, 0.0000, 0.0000],\n         [0.3872, 0.0000, 0.0000],\n         [0.3872, 0.0000, 0.0000],\n         [0.3872, 0.0000, 0.0000],\n         [0.3872, 0.0000, 0.0000],\n         [0.3872, 0.0000, 0.0000],\n         [0.3872, 0.0000, 0.0000],\n         [0.3872, 0.0000, 0.0000],\n         [0.3872, 0.0000, 0.0000],\n         [0.3872, 0.0000, 0.0000]], grad_fn=<SumBackward1>)}"
     },
     "execution_count": 397,
     "metadata": {},
     "output_type": "execute_result"
    }
   ],
   "source": [
    "res3"
   ],
   "metadata": {
    "collapsed": false,
    "pycharm": {
     "name": "#%%\n"
    }
   }
  },
  {
   "cell_type": "code",
   "execution_count": null,
   "outputs": [],
   "source": [],
   "metadata": {
    "collapsed": false,
    "pycharm": {
     "name": "#%%\n"
    }
   }
  }
 ],
 "metadata": {
  "kernelspec": {
   "display_name": "Python 3",
   "language": "python",
   "name": "python3"
  },
  "language_info": {
   "codemirror_mode": {
    "name": "ipython",
    "version": 2
   },
   "file_extension": ".py",
   "mimetype": "text/x-python",
   "name": "python",
   "nbconvert_exporter": "python",
   "pygments_lexer": "ipython2",
   "version": "2.7.6"
  }
 },
 "nbformat": 4,
 "nbformat_minor": 0
}
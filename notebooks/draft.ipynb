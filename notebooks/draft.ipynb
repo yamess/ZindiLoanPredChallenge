{
 "cells": [
  {
   "cell_type": "code",
   "execution_count": 1,
   "metadata": {
    "collapsed": true
   },
   "outputs": [],
   "source": [
    "import pandas as pd"
   ]
  },
  {
   "cell_type": "markdown",
   "source": [
    "## Explorations datasets"
   ],
   "metadata": {
    "collapsed": false,
    "pycharm": {
     "name": "#%% md\n"
    }
   }
  },
  {
   "cell_type": "markdown",
   "source": [
    "### I- Data: traindemographics dataset"
   ],
   "metadata": {
    "collapsed": false,
    "pycharm": {
     "name": "#%% md\n"
    }
   }
  },
  {
   "cell_type": "code",
   "execution_count": 2,
   "outputs": [
    {
     "data": {
      "text/plain": "                         customerid                   birthdate  \\\n0  8a858e135cb22031015cbafc76964ebd  1973-10-10 00:00:00.000000   \n1  8a858e275c7ea5ec015c82482d7c3996  1986-01-21 00:00:00.000000   \n2  8a858e5b5bd99460015bdc95cd485634  1987-04-01 00:00:00.000000   \n3  8a858efd5ca70688015cabd1f1e94b55  1991-07-19 00:00:00.000000   \n4  8a858e785acd3412015acd48f4920d04  1982-11-22 00:00:00.000000   \n\n  bank_account_type  longitude_gps  latitude_gps bank_name_clients  \\\n0           Savings       3.319219      6.528604           GT Bank   \n1           Savings       3.325598      7.119403     Sterling Bank   \n2           Savings       5.746100      5.563174     Fidelity Bank   \n3           Savings       3.362850      6.642485           GT Bank   \n4           Savings       8.455332     11.971410           GT Bank   \n\n  bank_branch_clients employment_status_clients level_of_education_clients  \n0                 NaN                       NaN                        NaN  \n1                 NaN                 Permanent                        NaN  \n2                 NaN                       NaN                        NaN  \n3                 NaN                 Permanent                        NaN  \n4                 NaN                 Permanent                        NaN  ",
      "text/html": "<div>\n<style scoped>\n    .dataframe tbody tr th:only-of-type {\n        vertical-align: middle;\n    }\n\n    .dataframe tbody tr th {\n        vertical-align: top;\n    }\n\n    .dataframe thead th {\n        text-align: right;\n    }\n</style>\n<table border=\"1\" class=\"dataframe\">\n  <thead>\n    <tr style=\"text-align: right;\">\n      <th></th>\n      <th>customerid</th>\n      <th>birthdate</th>\n      <th>bank_account_type</th>\n      <th>longitude_gps</th>\n      <th>latitude_gps</th>\n      <th>bank_name_clients</th>\n      <th>bank_branch_clients</th>\n      <th>employment_status_clients</th>\n      <th>level_of_education_clients</th>\n    </tr>\n  </thead>\n  <tbody>\n    <tr>\n      <th>0</th>\n      <td>8a858e135cb22031015cbafc76964ebd</td>\n      <td>1973-10-10 00:00:00.000000</td>\n      <td>Savings</td>\n      <td>3.319219</td>\n      <td>6.528604</td>\n      <td>GT Bank</td>\n      <td>NaN</td>\n      <td>NaN</td>\n      <td>NaN</td>\n    </tr>\n    <tr>\n      <th>1</th>\n      <td>8a858e275c7ea5ec015c82482d7c3996</td>\n      <td>1986-01-21 00:00:00.000000</td>\n      <td>Savings</td>\n      <td>3.325598</td>\n      <td>7.119403</td>\n      <td>Sterling Bank</td>\n      <td>NaN</td>\n      <td>Permanent</td>\n      <td>NaN</td>\n    </tr>\n    <tr>\n      <th>2</th>\n      <td>8a858e5b5bd99460015bdc95cd485634</td>\n      <td>1987-04-01 00:00:00.000000</td>\n      <td>Savings</td>\n      <td>5.746100</td>\n      <td>5.563174</td>\n      <td>Fidelity Bank</td>\n      <td>NaN</td>\n      <td>NaN</td>\n      <td>NaN</td>\n    </tr>\n    <tr>\n      <th>3</th>\n      <td>8a858efd5ca70688015cabd1f1e94b55</td>\n      <td>1991-07-19 00:00:00.000000</td>\n      <td>Savings</td>\n      <td>3.362850</td>\n      <td>6.642485</td>\n      <td>GT Bank</td>\n      <td>NaN</td>\n      <td>Permanent</td>\n      <td>NaN</td>\n    </tr>\n    <tr>\n      <th>4</th>\n      <td>8a858e785acd3412015acd48f4920d04</td>\n      <td>1982-11-22 00:00:00.000000</td>\n      <td>Savings</td>\n      <td>8.455332</td>\n      <td>11.971410</td>\n      <td>GT Bank</td>\n      <td>NaN</td>\n      <td>Permanent</td>\n      <td>NaN</td>\n    </tr>\n  </tbody>\n</table>\n</div>"
     },
     "execution_count": 2,
     "metadata": {},
     "output_type": "execute_result"
    }
   ],
   "source": [
    "train_dg = pd.read_csv(\"../data/raw_data/train/traindemographics.csv\")\n",
    "train_dg.head()"
   ],
   "metadata": {
    "collapsed": false,
    "pycharm": {
     "name": "#%%\n"
    }
   }
  },
  {
   "cell_type": "code",
   "execution_count": 4,
   "outputs": [
    {
     "data": {
      "text/plain": "(4346, 9)"
     },
     "execution_count": 4,
     "metadata": {},
     "output_type": "execute_result"
    }
   ],
   "source": [
    "train_dg.shape"
   ],
   "metadata": {
    "collapsed": false,
    "pycharm": {
     "name": "#%%\n"
    }
   }
  },
  {
   "cell_type": "code",
   "execution_count": 7,
   "outputs": [
    {
     "data": {
      "text/plain": "customerid                     0.000000\nbirthdate                      0.000000\nbank_account_type              0.000000\nlongitude_gps                  0.000000\nlatitude_gps                   0.000000\nbank_name_clients              0.000000\nbank_branch_clients           98.826507\nemployment_status_clients     14.910262\nlevel_of_education_clients    86.493327\ndtype: float64"
     },
     "execution_count": 7,
     "metadata": {},
     "output_type": "execute_result"
    }
   ],
   "source": [
    "# Purcentage of data that is missing\n",
    "train_dg.isnull().sum()/train_dg.shape[0] * 100"
   ],
   "metadata": {
    "collapsed": false,
    "pycharm": {
     "name": "#%%\n"
    }
   }
  },
  {
   "cell_type": "markdown",
   "source": [
    "We notice that the column bank_branch_clients and level_of_education_clients and mainly missing more than 85%. We will remove those two columns. We will impute the missing values of the column employment_status_clients"
   ],
   "metadata": {
    "collapsed": false,
    "pycharm": {
     "name": "#%% md\n"
    }
   }
  },
  {
   "cell_type": "code",
   "execution_count": null,
   "outputs": [],
   "source": [],
   "metadata": {
    "collapsed": false,
    "pycharm": {
     "name": "#%%\n"
    }
   }
  }
 ],
 "metadata": {
  "kernelspec": {
   "display_name": "Python 3",
   "language": "python",
   "name": "python3"
  },
  "language_info": {
   "codemirror_mode": {
    "name": "ipython",
    "version": 2
   },
   "file_extension": ".py",
   "mimetype": "text/x-python",
   "name": "python",
   "nbconvert_exporter": "python",
   "pygments_lexer": "ipython2",
   "version": "2.7.6"
  }
 },
 "nbformat": 4,
 "nbformat_minor": 0
}
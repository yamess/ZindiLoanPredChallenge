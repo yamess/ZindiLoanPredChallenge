{
 "cells": [
  {
   "cell_type": "code",
   "execution_count": 92,
   "outputs": [],
   "source": [
    "% load_ext autoreload\n",
    "% autoreload 2"
   ],
   "metadata": {
    "collapsed": false,
    "pycharm": {
     "name": "#%%\n"
    }
   }
  },
  {
   "cell_type": "code",
   "execution_count": 190,
   "metadata": {
    "collapsed": true
   },
   "outputs": [],
   "source": [
    "import dgl\n",
    "import numpy as np\n",
    "import pandas as pd\n",
    "import torch\n",
    "from sklearn.metrics import roc_auc_score\n",
    "from sklearn.model_selection import train_test_split\n",
    "from torch.utils.data import DataLoader, RandomSampler\n",
    "\n",
    "from src.loan_pred.models.models import CategoricalEmbeddingModel\n",
    "from src.loan_pred.preprocessing.embedding import CategoricalEmbeddingSizes, CreateTensorDataset\n",
    "from src.loan_pred.preprocessing.preprocess import (\n",
    "    MultiLabelEncoder, TargetEncoder, convert_dtype, CustomScalerPerf, generate_graph\n",
    ")"
   ]
  },
  {
   "cell_type": "code",
   "execution_count": 143,
   "outputs": [
    {
     "data": {
      "text/plain": "                         customerid  loannumber  loanamount  totaldue  \\\n0  8a2a81a74ce8c05d014cfb32a0da1049   -0.673771   -0.697536 -0.628776   \n1  8a2a81a74ce8c05d014cfb32a0da1049    1.480472   -0.697536 -0.628776   \n2  8a2a81a74ce8c05d014cfb32a0da1049    1.172723    0.375392  0.404325   \n3  8a8588f35438fe12015444567666018e    0.249476   -0.697536 -0.772263   \n4  8a85890754145ace015429211b513e16   -0.673771   -0.697536 -0.772263   \n\n   termdays  closeddate_days  firstduedate_days  firstrepaiddate_days  \n0  0.302132        -0.556943           0.618378             -0.543251  \n1  0.302132         0.424067           0.897378              0.365004  \n2  0.302132         2.159701           0.618378              2.429218  \n3 -1.068200        -0.707868          -1.474120             -0.708388  \n4 -1.068200         0.273143          -1.334620              0.365004  ",
      "text/html": "<div>\n<style scoped>\n    .dataframe tbody tr th:only-of-type {\n        vertical-align: middle;\n    }\n\n    .dataframe tbody tr th {\n        vertical-align: top;\n    }\n\n    .dataframe thead th {\n        text-align: right;\n    }\n</style>\n<table border=\"1\" class=\"dataframe\">\n  <thead>\n    <tr style=\"text-align: right;\">\n      <th></th>\n      <th>customerid</th>\n      <th>loannumber</th>\n      <th>loanamount</th>\n      <th>totaldue</th>\n      <th>termdays</th>\n      <th>closeddate_days</th>\n      <th>firstduedate_days</th>\n      <th>firstrepaiddate_days</th>\n    </tr>\n  </thead>\n  <tbody>\n    <tr>\n      <th>0</th>\n      <td>8a2a81a74ce8c05d014cfb32a0da1049</td>\n      <td>-0.673771</td>\n      <td>-0.697536</td>\n      <td>-0.628776</td>\n      <td>0.302132</td>\n      <td>-0.556943</td>\n      <td>0.618378</td>\n      <td>-0.543251</td>\n    </tr>\n    <tr>\n      <th>1</th>\n      <td>8a2a81a74ce8c05d014cfb32a0da1049</td>\n      <td>1.480472</td>\n      <td>-0.697536</td>\n      <td>-0.628776</td>\n      <td>0.302132</td>\n      <td>0.424067</td>\n      <td>0.897378</td>\n      <td>0.365004</td>\n    </tr>\n    <tr>\n      <th>2</th>\n      <td>8a2a81a74ce8c05d014cfb32a0da1049</td>\n      <td>1.172723</td>\n      <td>0.375392</td>\n      <td>0.404325</td>\n      <td>0.302132</td>\n      <td>2.159701</td>\n      <td>0.618378</td>\n      <td>2.429218</td>\n    </tr>\n    <tr>\n      <th>3</th>\n      <td>8a8588f35438fe12015444567666018e</td>\n      <td>0.249476</td>\n      <td>-0.697536</td>\n      <td>-0.772263</td>\n      <td>-1.068200</td>\n      <td>-0.707868</td>\n      <td>-1.474120</td>\n      <td>-0.708388</td>\n    </tr>\n    <tr>\n      <th>4</th>\n      <td>8a85890754145ace015429211b513e16</td>\n      <td>-0.673771</td>\n      <td>-0.697536</td>\n      <td>-0.772263</td>\n      <td>-1.068200</td>\n      <td>0.273143</td>\n      <td>-1.334620</td>\n      <td>0.365004</td>\n    </tr>\n  </tbody>\n</table>\n</div>"
     },
     "execution_count": 143,
     "metadata": {},
     "output_type": "execute_result"
    }
   ],
   "source": [
    "train_prevloans = pd.read_csv(\"../data/preprocessed/train/train_prevloans.csv\")\n",
    "cols_dtypes = {\n",
    "    \"customerid\": \"category\",\n",
    "    \"loannumber\": \"int\",\n",
    "    \"loanamount\": \"float\",\n",
    "    \"totaldue\": \"float\",\n",
    "    \"termdays\": \"int\",\n",
    "    \"closeddate_days\": \"int\",\n",
    "    \"firstduedate_days\": \"int\",\n",
    "    \"firstrepaiddate_days\": \"int\",\n",
    "}\n",
    "train_prevloans = convert_dtype(data=train_prevloans, columns_type=cols_dtypes)\n",
    "\n",
    "prevloan_scaler = CustomScalerPerf(\n",
    "    cols=['loannumber', 'loanamount', 'totaldue', 'termdays', 'closeddate_days', 'firstduedate_days',\n",
    "          'firstrepaiddate_days']\n",
    ")\n",
    "train_prevloans = prevloan_scaler.fit_transform(train_prevloans)\n",
    "\n",
    "train_prevloans.head()"
   ],
   "metadata": {
    "collapsed": false,
    "pycharm": {
     "name": "#%%\n"
    }
   }
  },
  {
   "cell_type": "code",
   "execution_count": 144,
   "outputs": [
    {
     "data": {
      "text/plain": "                         customerid  birthdate  bank_account_type  \\\n0  8a858e135cb22031015cbafc76964ebd 1973-10-10                  2   \n1  8a858e275c7ea5ec015c82482d7c3996 1986-01-21                  2   \n2  8a858e5b5bd99460015bdc95cd485634 1987-04-01                  2   \n3  8a858efd5ca70688015cabd1f1e94b55 1991-07-19                  2   \n4  8a858e785acd3412015acd48f4920d04 1982-11-22                  2   \n\n   longitude_gps  latitude_gps  bank_name_clients  employment_status_clients  \\\n0       3.319219      6.528604                  6                          1   \n1       3.325598      7.119403                 12                          1   \n2       5.746100      5.563174                  4                          1   \n3       3.362850      6.642485                  6                          1   \n4       8.455332     11.971410                  6                          1   \n\n   is_missing_emp_status_clients  \n0                              1  \n1                              0  \n2                              1  \n3                              0  \n4                              0  ",
      "text/html": "<div>\n<style scoped>\n    .dataframe tbody tr th:only-of-type {\n        vertical-align: middle;\n    }\n\n    .dataframe tbody tr th {\n        vertical-align: top;\n    }\n\n    .dataframe thead th {\n        text-align: right;\n    }\n</style>\n<table border=\"1\" class=\"dataframe\">\n  <thead>\n    <tr style=\"text-align: right;\">\n      <th></th>\n      <th>customerid</th>\n      <th>birthdate</th>\n      <th>bank_account_type</th>\n      <th>longitude_gps</th>\n      <th>latitude_gps</th>\n      <th>bank_name_clients</th>\n      <th>employment_status_clients</th>\n      <th>is_missing_emp_status_clients</th>\n    </tr>\n  </thead>\n  <tbody>\n    <tr>\n      <th>0</th>\n      <td>8a858e135cb22031015cbafc76964ebd</td>\n      <td>1973-10-10</td>\n      <td>2</td>\n      <td>3.319219</td>\n      <td>6.528604</td>\n      <td>6</td>\n      <td>1</td>\n      <td>1</td>\n    </tr>\n    <tr>\n      <th>1</th>\n      <td>8a858e275c7ea5ec015c82482d7c3996</td>\n      <td>1986-01-21</td>\n      <td>2</td>\n      <td>3.325598</td>\n      <td>7.119403</td>\n      <td>12</td>\n      <td>1</td>\n      <td>0</td>\n    </tr>\n    <tr>\n      <th>2</th>\n      <td>8a858e5b5bd99460015bdc95cd485634</td>\n      <td>1987-04-01</td>\n      <td>2</td>\n      <td>5.746100</td>\n      <td>5.563174</td>\n      <td>4</td>\n      <td>1</td>\n      <td>1</td>\n    </tr>\n    <tr>\n      <th>3</th>\n      <td>8a858efd5ca70688015cabd1f1e94b55</td>\n      <td>1991-07-19</td>\n      <td>2</td>\n      <td>3.362850</td>\n      <td>6.642485</td>\n      <td>6</td>\n      <td>1</td>\n      <td>0</td>\n    </tr>\n    <tr>\n      <th>4</th>\n      <td>8a858e785acd3412015acd48f4920d04</td>\n      <td>1982-11-22</td>\n      <td>2</td>\n      <td>8.455332</td>\n      <td>11.971410</td>\n      <td>6</td>\n      <td>1</td>\n      <td>0</td>\n    </tr>\n  </tbody>\n</table>\n</div>"
     },
     "execution_count": 144,
     "metadata": {},
     "output_type": "execute_result"
    }
   ],
   "source": [
    "train_dg = pd.read_csv(\"../data/preprocessed/train/train_dg.csv\")\n",
    "\n",
    "# Convert columns types\n",
    "cols_dtypes = {\n",
    "    \"customerid\": \"category\",\n",
    "    \"birthdate\": \"datetime\",\n",
    "    \"bank_account_type\": \"category\",\n",
    "    \"longitude_gps\": \"float\",\n",
    "    \"latitude_gps\": \"float\",\n",
    "    \"bank_name_clients\": \"category\",\n",
    "    \"employment_status_clients\": \"category\",\n",
    "    \"is_missing_emp_status_clients\": \"int\"\n",
    "}\n",
    "train_dg = convert_dtype(data=train_dg, columns_type=cols_dtypes)\n",
    "\n",
    "# Label encoding\n",
    "dg_enc = MultiLabelEncoder(cols=[\"bank_account_type\", \"bank_name_clients\", \"employment_status_clients\"])\n",
    "train_dg = dg_enc.fit_transform(train_dg)\n",
    "\n",
    "train_dg.head()"
   ],
   "metadata": {
    "collapsed": false,
    "pycharm": {
     "name": "#%%\n"
    }
   }
  },
  {
   "cell_type": "code",
   "execution_count": 145,
   "outputs": [
    {
     "data": {
      "text/plain": "                         customerid  loannumber        approveddate  \\\n0  8a2a81a74ce8c05d014cfb32a0da1049    1.868965 2017-07-25 08:22:56   \n1  8a85886e54beabf90154c0a29ae757c0   -0.868398 2017-07-05 17:04:41   \n2  8a8588f35438fe12015444567666018e    0.500283 2017-07-06 14:52:57   \n3  8a85890754145ace015429211b513e16   -0.594662 2017-07-27 19:00:41   \n4  8a858970548359cc0154883481981866    1.047756 2017-07-03 23:42:45   \n\n   loanamount  totaldue  termdays good_bad_flag  \n0    1.134202  1.108898  0.064140             1  \n1   -0.261346 -0.335566  0.064140             1  \n2    0.203837  0.083119 -1.238939             1  \n3   -0.726529 -0.817054 -1.238939             1  \n4    2.064568  1.904400  0.064140             1  ",
      "text/html": "<div>\n<style scoped>\n    .dataframe tbody tr th:only-of-type {\n        vertical-align: middle;\n    }\n\n    .dataframe tbody tr th {\n        vertical-align: top;\n    }\n\n    .dataframe thead th {\n        text-align: right;\n    }\n</style>\n<table border=\"1\" class=\"dataframe\">\n  <thead>\n    <tr style=\"text-align: right;\">\n      <th></th>\n      <th>customerid</th>\n      <th>loannumber</th>\n      <th>approveddate</th>\n      <th>loanamount</th>\n      <th>totaldue</th>\n      <th>termdays</th>\n      <th>good_bad_flag</th>\n    </tr>\n  </thead>\n  <tbody>\n    <tr>\n      <th>0</th>\n      <td>8a2a81a74ce8c05d014cfb32a0da1049</td>\n      <td>1.868965</td>\n      <td>2017-07-25 08:22:56</td>\n      <td>1.134202</td>\n      <td>1.108898</td>\n      <td>0.064140</td>\n      <td>1</td>\n    </tr>\n    <tr>\n      <th>1</th>\n      <td>8a85886e54beabf90154c0a29ae757c0</td>\n      <td>-0.868398</td>\n      <td>2017-07-05 17:04:41</td>\n      <td>-0.261346</td>\n      <td>-0.335566</td>\n      <td>0.064140</td>\n      <td>1</td>\n    </tr>\n    <tr>\n      <th>2</th>\n      <td>8a8588f35438fe12015444567666018e</td>\n      <td>0.500283</td>\n      <td>2017-07-06 14:52:57</td>\n      <td>0.203837</td>\n      <td>0.083119</td>\n      <td>-1.238939</td>\n      <td>1</td>\n    </tr>\n    <tr>\n      <th>3</th>\n      <td>8a85890754145ace015429211b513e16</td>\n      <td>-0.594662</td>\n      <td>2017-07-27 19:00:41</td>\n      <td>-0.726529</td>\n      <td>-0.817054</td>\n      <td>-1.238939</td>\n      <td>1</td>\n    </tr>\n    <tr>\n      <th>4</th>\n      <td>8a858970548359cc0154883481981866</td>\n      <td>1.047756</td>\n      <td>2017-07-03 23:42:45</td>\n      <td>2.064568</td>\n      <td>1.904400</td>\n      <td>0.064140</td>\n      <td>1</td>\n    </tr>\n  </tbody>\n</table>\n</div>"
     },
     "execution_count": 145,
     "metadata": {},
     "output_type": "execute_result"
    }
   ],
   "source": [
    "train_perf = pd.read_csv(\"../data/preprocessed/train/train_perf.csv\")\n",
    "\n",
    "# Convert columns types\n",
    "cols_dtypes = {\n",
    "    \"customerid\": \"category\",\n",
    "    \"loannumber\": \"int\",\n",
    "    \"approveddate\": \"datetime\",\n",
    "    \"loanamount\": \"float\",\n",
    "    \"totaldue\": \"float\",\n",
    "    \"termdays\": \"int\",\n",
    "    \"good_bad_flag\": \"category\"\n",
    "}\n",
    "train_perf = convert_dtype(data=train_perf, columns_type=cols_dtypes)\n",
    "\n",
    "# Apply scaling to some columns\n",
    "loan_scaler = CustomScalerPerf(cols=[\"loannumber\", \"loanamount\", \"totaldue\", \"termdays\"])\n",
    "train_perf = loan_scaler.fit_transform(train_perf)\n",
    "\n",
    "# Encode The target column\n",
    "target_encoder = TargetEncoder(auto=False, mapping={\"Good\": 1, \"Bad\": 0})\n",
    "train_perf = target_encoder.encode_target(train_perf, target=\"good_bad_flag\")\n",
    "\n",
    "train_perf.head()"
   ],
   "metadata": {
    "collapsed": false,
    "pycharm": {
     "name": "#%%\n"
    }
   }
  },
  {
   "cell_type": "code",
   "execution_count": 146,
   "outputs": [
    {
     "name": "stdout",
     "output_type": "stream",
     "text": [
      "Shape of train_dg: (4346, 8)\n",
      "Shape of train_perf: (4368, 7)\n",
      "Shape of train_loans: (18183, 8)\n"
     ]
    }
   ],
   "source": [
    "print(f\"Shape of train_dg: {train_dg.shape}\")\n",
    "print(f\"Shape of train_perf: {train_perf.shape}\")\n",
    "print(f\"Shape of train_loans: {train_prevloans.shape}\")"
   ],
   "metadata": {
    "collapsed": false,
    "pycharm": {
     "name": "#%%\n"
    }
   }
  },
  {
   "cell_type": "markdown",
   "source": [
    "## Categorical Embedding"
   ],
   "metadata": {
    "collapsed": false,
    "pycharm": {
     "name": "#%% md\n"
    }
   }
  },
  {
   "cell_type": "code",
   "execution_count": 147,
   "outputs": [
    {
     "data": {
      "text/plain": "                         customerid  loannumber  loanamount  totaldue  \\\n0  8a2a81a74ce8c05d014cfb32a0da1049    1.868965    1.134202  1.108898   \n1  8a85886e54beabf90154c0a29ae757c0   -0.868398   -0.261346 -0.335566   \n2  8a8588f35438fe12015444567666018e    0.500283    0.203837  0.083119   \n3  8a85890754145ace015429211b513e16   -0.594662   -0.726529 -0.817054   \n4  8a858970548359cc0154883481981866    1.047756    2.064568  1.904400   \n\n   termdays good_bad_flag  bank_account_type  longitude_gps  latitude_gps  \\\n0  0.064140             1                  1       3.432010      6.433055   \n1  0.064140             1                  2       3.885298      7.320700   \n2 -1.238939             1                  1      11.139350     10.292041   \n3 -1.238939             1                  2       3.985770      7.491708   \n4  0.064140             1                  1       7.457913      9.076574   \n\n   bank_name_clients  employment_status_clients  is_missing_emp_status_clients  \n0                  1                          1                              0  \n1                  6                          1                              0  \n2                  2                          1                              0  \n3                  5                          1                              0  \n4                  6                          1                              0  ",
      "text/html": "<div>\n<style scoped>\n    .dataframe tbody tr th:only-of-type {\n        vertical-align: middle;\n    }\n\n    .dataframe tbody tr th {\n        vertical-align: top;\n    }\n\n    .dataframe thead th {\n        text-align: right;\n    }\n</style>\n<table border=\"1\" class=\"dataframe\">\n  <thead>\n    <tr style=\"text-align: right;\">\n      <th></th>\n      <th>customerid</th>\n      <th>loannumber</th>\n      <th>loanamount</th>\n      <th>totaldue</th>\n      <th>termdays</th>\n      <th>good_bad_flag</th>\n      <th>bank_account_type</th>\n      <th>longitude_gps</th>\n      <th>latitude_gps</th>\n      <th>bank_name_clients</th>\n      <th>employment_status_clients</th>\n      <th>is_missing_emp_status_clients</th>\n    </tr>\n  </thead>\n  <tbody>\n    <tr>\n      <th>0</th>\n      <td>8a2a81a74ce8c05d014cfb32a0da1049</td>\n      <td>1.868965</td>\n      <td>1.134202</td>\n      <td>1.108898</td>\n      <td>0.064140</td>\n      <td>1</td>\n      <td>1</td>\n      <td>3.432010</td>\n      <td>6.433055</td>\n      <td>1</td>\n      <td>1</td>\n      <td>0</td>\n    </tr>\n    <tr>\n      <th>1</th>\n      <td>8a85886e54beabf90154c0a29ae757c0</td>\n      <td>-0.868398</td>\n      <td>-0.261346</td>\n      <td>-0.335566</td>\n      <td>0.064140</td>\n      <td>1</td>\n      <td>2</td>\n      <td>3.885298</td>\n      <td>7.320700</td>\n      <td>6</td>\n      <td>1</td>\n      <td>0</td>\n    </tr>\n    <tr>\n      <th>2</th>\n      <td>8a8588f35438fe12015444567666018e</td>\n      <td>0.500283</td>\n      <td>0.203837</td>\n      <td>0.083119</td>\n      <td>-1.238939</td>\n      <td>1</td>\n      <td>1</td>\n      <td>11.139350</td>\n      <td>10.292041</td>\n      <td>2</td>\n      <td>1</td>\n      <td>0</td>\n    </tr>\n    <tr>\n      <th>3</th>\n      <td>8a85890754145ace015429211b513e16</td>\n      <td>-0.594662</td>\n      <td>-0.726529</td>\n      <td>-0.817054</td>\n      <td>-1.238939</td>\n      <td>1</td>\n      <td>2</td>\n      <td>3.985770</td>\n      <td>7.491708</td>\n      <td>5</td>\n      <td>1</td>\n      <td>0</td>\n    </tr>\n    <tr>\n      <th>4</th>\n      <td>8a858970548359cc0154883481981866</td>\n      <td>1.047756</td>\n      <td>2.064568</td>\n      <td>1.904400</td>\n      <td>0.064140</td>\n      <td>1</td>\n      <td>1</td>\n      <td>7.457913</td>\n      <td>9.076574</td>\n      <td>6</td>\n      <td>1</td>\n      <td>0</td>\n    </tr>\n  </tbody>\n</table>\n</div>"
     },
     "execution_count": 147,
     "metadata": {},
     "output_type": "execute_result"
    }
   ],
   "source": [
    "emb_data = pd.merge(train_perf[[\"customerid\", \"loannumber\", \"loanamount\", \"totaldue\", \"termdays\", \"good_bad_flag\"]],\n",
    "                    train_dg, on=\"customerid\", how=\"inner\").drop(\"birthdate\", axis=1)\n",
    "emb_data.head()"
   ],
   "metadata": {
    "collapsed": false,
    "pycharm": {
     "name": "#%%\n"
    }
   }
  },
  {
   "cell_type": "code",
   "execution_count": 148,
   "outputs": [],
   "source": [
    "cat_cols = [\"bank_account_type\", \"bank_name_clients\", \"employment_status_clients\"]\n",
    "cont_col = [\"loannumber\", \"loanamount\", \"totaldue\", \"termdays\", \"longitude_gps\", \"latitude_gps\",\n",
    "            \"is_missing_emp_status_clients\"]"
   ],
   "metadata": {
    "collapsed": false,
    "pycharm": {
     "name": "#%%\n"
    }
   }
  },
  {
   "cell_type": "code",
   "execution_count": 169,
   "outputs": [
    {
     "data": {
      "text/plain": "CategoricalEmbeddingModel(\n  (dropout): Dropout(p=0.5, inplace=False)\n  (bn): BatchNorm1d(7, eps=1e-05, momentum=0.1, affine=True, track_running_stats=True)\n  (embedding_layers): ModuleList(\n    (0): Embedding(4, 2)\n    (1): Embedding(19, 10)\n    (2): Embedding(7, 4)\n  )\n  (linears): Sequential(\n    (0): Linear(in_features=23, out_features=64, bias=True)\n    (1): ReLU()\n    (2): BatchNorm1d(64, eps=1e-05, momentum=0.1, affine=True, track_running_stats=True)\n    (3): Linear(in_features=64, out_features=16, bias=True)\n    (4): ReLU()\n    (5): BatchNorm1d(16, eps=1e-05, momentum=0.1, affine=True, track_running_stats=True)\n    (6): Linear(in_features=16, out_features=1, bias=True)\n  )\n)"
     },
     "execution_count": 169,
     "metadata": {},
     "output_type": "execute_result"
    }
   ],
   "source": [
    "cat_embedder = CategoricalEmbeddingSizes(\n",
    "    cat_cols=[\"bank_account_type\", \"bank_name_clients\", \"employment_status_clients\"]\n",
    ")\n",
    "emb_sizes, emb_cols = cat_embedder.get_cat_emb_dims(data=train_dg)\n",
    "emb_model = CategoricalEmbeddingModel(\n",
    "    emb_dims=emb_sizes,\n",
    "    cont_dim=7,\n",
    "    dropout=0.5,\n",
    "    output_size=1\n",
    ")\n",
    "emb_model.to(config[\"DEVICE\"])"
   ],
   "metadata": {
    "collapsed": false,
    "pycharm": {
     "name": "#%%\n"
    }
   }
  },
  {
   "cell_type": "code",
   "execution_count": 170,
   "outputs": [],
   "source": [
    "X = emb_data.drop([\"customerid\", \"good_bad_flag\"], axis=1)\n",
    "y = emb_data.good_bad_flag\n",
    "X_train, X_test, y_train, y_test = train_test_split(\n",
    "    X, y,\n",
    "    train_size=0.8, random_state=42\n",
    ")"
   ],
   "metadata": {
    "collapsed": false,
    "pycharm": {
     "name": "#%%\n"
    }
   }
  },
  {
   "cell_type": "code",
   "execution_count": 205,
   "outputs": [],
   "source": [
    "from torch.utils.data import SequentialSampler\n",
    "from src.loan_pred.config import config\n",
    "\n",
    "train_dataset = CreateTensorDataset(\n",
    "    emb_cols=emb_cols,\n",
    "    x_data=X_train,\n",
    "    y_data=y_train\n",
    ")\n",
    "valid_dataset = CreateTensorDataset(\n",
    "    emb_cols=emb_cols,\n",
    "    x_data=X_test,\n",
    "    y_data=y_test\n",
    ")\n",
    "\n",
    "train_dataloader = DataLoader(\n",
    "    train_dataset,\n",
    "    sampler=RandomSampler(train_dataset),\n",
    "    batch_size=config[\"TRAIN_BS\"],\n",
    "    drop_last=True\n",
    ")\n",
    "valid_dataloader = DataLoader(\n",
    "    valid_dataset,\n",
    "    sampler=SequentialSampler(valid_dataset),\n",
    "    batch_size=config[\"VALID_BS\"]\n",
    ")\n"
   ],
   "metadata": {
    "collapsed": false,
    "pycharm": {
     "name": "#%%\n"
    }
   }
  },
  {
   "cell_type": "code",
   "execution_count": 206,
   "outputs": [
    {
     "data": {
      "text/plain": "573"
     },
     "execution_count": 206,
     "metadata": {},
     "output_type": "execute_result"
    }
   ],
   "source": [
    "y_train.value_counts()[0]"
   ],
   "metadata": {
    "collapsed": false,
    "pycharm": {
     "name": "#%%\n"
    }
   }
  },
  {
   "cell_type": "code",
   "execution_count": 210,
   "outputs": [],
   "source": [
    "from torch import optim\n",
    "import torch.nn as nn\n",
    "\n",
    "# we're setting the positive class weight because the data is imbalanced\n",
    "pos_weight = y_train.value_counts()[0] / y_train.value_counts()[1]\n",
    "\n",
    "criterion = nn.BCEWithLogitsLoss(pos_weight=torch.tensor(pos_weight))\n",
    "criterion.to(config[\"DEVICE\"])\n",
    "\n",
    "optimizer = optim.Adam(emb_model.parameters(), lr=config[\"LR\"])\n",
    "\n",
    "y_trues = []\n",
    "losses = 0.0\n",
    "probs = []\n",
    "\n",
    "emb_model.train()\n",
    "for batch in train_dataloader:\n",
    "    y_true = batch[\"y\"].float().to(\"cuda\")\n",
    "\n",
    "    logits = emb_model(\n",
    "        x_cont=batch[\"x_cont\"].to(\"cuda\"),\n",
    "        x_emb=batch[\"x_emb\"].to(\"cuda\")\n",
    "    )\n",
    "\n",
    "    optimizer.zero_grad()\n",
    "    loss = criterion(logits.squeeze(1), y_true)\n",
    "    loss.backward()\n",
    "    optimizer.step()\n",
    "\n",
    "    losses += loss.item() * y_true.size(0)  # Using y_true just to get the len of the batch\n",
    "    y_trues.extend([int(y.item()) for y in y_true])\n",
    "    probs.extend([torch.sigmoid(p).item() for p in logits])\n",
    "\n",
    "y_preds = [int(p > 0.5) for p in probs]\n",
    "roc_auc = roc_auc_score(y_true=y_trues, y_score=y_preds)\n",
    "average_loss = losses / len(train_dataloader.sampler)"
   ],
   "metadata": {
    "collapsed": false,
    "pycharm": {
     "name": "#%%\n"
    }
   }
  },
  {
   "cell_type": "code",
   "execution_count": 219,
   "outputs": [
    {
     "data": {
      "text/plain": "0.27978515625"
     },
     "execution_count": 219,
     "metadata": {},
     "output_type": "execute_result"
    }
   ],
   "source": [
    "pos_weight"
   ],
   "metadata": {
    "collapsed": false,
    "pycharm": {
     "name": "#%%\n"
    }
   }
  },
  {
   "cell_type": "code",
   "execution_count": 211,
   "outputs": [
    {
     "name": "stdout",
     "output_type": "stream",
     "text": [
      "Average loss: 0.31\n",
      "ROC AUC Score: 0.51\n",
      "[1, 1, 1, 0, 1, 0, 1, 1, 1, 1, 0, 0, 1, 1, 0, 1, 1, 1, 1, 0, 1, 1, 0, 1, 1, 1, 1, 1, 1, 1, 0, 1, 1, 1, 1, 1, 1, 0, 1, 1, 1, 1, 1, 0, 1, 1, 1, 1, 0, 1, 1, 1, 1, 1, 1, 1, 1, 0, 1, 1, 1, 1, 1, 1, 1, 1, 1, 1, 1, 1, 1, 0, 0, 1, 0, 1, 1, 0, 1, 1, 0, 1, 1, 1, 1, 1, 1, 1, 0, 1, 0, 0, 1, 1, 1, 0, 1, 1, 1, 0, 1, 0, 0, 1, 1, 1, 0, 1, 0, 1, 1, 1, 1, 0, 0, 1, 1, 1, 1, 1, 1, 1, 1, 1, 1, 0, 1, 1, 1, 1, 1, 1, 1, 1, 0, 1, 0, 1, 1, 0, 0, 0, 1, 1, 1, 1, 1, 1, 1, 1, 1, 1, 1, 1, 1, 1, 1, 1, 1, 1, 0, 0, 1, 0, 1, 1, 1, 0, 1, 0, 1, 1, 1, 1, 1, 1, 1, 1, 1, 0, 1, 1, 1, 0, 0, 1, 1, 0, 1, 1, 1, 1, 1, 1, 1, 1, 1, 1, 1, 0, 1, 1, 0, 1, 1, 1, 0, 1, 1, 1, 1, 0, 1, 0, 0, 1, 1, 1, 0, 0, 1, 1, 1, 0, 1, 0, 1, 1, 1, 1, 1, 1, 1, 1, 1, 1, 0, 0, 1, 1, 1, 1, 0, 1, 1, 1, 1, 0, 1, 1, 1, 1, 0, 1, 1, 1, 1, 1, 0, 1, 0, 1, 0, 1, 0, 1, 0, 1, 1, 1, 1, 1, 1, 1, 1, 0, 1, 1, 1, 1, 1, 0, 1, 1, 1, 1, 1, 1, 1, 1, 1, 1, 1, 1, 1, 1, 1, 1, 1, 1, 0, 1, 1, 0, 1, 1, 1, 1, 0, 1, 1, 1, 1, 0, 1, 1, 1, 1, 1, 1, 1, 0, 1, 1, 0, 0, 1, 0, 1, 0, 1, 1, 1, 1, 1, 1, 1, 1, 1, 1, 0, 1, 1, 1, 1, 0, 1, 1, 1, 1, 1, 0, 1, 1, 1, 0, 1, 1, 1, 1, 1, 0, 1, 0, 1, 0, 1, 1, 0, 1, 0, 1, 0, 0, 1, 1, 1, 1, 1, 1, 1, 1, 1, 1, 1, 1, 1, 1, 0, 0, 1, 0, 1, 1, 0, 0, 1, 0, 1, 1, 1, 1, 0, 1, 0, 1, 1, 1, 1, 1, 1, 0, 1, 1, 0, 1, 1, 1, 1, 1, 1, 0, 1, 1, 1, 1, 1, 1, 1, 1, 1, 1, 1, 1, 1, 1, 1, 1, 0, 1, 1, 1, 0, 1, 1, 1, 1, 1, 0, 1, 1, 1, 1, 1, 1, 0, 1, 1, 0, 1, 1, 1, 1, 1, 0, 1, 1, 1, 1, 1, 0, 1, 1, 1, 0, 0, 0, 1, 1, 1, 1, 1, 0, 1, 0, 1, 0, 0, 1, 1, 1, 1, 1, 1, 1, 1, 1, 0, 1, 1, 0, 1, 1, 1, 1, 0, 1, 1, 1, 1, 1, 1, 1, 1, 1, 1, 0, 1, 1, 1, 1, 1, 0, 0, 1, 0, 1, 1, 0, 1, 1, 1, 0, 1, 0, 1, 0, 1, 0, 1, 1, 1, 1, 1, 0, 1, 1, 1, 1, 1, 0, 1, 1, 1, 1, 0, 1, 1, 1, 1, 1, 1, 1, 1, 1, 1, 1, 1, 1, 1, 0, 1, 1, 1, 1, 1, 0, 1, 1, 1, 1, 1, 0, 1, 1, 1, 1, 1, 1, 0, 1, 1, 1, 0, 1, 1, 1, 0, 1, 1, 0, 0, 1, 1, 1, 1, 1, 1, 1, 1, 0, 1, 1, 0, 1, 0, 1, 1, 1, 1, 1, 1, 0, 1, 1, 1, 0, 0, 1, 1, 1, 1, 0, 0, 1, 1, 1, 1, 1, 1, 0, 0, 1, 1, 1, 1, 1, 0, 1, 0, 0, 1, 1, 1, 1, 0, 1, 1, 1, 1, 1, 0, 1, 1, 1, 0, 1, 1, 1, 1, 1, 1, 1, 1, 1, 1, 1, 1, 1, 0, 1, 1, 1, 1, 0, 1, 1, 0, 1, 1, 1, 0, 1, 1, 0, 0, 1, 1, 1, 0, 1, 0, 0, 1, 1, 1, 1, 0, 1, 1, 1, 1, 1, 1, 0, 1, 0, 1, 0, 1, 1, 1, 1, 1, 1, 0, 1, 1, 1, 1, 1, 1, 1, 1, 0, 1, 1, 1, 1, 1, 1, 1, 1, 1, 0, 1, 1, 1, 1, 0, 1, 1, 1, 0, 1, 1, 1, 0, 1, 1, 0, 1, 1, 1, 1, 1, 0, 1, 1, 1, 1, 0, 0, 1, 1, 0, 0, 1, 1, 0, 1, 1, 1, 1, 1, 1, 1, 0, 1, 0, 1, 1, 1, 1, 0, 0, 1, 0, 0, 1, 1, 1, 1, 1, 1, 1, 1, 1, 1, 1, 1, 1, 1, 1, 1, 1, 1, 1, 1, 1, 1, 1, 1, 1, 1, 0, 1, 1, 0, 1, 1, 1, 0, 1, 1, 1, 0, 1, 1, 1, 0, 1, 1, 0, 0, 1, 1, 0, 1, 1, 1, 1, 0, 1, 0, 1, 1, 1, 1, 1, 1, 0, 1, 0, 1, 1, 1, 1, 1, 1, 1, 1, 1, 0, 0, 1, 0, 1, 1, 1, 1, 1, 0, 1, 1, 1, 1, 1, 1, 1, 1, 1, 0, 1, 1, 1, 1, 1, 1, 1, 1, 0, 0, 1, 1, 1, 1, 1, 1, 1, 0, 1, 1, 1, 1, 1, 0, 1, 0, 1, 0, 1, 1, 0, 1, 0, 1, 0, 1, 0, 1, 0, 0, 1, 1, 1, 1, 1, 1, 1, 0, 1, 1, 1, 1, 1, 1, 0, 1, 1, 1, 1, 1, 0, 0, 0, 1, 1, 0, 1, 1, 1, 0, 0, 1, 1, 1, 1, 1, 1, 1, 1, 1, 1, 0, 1, 1, 1, 1, 1, 1, 0, 1, 1, 1, 1, 1, 0, 1, 1, 0, 1, 1, 1, 0, 1, 1, 0, 1, 1, 1, 1, 1, 1, 1, 1, 1, 1, 1, 1, 0, 0, 1, 0, 1, 1, 1, 1, 1, 1, 1, 1, 1, 1, 0, 1, 0, 1, 1, 1, 1, 1, 1, 1, 1, 0, 1, 1, 1, 1, 1, 1, 1, 1, 1, 1, 0, 1, 1, 1, 1, 1, 1, 0, 1, 0, 1, 1, 1, 0, 1, 1, 0, 0, 1, 1, 1, 1, 0, 1, 1, 1, 1, 1, 0, 1, 1, 1, 1, 0, 1, 1, 1, 1, 1, 1, 1, 0, 1, 1, 1, 1, 1, 1, 1, 1, 0, 1, 1, 1, 0, 0, 1, 1, 0, 1, 1, 0, 0, 0, 1, 1, 1, 0, 1, 1, 1, 1, 1, 1, 1, 1, 1, 1, 1, 1, 1, 1, 1, 1, 0, 1, 1, 1, 1, 0, 1, 0, 1, 1, 1, 1, 0, 1, 0, 1, 1, 1, 1, 1, 1, 1, 1, 0, 0, 1, 1, 1, 1, 1, 1, 1, 1, 0, 1, 1, 1, 1, 1, 1, 1, 1, 1, 1, 1, 1, 1, 1, 1, 1, 1, 1, 1, 0, 1, 0, 0, 1, 0, 1, 1, 0, 0, 1, 1, 1, 1, 1, 1, 0, 1, 1, 1, 1, 1, 0, 1, 1, 1, 1, 1, 1, 1, 0, 1, 1, 1, 1, 0, 0, 1, 1, 1, 1, 1, 0, 1, 1, 1, 1, 1, 1, 1, 1, 1, 1, 1, 1, 0, 1, 0, 1, 0, 1, 1, 1, 1, 1, 1, 1, 1, 0, 1, 1, 0, 1, 1, 1, 1, 1, 1, 1, 1, 1, 1, 1, 1, 0, 1, 1, 1, 1, 1, 1, 1, 1, 0, 1, 1, 1, 0, 0, 1, 0, 1, 1, 1, 0, 1, 0, 1, 0, 1, 1, 1, 1, 1, 1, 1, 1, 1, 1, 1, 1, 0, 1, 0, 1, 1, 1, 1, 1, 1, 1, 1, 1, 0, 1, 1, 0, 1, 1, 1, 1, 0, 0, 1, 0, 1, 1, 0, 1, 0, 1, 1, 0, 0, 1, 1, 1, 1, 1, 1, 0, 1, 0, 1, 1, 1, 1, 1, 1, 1, 1, 0, 0, 1, 0, 1, 1, 1, 1, 1, 0, 1, 1, 1, 1, 1, 1, 1, 1, 1, 1, 1, 1, 1, 1, 0, 1, 1, 1, 1, 0, 1, 1, 1, 0, 1, 1, 0, 1, 1, 1, 1, 1, 1, 1, 1, 1, 0, 0, 1, 1, 1, 1, 1, 1, 1, 1, 1, 0, 1, 1, 1, 1, 1, 1, 1, 1, 1, 1, 1, 1, 0, 1, 1, 1, 1, 1, 1, 1, 1, 0, 1, 1, 1, 1, 1, 0, 1, 1, 0, 0, 1, 1, 1, 0, 1, 0, 0, 0, 1, 0, 0, 1, 1, 1, 1, 1, 1, 1, 1, 1, 0, 1, 0, 1, 0, 1, 0, 0, 1, 0, 1, 1, 0, 1, 1, 1, 0, 1, 1, 0, 1, 1, 0, 1, 1, 0, 1, 0, 0, 1, 1, 0, 1, 1, 1, 1, 1, 1, 1, 1, 1, 1, 0, 0, 0, 1, 1, 1, 1, 1, 1, 1, 1, 1, 1, 1, 1, 1, 1, 1, 0, 1, 1, 1, 1, 1, 1, 1, 0, 1, 1, 0, 0, 1, 1, 1, 1, 1, 1, 1, 0, 1, 1, 0, 1, 1, 0, 1, 0, 1, 0, 1, 1, 1, 0, 1, 1, 1, 1, 1, 1, 0, 0, 1, 1, 1, 1, 1, 1, 1, 1, 0, 0, 1, 1, 1, 1, 1, 1, 1, 1, 1, 1, 1, 1, 1, 0, 0, 1, 0, 1, 1, 1, 0, 1, 1, 1, 0, 0, 0, 1, 0, 1, 1, 1, 1, 1, 1, 1, 1, 0, 0, 1, 0, 0, 1, 1, 1, 0, 1, 1, 1, 1, 1, 1, 1, 1, 1, 1, 0, 0, 1, 1, 0, 1, 1, 1, 1, 1, 1, 1, 0, 1, 1, 0, 1, 1, 1, 1, 0, 1, 0, 1, 0, 0, 1, 1, 1, 1, 0, 1, 0, 0, 1, 1, 0, 1, 1, 1, 1, 0, 1, 1, 1, 1, 0, 0, 0, 0, 1, 1, 1, 1, 1, 1, 1, 0, 1, 0, 1, 0, 1, 0, 0, 1, 1, 1, 1, 1, 1, 1, 1, 1, 1, 1, 1, 0, 1, 1, 0, 0, 1, 0, 0, 1, 1, 1, 1, 1, 1, 0, 1, 1, 0, 1, 0, 1, 1, 0, 1, 0, 1, 1, 1, 1, 1, 0, 1, 0, 1, 0, 1, 0, 1, 1, 1, 1, 1, 1, 0, 1, 0, 1, 0, 1, 0, 1, 1, 1, 1, 1, 0, 1, 0, 0, 1, 1, 1, 1, 1, 1, 1, 1, 1, 0, 1, 0, 1, 1, 1, 1, 1, 1, 1, 1, 1, 1, 1, 1, 1, 1, 1, 1, 1, 1, 1, 1, 1, 1, 1, 0, 0, 1, 0, 0, 1, 1, 1, 1, 1, 1, 0, 0, 1, 1, 1, 1, 0, 1, 0, 1, 1, 1, 1, 1, 1, 0, 1, 1, 1, 0, 1, 1, 1, 1, 0, 1, 1, 1, 0, 0, 1, 0, 0, 0, 1, 1, 0, 1, 0, 1, 0, 1, 1, 1, 1, 1, 0, 1, 0, 1, 1, 1, 1, 1, 1, 1, 1, 1, 1, 1, 1, 0, 1, 1, 1, 1, 1, 0, 1, 1, 1, 0, 0, 1, 0, 0, 1, 1, 0, 1, 1, 0, 1, 1, 1, 1, 1, 1, 1, 0, 1, 1, 1, 0, 1, 1, 1, 0, 1, 1, 1, 1, 1, 1, 1, 1, 1, 1, 1, 1, 1, 1, 1, 1, 1, 1, 1, 0, 0, 1, 1, 1, 0, 1, 1, 1, 1, 1, 1, 1, 1, 1, 1, 1, 1, 0, 1, 1, 1, 1, 1, 1, 1, 0, 0, 1, 1, 1, 0, 1, 0, 0, 1, 1, 1, 1, 0, 1, 1, 1, 1, 1, 1, 1, 1, 0, 1, 0, 0, 1, 1, 1, 1, 0, 0, 1, 0, 1, 1, 1, 1, 0, 1, 0, 1, 1, 1, 1, 1, 0, 1, 1, 1, 1, 1, 1, 1, 1, 1, 1, 1, 1, 0, 1, 1, 1, 1, 1, 1, 1, 1, 0, 1, 1, 1, 1, 1, 1, 1, 0, 0, 1, 0, 1, 1, 1, 0, 1, 1, 0, 1, 1, 1, 1, 1, 1, 1, 1, 0, 1, 1, 1, 1, 1, 1, 0, 0, 0, 1, 1, 1, 1, 1, 1, 1, 0, 1, 1, 1, 1, 1, 1, 0, 0, 1, 1, 1, 1, 1, 1, 0, 1, 1, 1, 0, 1, 1, 1, 0, 1, 1, 0, 1, 0, 1, 1, 1, 1, 0, 1, 1, 1, 1, 1, 1, 1, 1, 0, 1, 1, 1, 0, 1, 1, 1, 1, 1, 0, 1, 1, 1, 1, 1, 1, 0, 1, 1, 1, 0, 1, 0, 1, 1, 1, 1, 1, 1, 1, 0, 0, 1, 1, 0, 1, 1, 1, 1, 1, 1, 1, 1, 1, 1, 1, 1, 1, 1, 1, 1, 0, 1, 1, 1, 1, 0, 0, 1, 1, 1, 1, 1, 1, 1, 1, 1, 1, 1, 1, 1, 1, 1, 1, 1, 1, 0, 1, 1, 1, 1, 1, 1, 1, 1, 1, 1, 1, 1, 1, 1, 1, 1, 1, 1, 1, 1, 1, 1, 1, 1, 0, 1, 1, 1, 0, 1, 1, 1, 1, 1, 1, 0, 0, 0, 1, 1, 1, 1, 1, 1, 1, 1, 1, 1, 1, 0, 0, 1, 0, 1, 1, 1, 1, 0, 1, 1, 1, 1, 1, 1, 1, 1, 1, 1, 1, 1, 0, 0, 0, 1, 1, 1, 0, 1, 1, 1, 0, 1, 1, 1, 1, 1, 1, 1, 0, 0, 1, 1, 1, 0, 1, 0, 1, 1, 0, 1, 1, 1, 1, 0, 1, 1, 1, 1, 1, 1, 0, 0, 1, 0, 0, 0, 1, 0, 1, 0, 1, 1, 1, 1, 1, 1, 1, 1, 1, 1, 1, 1, 1, 1, 1, 1, 1, 1, 1, 1, 1, 1, 1, 1, 0, 1, 1, 0, 1, 1, 1, 0, 1, 1, 0, 1, 0, 1, 1, 0, 1, 1, 1, 1, 1, 1, 1, 1, 1, 1, 1, 1, 1, 1, 1, 1, 1, 0, 1, 1, 1, 0, 1, 1, 1, 1, 0, 1, 0, 1, 1, 1, 1, 1, 1, 1, 1, 1, 1, 1, 0, 1, 1, 1, 1, 1, 1, 1, 1, 1, 1, 1, 1, 0, 1, 0, 1, 1, 0, 1, 0, 1, 1, 1, 1, 1, 1, 0, 0, 1, 1, 1, 1, 0, 1, 1, 1, 1, 1, 1, 1, 0, 1, 1, 0, 1, 1, 1, 0, 1, 1, 1, 0, 1, 0, 1, 1, 0, 0, 1, 1, 1, 1, 1, 0, 1, 0, 1, 1, 1, 1, 1, 1, 1, 1, 0, 1, 0, 1, 1, 1, 1, 1, 1, 1, 1, 1, 1, 1, 1, 1, 0, 1, 1, 0, 1, 1, 1, 1, 1, 1, 1, 1, 0, 1, 1, 1, 1, 1, 1, 1, 1, 0, 1, 1, 0, 1, 1, 0, 1, 1, 0, 1, 0, 1, 1, 1, 1, 1, 1, 1, 1, 1, 1, 0, 0, 1, 1, 1, 1, 1, 1, 1, 1, 1, 1, 1, 1, 1, 1, 1, 0, 1, 0, 1, 1, 0, 1, 0, 1, 1, 1, 1, 1, 1, 0, 1, 1, 0, 1, 0, 1, 1, 1, 0, 1, 1, 1, 0, 1, 0, 0, 1, 1, 1, 1, 1, 1, 1, 1, 1, 1, 0, 1, 0, 1, 1, 1, 0, 1, 1, 1, 1, 1, 1, 1, 1, 1, 1, 1, 1, 1, 1, 1, 1, 1, 1, 1, 1, 1, 1, 0, 0, 0, 1, 1, 1, 1, 1, 1]\n",
      "[0.475895494222641, 0.42079925537109375, 0.46988821029663086, 0.48155465722084045, 0.552128791809082, 0.605867326259613, 0.552513062953949, 0.5300396084785461, 0.5699326395988464, 0.613524317741394, 0.5018751621246338, 0.5164170265197754, 0.5327923893928528, 0.5098816752433777, 0.5066121220588684, 0.4438325762748718, 0.452431857585907, 0.44217145442962646, 0.44290417432785034, 0.44958361983299255, 0.42449626326560974, 0.4219844937324524, 0.4220059812068939, 0.4208839535713196, 0.4170515239238739, 0.4260360896587372, 0.4352065622806549, 0.42463552951812744, 0.4368678033351898, 0.43476343154907227, 0.49326762557029724, 0.493269145488739, 0.47467947006225586, 0.4901423454284668, 0.4893788993358612, 0.5580491423606873, 0.563886284828186, 0.564790666103363, 0.5647292733192444, 0.5611761212348938, 0.6272814869880676, 0.6284933686256409, 0.643811047077179, 0.6231215596199036, 0.6261310577392578, 0.6453975439071655, 0.6762843132019043, 0.6568928956985474, 0.6370742321014404, 0.6856866478919983, 0.7076095342636108, 0.6205174326896667, 0.613241970539093, 0.659206211566925, 0.6670706272125244, 0.6517972946166992, 0.7452536821365356, 0.6881940364837646, 0.6399462819099426, 0.7578511834144592, 0.8055889010429382, 0.7019538879394531, 0.6748055815696716, 0.6658737063407898, 0.6368718147277832, 0.7551265954971313, 0.7582619786262512, 0.6246564984321594, 0.6958290934562683, 0.8343175053596497, 0.7496975064277649, 0.788834810256958, 0.6973205804824829, 0.825248658657074, 0.8955485820770264, 0.7529691457748413, 0.6290407776832581, 0.7631056308746338, 0.854309618473053, 0.6814306378364563, 0.5957544445991516, 0.8026564717292786, 0.592040479183197, 0.6786606311798096, 0.6719428896903992, 0.5099338293075562, 0.7202122211456299, 0.6791964173316956, 0.5359851717948914, 0.5438129305839539, 0.5621305108070374, 0.38281404972076416, 0.5352970361709595, 0.5254679918289185, 0.662338137626648, 0.4054948389530182, 0.6455497741699219, 0.4035542607307434, 0.3683275878429413, 0.48382800817489624, 0.5350877642631531, 0.4242386221885681, 0.22626297175884247, 0.37547412514686584, 0.4095582067966461, 0.3949128985404968, 0.294705331325531, 0.17771120369434357, 0.502096951007843, 0.29903048276901245, 0.20618359744548798, 0.4923115074634552, 0.25265032052993774, 0.19384440779685974, 0.24247722327709198, 0.14549198746681213, 0.22964267432689667, 0.21389919519424438, 0.18052807450294495, 0.4215816557407379, 0.33841177821159363, 0.12009292840957642, 0.3548565208911896, 0.17903700470924377, 0.22013454139232635, 0.1631762534379959, 0.2874835431575775, 0.21443332731723785, 0.4550805985927582, 0.21362237632274628, 0.1922910511493683, 0.20610056817531586, 0.36284637451171875, 0.4686187207698822, 0.29151207208633423, 0.2082313895225525, 0.2946641147136688, 0.33434563875198364, 0.5211458206176758, 0.3843555450439453, 0.4506852924823761, 0.31912246346473694, 0.26204410195350647, 0.532886803150177, 0.3691479563713074, 0.27233651280403137, 0.42712709307670593, 0.46797826886177063, 0.3680066168308258, 0.5559363961219788, 0.46309468150138855, 0.3551385998725891, 0.4513609707355499, 0.41732168197631836, 0.6217836141586304, 0.6144798398017883, 0.5942801833152771, 0.3987903594970703, 0.46347540616989136, 0.533969521522522, 0.4601382315158844, 0.657479465007782, 0.6326943039894104, 0.5798611640930176, 0.6359443068504333, 0.5387151837348938, 0.6032217144966125, 0.6359241008758545, 0.7071842551231384, 0.5285802483558655, 0.5582716464996338, 0.6569935083389282, 0.5454597473144531, 0.49790820479393005, 0.6749309301376343, 0.5014511942863464, 0.5666799545288086, 0.6900285482406616, 0.6351462006568909, 0.5359017848968506, 0.5028097629547119, 0.7155889868736267, 0.5655630826950073, 0.5615342855453491, 0.5629851222038269, 0.6698096990585327, 0.4413916766643524, 0.5194032788276672, 0.5284759998321533, 0.6246065497398376, 0.5119034051895142, 0.471700519323349, 0.4142507314682007, 0.595697820186615, 0.6676312685012817, 0.4889065623283386, 0.47601139545440674, 0.3935747444629669, 0.6516786217689514, 0.6333027482032776, 0.6510407328605652, 0.3727971911430359, 0.5838848352432251, 0.4701897203922272, 0.5283161401748657, 0.453491747379303, 0.6580353379249573, 0.5472208857536316, 0.4824128746986389, 0.41119128465652466, 0.6186760067939758, 0.4485137462615967, 0.5014829039573669, 0.4828434884548187, 0.4263239800930023, 0.3628156781196594, 0.4462398588657379, 0.444353848695755, 0.5354539752006531, 0.46307381987571716, 0.377175897359848, 0.37489256262779236, 0.4578709602355957, 0.36331337690353394, 0.3794732987880707, 0.3372628092765808, 0.3761149048805237, 0.31958767771720886, 0.3701304793357849, 0.3385455906391144, 0.32325875759124756, 0.3122672438621521, 0.3266041576862335, 0.3316018879413605, 0.31820717453956604, 0.33901506662368774, 0.29989761114120483, 0.3293740749359131, 0.33570170402526855, 0.33575859665870667, 0.36498552560806274, 0.31144416332244873, 0.31300002336502075, 0.35820257663726807, 0.30357593297958374, 0.29150015115737915, 0.35266202688217163, 0.32710587978363037, 0.38379284739494324, 0.3534509837627411, 0.3792508840560913, 0.3598819673061371, 0.3551347553730011, 0.2855169177055359, 0.434763640165329, 0.4630553126335144, 0.4467918574810028, 0.3266909718513489, 0.3073185086250305, 0.41440752148628235, 0.5129850506782532, 0.44324594736099243, 0.41970425844192505, 0.2820700407028198, 0.4687308967113495, 0.28287047147750854, 0.4712434411048889, 0.484377920627594, 0.41059648990631104, 0.5061497092247009, 0.4385979175567627, 0.3369249403476715, 0.54378342628479, 0.5133588314056396, 0.37217482924461365, 0.5784193277359009, 0.44084322452545166, 0.4190754294395447, 0.38571852445602417, 0.5228688716888428, 0.44959259033203125, 0.5089409351348877, 0.44452252984046936, 0.5708577632904053, 0.5229543447494507, 0.5410920977592468, 0.5081310868263245, 0.5113544464111328, 0.5774455070495605, 0.49785006046295166, 0.5874690413475037, 0.5684900283813477, 0.5653850436210632, 0.5673157572746277, 0.5469803810119629, 0.6292926073074341, 0.6149061918258667, 0.6083077788352966, 0.6202408671379089, 0.6137471199035645, 0.6511188745498657, 0.6679948568344116, 0.6857271790504456, 0.6662006378173828, 0.7073274850845337, 0.6683457493782043, 0.7420769929885864, 0.7081994414329529, 0.7033197283744812, 0.6442531943321228, 0.6707571148872375, 0.6777916550636292, 0.6376235485076904, 0.7654225826263428, 0.7268325686454773, 0.7097512483596802, 0.740792989730835, 0.6248925924301147, 0.7148125171661377, 0.6295191049575806, 0.6396066546440125, 0.7065033912658691, 0.763565719127655, 0.6600611209869385, 0.6628655195236206, 0.6241092681884766, 0.6174256801605225, 0.6766448616981506, 0.7351263761520386, 0.6172015070915222, 0.5233670473098755, 0.561377227306366, 0.5268104672431946, 0.6230596899986267, 0.6597391366958618, 0.6173236966133118, 0.4795382022857666, 0.48412835597991943, 0.48234131932258606, 0.573131263256073, 0.4426610767841339, 0.4861529469490051, 0.6080976724624634, 0.46970945596694946, 0.4808938205242157, 0.42702096700668335, 0.4391905963420868, 0.5896973609924316, 0.4274744391441345, 0.48319047689437866, 0.430759996175766, 0.380626916885376, 0.3913669288158417, 0.5329102277755737, 0.5397107601165771, 0.3785269260406494, 0.38634738326072693, 0.38246506452560425, 0.5799883604049683, 0.48246437311172485, 0.5030673742294312, 0.3358718156814575, 0.3145751655101776, 0.5081814527511597, 0.5181049704551697, 0.41538456082344055, 0.3447127938270569, 0.6180389523506165, 0.4034076929092407, 0.32237085700035095, 0.27696526050567627, 0.5890282988548279, 0.3677850663661957, 0.3140673339366913, 0.47034701704978943, 0.6369698643684387, 0.3740290701389313, 0.3066655993461609, 0.2821821868419647, 0.2614724636077881, 0.3522714078426361, 0.6399014592170715, 0.1930115967988968, 0.35253041982650757, 0.28900453448295593, 0.32498428225517273, 0.6115577220916748, 0.23565557599067688, 0.5079405903816223, 0.20246149599552155, 0.40312671661376953, 0.16960090398788452, 0.44862282276153564, 0.2653968632221222, 0.6258700489997864, 0.22308389842510223, 0.31571727991104126, 0.6719796657562256, 0.40651482343673706, 0.2739451825618744, 0.1622309386730194, 0.41501036286354065, 0.3444637358188629, 0.48617684841156006, 0.4996357858181, 0.3004612922668457, 0.6060935258865356, 0.3166954815387726, 0.32064348459243774, 0.3011418879032135, 0.24725598096847534, 0.40787196159362793, 0.45233261585235596, 0.48727890849113464, 0.30672770738601685, 0.3083358407020569, 0.3427489995956421, 0.3865954577922821, 0.5321165919303894, 0.3512047827243805, 0.49993896484375, 0.3859586715698242, 0.37501564621925354, 0.3199383318424225, 0.4240281283855438, 0.3462909758090973, 0.47597208619117737, 0.4618479907512665, 0.3934207260608673, 0.41894474625587463, 0.40604591369628906, 0.5077142715454102, 0.4571956396102905, 0.43613865971565247, 0.4176066219806671, 0.45966747403144836, 0.4640941619873047, 0.4660414457321167, 0.45654067397117615, 0.5352799296379089, 0.4915652275085449, 0.5292841196060181, 0.47480204701423645, 0.5035799145698547, 0.5256170034408569, 0.5564197897911072, 0.5228568315505981, 0.5137100219726562, 0.5468999147415161, 0.5118862986564636, 0.5456990003585815, 0.5647618174552917, 0.5730672478675842, 0.540259599685669, 0.5372285842895508, 0.5860188603401184, 0.5773800611495972, 0.5759115815162659, 0.5615389943122864, 0.5946909189224243, 0.591546356678009, 0.5944380164146423, 0.6085062623023987, 0.578489363193512, 0.5859389305114746, 0.5936346054077148, 0.5970774292945862, 0.6186609268188477, 0.6016654372215271, 0.5924746990203857, 0.6186460256576538, 0.6341841816902161, 0.6099204421043396, 0.6128476858139038, 0.6054890155792236, 0.6064403653144836, 0.628435492515564, 0.6072025895118713, 0.6312116384506226, 0.6069257259368896, 0.5945934653282166, 0.5898983478546143, 0.5960694551467896, 0.6004751920700073, 0.626998245716095, 0.5721007585525513, 0.5682808756828308, 0.593365490436554, 0.5843039751052856, 0.5619288682937622, 0.5337781310081482, 0.5397222638130188, 0.560617208480835, 0.5418490767478943, 0.5385695099830627, 0.5158801078796387, 0.5294302701950073, 0.5289818048477173, 0.5145644545555115, 0.5218194723129272, 0.5062537789344788, 0.5044625401496887, 0.5041242241859436, 0.5011053681373596, 0.5048019289970398, 0.4938613176345825, 0.4807358682155609, 0.493660569190979, 0.49169236421585083, 0.4855538606643677, 0.48244261741638184, 0.48337018489837646, 0.474090039730072, 0.461073637008667, 0.4854992926120758, 0.47512832283973694, 0.4894622266292572, 0.4865143597126007, 0.45801836252212524, 0.4679358899593353, 0.4870688319206238, 0.4609021842479706, 0.47940632700920105, 0.48858967423439026, 0.4630909264087677, 0.47906023263931274, 0.4873836636543274, 0.4650512933731079, 0.46718522906303406, 0.46005651354789734, 0.4698845446109772, 0.4697909653186798, 0.4544832408428192, 0.4511777460575104, 0.4710780382156372, 0.45578253269195557, 0.4577203094959259, 0.4555237889289856, 0.43653514981269836, 0.4481508135795593, 0.4292617738246918, 0.4354915916919708, 0.44270509481430054, 0.41951456665992737, 0.4439533054828644, 0.4204094409942627, 0.4152074158191681, 0.4267660677433014, 0.41289326548576355, 0.435396283864975, 0.42916813492774963, 0.42519065737724304, 0.41571035981178284, 0.4238920211791992, 0.4103698134422302, 0.4273757338523865, 0.4178479313850403, 0.42742177844047546, 0.4210837781429291, 0.4218240976333618, 0.4283544421195984, 0.4289967715740204, 0.42708608508110046, 0.42797571420669556, 0.4293631911277771, 0.44148775935173035, 0.4373636543750763, 0.4496645927429199, 0.4399993121623993, 0.43882670998573303, 0.46391117572784424, 0.4716007709503174, 0.4578467607498169, 0.4509557783603668, 0.45906907320022583, 0.4854065179824829, 0.47713133692741394, 0.477367639541626, 0.4885946214199066, 0.46605807542800903, 0.4921397566795349, 0.5008952021598816, 0.48398956656455994, 0.4942782521247864, 0.508267343044281, 0.5326569080352783, 0.5059367418289185, 0.5077411532402039, 0.5077778697013855, 0.504378616809845, 0.5301886200904846, 0.5480456948280334, 0.5337302684783936, 0.5134572386741638, 0.5049455165863037, 0.5372504591941833, 0.5606464743614197, 0.5120584964752197, 0.5690499544143677, 0.5156192183494568, 0.5328439474105835, 0.5164454579353333, 0.5435270667076111, 0.6218777894973755, 0.5387163162231445, 0.5196211338043213, 0.5710403323173523, 0.4914840757846832, 0.6547746658325195, 0.5234368443489075, 0.4445154666900635, 0.4830683767795563, 0.6118493676185608, 0.6282024383544922, 0.6442838311195374, 0.4913278818130493, 0.7321667075157166, 0.4857179820537567, 0.6158007383346558, 0.465854674577713, 0.5137976408004761, 0.4611043632030487, 0.7153630256652832, 0.703078031539917, 0.3853592574596405, 0.5053618550300598, 0.432468980550766, 0.519525945186615, 0.7834957838058472, 0.483490914106369, 0.4235135018825531, 0.5707900524139404, 0.7753008604049683, 0.4488666355609894, 0.42793527245521545, 0.5943856239318848, 0.35203883051872253, 0.36252275109291077, 0.6331855654716492, 0.6049579381942749, 0.6971958875656128, 0.4817366898059845, 0.44252485036849976, 0.39615052938461304, 0.45661816000938416, 0.6114992499351501, 0.4616258144378662, 0.38992661237716675, 0.4239884316921234, 0.5167141556739807, 0.44475293159484863, 0.4069150686264038, 0.4339347183704376, 0.46840405464172363, 0.5713353157043457, 0.4015091061592102, 0.48726460337638855, 0.5094603896141052, 0.4573386609554291, 0.4199765920639038, 0.49277493357658386, 0.4072718024253845, 0.42183244228363037, 0.4657596945762634, 0.45457351207733154, 0.4173831343650818, 0.4766693711280823, 0.4630264639854431, 0.41093766689300537, 0.4518950879573822, 0.48008090257644653, 0.4304817318916321, 0.4523821771144867, 0.42299917340278625, 0.4196571111679077, 0.4675481617450714, 0.43479955196380615, 0.4273809790611267, 0.4695388972759247, 0.42678406834602356, 0.4401548206806183, 0.45014312863349915, 0.48220956325531006, 0.4316635727882385, 0.44409239292144775, 0.43970367312431335, 0.43923869729042053, 0.4653772711753845, 0.45043084025382996, 0.4797993302345276, 0.46305060386657715, 0.44645828008651733, 0.4847502112388611, 0.46141019463539124, 0.4539385437965393, 0.46323922276496887, 0.4515462815761566, 0.4787828028202057, 0.4423879384994507, 0.47742795944213867, 0.4873381555080414, 0.4564485549926758, 0.4435865581035614, 0.4618283212184906, 0.4561748206615448, 0.4698283076286316, 0.42781245708465576, 0.4645431637763977, 0.4690014123916626, 0.43775126338005066, 0.4506300389766693, 0.43689027428627014, 0.48816755414009094, 0.43532273173332214, 0.43547987937927246, 0.4239102005958557, 0.4143712520599365, 0.4541899561882019, 0.47219109535217285, 0.46445441246032715, 0.4278000593185425, 0.43852052092552185, 0.41185685992240906, 0.4881478548049927, 0.42631790041923523, 0.4241947829723358, 0.43801209330558777, 0.48127347230911255, 0.44921478629112244, 0.40425023436546326, 0.409120112657547, 0.4916449785232544, 0.4466904401779175, 0.42170625925064087, 0.43678173422813416, 0.49611592292785645, 0.4181235134601593, 0.4293854534626007, 0.4567156732082367, 0.42123547196388245, 0.5057532787322998, 0.44319796562194824, 0.46897876262664795, 0.4290345013141632, 0.42699727416038513, 0.5085052251815796, 0.4892413318157196, 0.4327546954154968, 0.43302756547927856, 0.46082592010498047, 0.48263102769851685, 0.5064687728881836, 0.5079434514045715, 0.4386339783668518, 0.4407047927379608, 0.5492967367172241, 0.4783914387226105, 0.4808397889137268, 0.47128230333328247, 0.44400283694267273, 0.5276139974594116, 0.5135417580604553, 0.4343142509460449, 0.4670020341873169, 0.5298147797584534, 0.5716209411621094, 0.47468775510787964, 0.5217227935791016, 0.47350814938545227, 0.4843752980232239, 0.48277536034584045, 0.5141764283180237, 0.4642801880836487, 0.5710335373878479, 0.544631838798523, 0.5167720317840576, 0.6042594909667969, 0.48118826746940613, 0.5152085423469543, 0.466201514005661, 0.565036952495575, 0.45947352051734924, 0.43924471735954285, 0.49271008372306824, 0.5677061080932617, 0.5228331685066223, 0.45503664016723633, 0.5846232175827026, 0.4344930052757263, 0.5115489363670349, 0.5697383880615234, 0.5283119678497314, 0.44127222895622253, 0.45441991090774536, 0.4767592251300812, 0.4748295247554779, 0.4804977774620056, 0.44202330708503723, 0.5702996850013733, 0.4743865728378296, 0.45226842164993286, 0.541061520576477, 0.4286652207374573, 0.4665149748325348, 0.4824850857257843, 0.514626145362854, 0.4686715006828308, 0.4261312186717987, 0.4419237971305847, 0.4932572543621063, 0.47066935896873474, 0.4957064390182495, 0.4513167440891266, 0.4334961473941803, 0.5038424134254456, 0.47486618161201477, 0.4592432975769043, 0.5136991739273071, 0.4845694303512573, 0.4626683294773102, 0.4808450937271118, 0.48298031091690063, 0.49096474051475525, 0.4902607798576355, 0.512977123260498, 0.5045112371444702, 0.5127214193344116, 0.5043942928314209, 0.5052511692047119, 0.5111823081970215, 0.5176246762275696, 0.5123096108436584, 0.5178029537200928, 0.5162757039070129, 0.515369713306427, 0.5187724232673645, 0.5197510719299316, 0.5206888318061829, 0.522879958152771, 0.5240429043769836, 0.5235075354576111, 0.5261590480804443, 0.5275641083717346, 0.5264145135879517, 0.5216426253318787, 0.5299398899078369, 0.5151081681251526, 0.5158506035804749, 0.5208155512809753, 0.5136376023292542, 0.5248655080795288, 0.5280285477638245, 0.5081396102905273, 0.5053171515464783, 0.4994867444038391, 0.4859791100025177, 0.48997023701667786, 0.48264023661613464, 0.5294091701507568, 0.5246332287788391, 0.45492640137672424, 0.47726163268089294, 0.5262754559516907, 0.5143138766288757, 0.5163434147834778, 0.48676633834838867, 0.4668952524662018, 0.5545658469200134, 0.47984373569488525, 0.4599839746952057, 0.5382869839668274, 0.5203301906585693, 0.4346713721752167, 0.4950256049633026, 0.4506160020828247, 0.5044535994529724, 0.43591976165771484, 0.554597020149231, 0.4231518805027008, 0.4922149181365967, 0.5657732486724854, 0.4378509521484375, 0.434365451335907, 0.5228012204170227, 0.42600688338279724, 0.41260889172554016, 0.5167595744132996, 0.3785354793071747, 0.5133377909660339, 0.5523263216018677, 0.5312292575836182, 0.36505913734436035, 0.5791900157928467, 0.4241161644458771, 0.4987903833389282, 0.42797979712486267, 0.4528965950012207, 0.6357042193412781, 0.4738157391548157, 0.43445155024528503, 0.44580161571502686, 0.4522944688796997, 0.4941396117210388, 0.45691657066345215, 0.6414788961410522, 0.4938424229621887, 0.6098366379737854, 0.3978918790817261, 0.48895004391670227, 0.534361720085144, 0.5439276099205017, 0.39225277304649353, 0.6238433122634888, 0.5534202456474304, 0.4748040437698364, 0.4993481934070587, 0.586686372756958, 0.4945823848247528, 0.42382898926734924, 0.6394608020782471, 0.4826119840145111, 0.4540620744228363, 0.5364412665367126, 0.6680536866188049, 0.5208603143692017, 0.46120327711105347, 0.5225152969360352, 0.5275530219078064, 0.4858994483947754, 0.647179901599884, 0.48664233088493347, 0.5184348225593567, 0.5048698782920837, 0.45500630140304565, 0.6032688021659851, 0.4901632070541382, 0.45594388246536255, 0.4689006507396698, 0.4987207055091858, 0.5631024837493896, 0.472476989030838, 0.5397202968597412, 0.4560661017894745, 0.47721895575523376, 0.483020544052124, 0.4668539762496948, 0.4762771725654602, 0.46152862906455994, 0.5180611610412598, 0.4689807891845703, 0.4722959101200104, 0.45816564559936523, 0.5045445561408997, 0.4655558168888092, 0.463882178068161, 0.4461277425289154, 0.4775165617465973, 0.45036768913269043, 0.48540785908699036, 0.4615076780319214, 0.47421449422836304, 0.4452957212924957, 0.4620726406574249, 0.4466744065284729, 0.43547937273979187, 0.4581599533557892, 0.42319369316101074, 0.43833476305007935, 0.43739715218544006, 0.43714845180511475, 0.42920297384262085, 0.45148760080337524, 0.4326164126396179, 0.4326331615447998, 0.4209947884082794, 0.4232439696788788, 0.42156437039375305, 0.44537970423698425, 0.4388585686683655, 0.4214853048324585, 0.4221130907535553, 0.42629241943359375, 0.4301285147666931, 0.44937339425086975, 0.4442078173160553, 0.41868141293525696, 0.4415077269077301, 0.4516650438308716, 0.4480777084827423, 0.43892702460289, 0.4474186897277832, 0.4653094410896301, 0.4365621507167816, 0.446456640958786, 0.43681564927101135, 0.4647900462150574, 0.44547906517982483, 0.4336228668689728, 0.443118155002594, 0.4568755626678467, 0.43144214153289795, 0.44696053862571716, 0.4704100489616394, 0.4532725512981415, 0.45619240403175354, 0.48388397693634033, 0.4436064064502716, 0.46368342638015747, 0.45593371987342834, 0.4539644718170166, 0.49464574456214905, 0.45728790760040283, 0.4817488491535187, 0.4682474434375763, 0.4648633599281311, 0.5014001727104187, 0.46337080001831055, 0.465996652841568, 0.4813793897628784, 0.4726445972919464, 0.4804306924343109, 0.5083906650543213, 0.4739321172237396, 0.47209516167640686, 0.49096956849098206, 0.49473005533218384, 0.4888388216495514, 0.5154524445533752, 0.4786337614059448, 0.488546758890152, 0.48639118671417236, 0.5195574164390564, 0.501390278339386, 0.49077263474464417, 0.504572331905365, 0.5274888873100281, 0.5123607516288757, 0.502413809299469, 0.5160678029060364, 0.4986748695373535, 0.516592264175415, 0.5326366424560547, 0.5169306993484497, 0.5283366441726685, 0.5154609680175781, 0.5415055155754089, 0.5327004790306091, 0.5332471132278442, 0.532036542892456, 0.5372731685638428, 0.547194242477417, 0.5440381765365601, 0.5489983558654785, 0.5453847646713257, 0.5481885671615601, 0.5573419332504272, 0.5566302537918091, 0.5565958023071289, 0.5575419664382935, 0.5552040338516235, 0.5629477500915527, 0.5616568326950073, 0.5603681206703186, 0.5618798732757568, 0.5562061071395874, 0.5595215559005737, 0.5577929019927979, 0.5623118281364441, 0.5547557473182678, 0.5598974823951721, 0.5616012811660767, 0.5568767786026001, 0.5561401844024658, 0.5625205039978027, 0.548188328742981, 0.5563908219337463, 0.5489934086799622, 0.5424318909645081, 0.5624715089797974, 0.5662364363670349, 0.5537289977073669, 0.5493484735488892, 0.5589112639427185, 0.5616804957389832, 0.5414976477622986, 0.5320027470588684, 0.5558176636695862, 0.5691895484924316, 0.5614543557167053, 0.5547547936439514, 0.5589985847473145, 0.5312175154685974, 0.5629547238349915, 0.5653148293495178, 0.5592527389526367, 0.5693122744560242, 0.5544310808181763, 0.5495316386222839, 0.5794795155525208, 0.5476787686347961, 0.5596925616264343, 0.5646808743476868, 0.5865699052810669, 0.5603644251823425, 0.5478264093399048, 0.5747679471969604, 0.5300087928771973, 0.5646050572395325, 0.5566582083702087, 0.5666045546531677, 0.5239570736885071, 0.5673786401748657, 0.5522280931472778, 0.5529471635818481, 0.5303236246109009, 0.5467372536659241, 0.544824481010437, 0.5372380018234253, 0.503020167350769, 0.5364776253700256, 0.49807339906692505, 0.5325326323509216, 0.5273948311805725, 0.5438187718391418, 0.5328782796859741, 0.5337616801261902, 0.5386461019515991, 0.5274232625961304, 0.5216213464736938, 0.5012123584747314, 0.49977168440818787, 0.5242952108383179, 0.5400925278663635, 0.5284937620162964, 0.5365912318229675, 0.49686309695243835, 0.5293139815330505, 0.5445052981376648, 0.5238960981369019, 0.5409581065177917, 0.5013055205345154, 0.5015980005264282, 0.5416589975357056, 0.5353407859802246, 0.5447682738304138, 0.5386093258857727, 0.49269822239875793, 0.5389301180839539, 0.5019665956497192, 0.5258094668388367, 0.5177483558654785, 0.48357531428337097, 0.5294721722602844, 0.5265898704528809, 0.5344985127449036, 0.5078216791152954, 0.538205087184906, 0.49625352025032043, 0.5007658004760742, 0.5275916457176208, 0.5012770891189575, 0.5270648002624512, 0.5011468529701233, 0.5343642234802246, 0.5054514408111572, 0.5177464485168457, 0.5192193984985352, 0.4940599203109741, 0.5175991058349609, 0.521116316318512, 0.5204558968544006, 0.5190841555595398, 0.5176806449890137, 0.5257140398025513, 0.5034996271133423, 0.5219500064849854, 0.5252659320831299, 0.516556978225708, 0.5213862061500549, 0.5315446853637695, 0.5292777419090271, 0.5328062176704407, 0.5355867147445679, 0.5336762070655823, 0.5269820094108582, 0.538445770740509, 0.5377032160758972, 0.5384935140609741, 0.5384765267372131, 0.5418939590454102, 0.5392494201660156, 0.5384154319763184, 0.5403470396995544, 0.5391067862510681, 0.539553701877594, 0.5365048050880432, 0.5364059209823608, 0.5361747741699219, 0.5360727310180664, 0.5375525951385498, 0.5337336659431458, 0.532938539981842, 0.5337557196617126, 0.5347875952720642, 0.5340335369110107, 0.5343846678733826, 0.5330827236175537, 0.5339959859848022, 0.5347914099693298, 0.534999430179596, 0.5349004864692688, 0.5337784886360168, 0.5351098775863647, 0.5339007377624512, 0.5353274345397949, 0.534978449344635, 0.5345073342323303, 0.5360327363014221, 0.5327986478805542, 0.5362496972084045, 0.5358865261077881, 0.5298148393630981, 0.5316680073738098, 0.5314033031463623, 0.5325736999511719, 0.5324017405509949, 0.5306119322776794, 0.5289970636367798, 0.5351943373680115, 0.5368117690086365, 0.5380686521530151, 0.5368872284889221, 0.532417356967926, 0.5289373993873596, 0.5300765037536621, 0.5302221775054932, 0.5428507328033447, 0.5407376885414124, 0.5348849892616272, 0.5349647402763367, 0.5332614183425903, 0.5382581353187561, 0.5401443839073181, 0.5381060838699341, 0.5496723055839539, 0.5363451242446899, 0.5524495840072632, 0.5323717594146729, 0.5361300110816956, 0.5406060814857483, 0.5503791570663452, 0.5302827954292297, 0.5502526760101318, 0.5341328978538513, 0.5473412871360779, 0.5327596068382263, 0.5596547722816467, 0.5412449240684509, 0.5414943099021912, 0.5328328609466553, 0.5618871450424194, 0.527878999710083, 0.5556097626686096, 0.5404048562049866, 0.5350314378738403, 0.5533101558685303, 0.534488320350647, 0.5484331846237183, 0.5765424370765686, 0.5375593900680542, 0.54259192943573, 0.5846236348152161, 0.5351751446723938, 0.5575287938117981, 0.5565943121910095, 0.5959749817848206, 0.5414882898330688, 0.5526351928710938, 0.5761314034461975, 0.553558349609375, 0.6178131699562073, 0.5731881856918335, 0.558418333530426, 0.5533589720726013, 0.5577422976493835, 0.5411121249198914, 0.6038182377815247, 0.5565502643585205, 0.5522810816764832, 0.588843822479248, 0.535912036895752, 0.5409124493598938, 0.5487464070320129, 0.5910882949829102, 0.5832717418670654, 0.5376182794570923, 0.5227482914924622, 0.564322292804718, 0.5892853736877441, 0.5479462146759033, 0.5431376099586487, 0.5503590106964111, 0.5931915640830994, 0.5362943410873413, 0.5243759751319885, 0.5685425400733948, 0.5371759533882141, 0.5859112739562988, 0.5231863260269165, 0.5189319252967834, 0.5555168390274048, 0.5903137922286987, 0.5085797905921936, 0.5145187973976135, 0.5511921048164368, 0.5953046083450317, 0.53252112865448, 0.5166424512863159, 0.5132682919502258, 0.5704771876335144, 0.5009320974349976, 0.5479971170425415, 0.5648557543754578, 0.590453565120697, 0.5076525211334229, 0.5245258212089539, 0.5257560610771179, 0.507093608379364, 0.6142830848693848, 0.5237641334533691, 0.5171939134597778, 0.5685144662857056, 0.5956742167472839, 0.48216941952705383, 0.4922955632209778, 0.49634185433387756, 0.4732610583305359, 0.5951629281044006, 0.5587207078933716, 0.4698949158191681, 0.4731466472148895, 0.6032811999320984, 0.518490195274353, 0.4320320785045624, 0.47902974486351013, 0.40172824263572693, 0.5442061424255371, 0.5441736578941345, 0.3861221969127655, 0.5474715232849121, 0.3816048502922058, 0.47127044200897217, 0.35788989067077637, 0.6144666075706482, 0.5168636441230774, 0.32008451223373413, 0.45446881651878357, 0.6159153580665588, 0.3601386547088623, 0.5308406949043274, 0.6151525974273682, 0.34606942534446716, 0.44118478894233704, 0.46800941228866577, 0.32598504424095154, 0.48647016286849976, 0.5599334836006165, 0.48290541768074036, 0.35327666997909546, 0.26558917760849, 0.6168774366378784, 0.48418527841567993, 0.34959957003593445, 0.3220446705818176, 0.3756749927997589, 0.3799162805080414, 0.3765072226524353, 0.6347014307975769, 0.4249006509780884, 0.39239123463630676, 0.5613667368888855, 0.4349950850009918, 0.5585492253303528, 0.3606697916984558, 0.366065114736557, 0.5959463715553284, 0.49043339490890503, 0.3378274440765381, 0.4655328691005707, 0.45299550890922546, 0.4079558253288269, 0.4206741750240326, 0.4535009264945984, 0.46326684951782227, 0.6458064317703247, 0.44070303440093994, 0.6661641597747803, 0.3956935405731201, 0.496643990278244, 0.4451325237751007, 0.4088875651359558, 0.4209994375705719, 0.5335155725479126, 0.6712331175804138, 0.4942854940891266, 0.38859549164772034, 0.40075787901878357, 0.6873975396156311, 0.5331822633743286, 0.5716002583503723, 0.5821521878242493, 0.6163939833641052, 0.6256815791130066, 0.29570701718330383, 0.5641360878944397, 0.6387361884117126, 0.36554810404777527, 0.6960318088531494, 0.6208018064498901, 0.4195863902568817, 0.4151683747768402, 0.7037439346313477, 0.714144229888916, 0.5615003108978271, 0.43417152762413025, 0.5681678056716919, 0.4833090603351593, 0.8109855055809021, 0.564124584197998, 0.4748702645301819, 0.8223029971122742, 0.6164615154266357, 0.628135085105896, 0.4351746737957001, 0.5153669714927673, 0.4719756841659546, 0.8461955189704895, 0.7083207964897156, 0.47154974937438965, 0.6248260736465454, 0.5875735878944397, 0.8838477730751038, 0.5091203451156616, 0.6865921020507812, 0.5252146124839783, 0.8968508243560791, 0.5773371458053589, 0.538787305355072, 0.5444459915161133, 0.6405229568481445, 0.6764463782310486, 0.560736894607544, 0.5275433659553528, 0.8941059112548828, 0.4925624132156372, 0.6797667145729065, 0.7343196272850037, 0.7441707253456116, 0.4177849590778351, 0.4222572445869446, 0.43717649579048157, 0.5659531354904175, 0.6353926062583923, 0.750537097454071, 0.47170451283454895, 0.6214316487312317, 0.6698669195175171, 0.4470462203025818, 0.5899428725242615, 0.4426595866680145, 0.5703039169311523, 0.5534110069274902, 0.5470743775367737, 0.546090304851532, 0.45738133788108826, 0.5145617723464966, 0.5100197792053223, 0.5317697525024414, 0.5107690095901489, 0.5180330276489258, 0.531887948513031, 0.5197378396987915, 0.500490128993988, 0.5185705423355103, 0.4671427607536316, 0.5251997709274292, 0.4924736022949219, 0.5326785445213318, 0.44137540459632874, 0.494724839925766, 0.5325635671615601, 0.4965246915817261, 0.509358286857605, 0.41231727600097656, 0.483991414308548, 0.5096765160560608, 0.4148969054222107, 0.5022671222686768, 0.49093279242515564, 0.4398086369037628, 0.48622408509254456, 0.46543392539024353, 0.42219144105911255, 0.42167285084724426, 0.4809168577194214, 0.4734167158603668, 0.415539413690567, 0.43455761671066284, 0.47229593992233276, 0.43804511427879333, 0.45027825236320496, 0.41111066937446594, 0.4578581750392914, 0.43472418189048767, 0.4069982171058655, 0.39853164553642273, 0.45738694071769714, 0.4245292544364929, 0.4362609088420868, 0.4190292954444885, 0.4382805824279785, 0.4576708972454071, 0.40290337800979614, 0.4108513593673706, 0.449799120426178, 0.44604259729385376, 0.4303036630153656, 0.44972312450408936, 0.45930203795433044, 0.4014904499053955, 0.4035017788410187, 0.4542580842971802, 0.48095884919166565, 0.46176114678382874, 0.4639570415019989, 0.4372255802154541, 0.48395952582359314, 0.49806785583496094, 0.46482956409454346, 0.4423327147960663, 0.4765957295894623, 0.4365939497947693, 0.485603928565979, 0.48546910285949707, 0.4674670696258545, 0.49599555134773254, 0.4796575903892517, 0.486884206533432, 0.4519960880279541, 0.462656706571579, 0.49633103609085083, 0.43880757689476013, 0.48991987109184265, 0.46793437004089355, 0.49932682514190674, 0.4316422939300537, 0.45521828532218933, 0.45812341570854187, 0.5000053644180298, 0.4506528973579407, 0.4596940875053406, 0.4586806297302246, 0.4826292395591736, 0.4347217381000519, 0.399254709482193, 0.44450727105140686, 0.5074878931045532, 0.4120572805404663, 0.44216880202293396, 0.4394700527191162, 0.43370646238327026, 0.43499135971069336, 0.45315951108932495, 0.4118642508983612, 0.49466755986213684, 0.46767833828926086, 0.42940908670425415, 0.45962095260620117, 0.43400445580482483, 0.4884549379348755, 0.4584605097770691, 0.4302930533885956, 0.4663548469543457, 0.485897421836853, 0.442579984664917, 0.4700533151626587, 0.5008553266525269, 0.454964280128479, 0.4644368290901184, 0.46393534541130066, 0.49745672941207886, 0.4909310042858124, 0.514849841594696, 0.4787321388721466, 0.5046635866165161, 0.48610010743141174, 0.4937344789505005, 0.4757591485977173, 0.5120807886123657, 0.5184151530265808, 0.475015789270401, 0.4758037328720093, 0.5046578645706177, 0.49558356404304504, 0.5382206439971924, 0.46022269129753113, 0.5036553144454956, 0.5199843645095825, 0.47207188606262207, 0.4258143901824951, 0.43013763427734375, 0.4343537390232086, 0.4209931790828705, 0.4756702780723572, 0.5364129543304443, 0.48922374844551086, 0.4067079722881317, 0.5055170655250549, 0.4140453338623047, 0.4112655520439148, 0.42704489827156067, 0.3846161961555481, 0.3740631341934204, 0.469292551279068, 0.41820910573005676, 0.3886643648147583, 0.3658433258533478, 0.3851841390132904, 0.3748605251312256, 0.450161337852478, 0.41216787695884705, 0.411062091588974, 0.35287588834762573, 0.35887062549591064, 0.3985923230648041, 0.3657505512237549, 0.37208372354507446, 0.37533196806907654, 0.3523399531841278, 0.422743022441864, 0.33548516035079956, 0.38045886158943176, 0.38797351717948914, 0.40003710985183716, 0.3689349293708801, 0.3631175458431244, 0.3655744194984436, 0.3702238202095032, 0.40403926372528076, 0.4136735498905182, 0.38745254278182983, 0.39981091022491455, 0.41478028893470764, 0.3508979380130768, 0.3882215917110443, 0.3799588978290558, 0.39399465918540955, 0.37018948793411255, 0.40050020813941956, 0.44103994965553284, 0.37040865421295166, 0.36345070600509644, 0.4410938024520874, 0.38907015323638916, 0.4160279929637909, 0.36390870809555054, 0.46137744188308716, 0.4043090045452118, 0.37982264161109924, 0.3826846480369568, 0.4495062232017517, 0.395365834236145, 0.37702855467796326, 0.388023316860199, 0.3390900790691376, 0.3345450758934021, 0.4611036479473114, 0.3923526406288147, 0.3749801814556122, 0.37055352330207825, 0.3249090015888214, 0.3624006509780884, 0.37984830141067505, 0.4094366729259491, 0.4638027846813202, 0.33019202947616577, 0.49151748418807983, 0.337404727935791, 0.3531942665576935, 0.3967542350292206, 0.47483429312705994, 0.46468767523765564, 0.3072199523448944, 0.3584226369857788, 0.3302823007106781, 0.4081725776195526, 0.35717737674713135, 0.3142865002155304, 0.5283735394477844, 0.3035622835159302, 0.4218154847621918, 0.4367997348308563, 0.28070616722106934, 0.25799480080604553, 0.493082195520401, 0.3142838180065155, 0.25944605469703674, 0.45214349031448364, 0.3334293067455292, 0.5615670680999756, 0.37133732438087463, 0.3660639822483063, 0.6350146532058716, 0.3605625033378601, 0.27113065123558044, 0.2799382507801056, 0.317630797624588, 0.5718594789505005, 0.2887175679206848, 0.5959142446517944, 0.24691124260425568, 0.6256835460662842, 0.26439881324768066, 0.4963618218898773, 0.4242933988571167, 0.45778149366378784, 0.6262223720550537, 0.18750101327896118, 0.4238128066062927, 0.3828960657119751, 0.33412835001945496, 0.7132090926170349, 0.27858835458755493, 0.4325242042541504, 0.2909623384475708, 0.523004949092865, 0.17150327563285828, 0.26940885186195374, 0.5316798090934753, 0.6083256602287292, 0.7794704437255859, 0.3117712140083313, 0.23150332272052765, 0.43529507517814636, 0.34374842047691345, 0.23844853043556213, 0.2617231607437134, 0.6497442722320557, 0.30359911918640137, 0.639865517616272, 0.2883851230144501, 0.3110419511795044, 0.34975406527519226, 0.756259024143219, 0.33547917008399963, 0.26876088976860046, 0.39823633432388306, 0.2480359673500061, 0.5464056134223938, 0.5889124274253845, 0.24371205270290375, 0.3538144826889038, 0.41949528455734253, 0.36300957202911377, 0.5736152529716492, 0.34233322739601135, 0.32497668266296387, 0.47340136766433716, 0.2911844253540039, 0.4978816509246826, 0.48552247881889343, 0.3123679459095001, 0.3607725501060486, 0.3813297152519226, 0.3269401788711548, 0.3627163767814636, 0.33649951219558716, 0.34096723794937134, 0.46307289600372314, 0.3586098253726959, 0.34751808643341064, 0.3500208556652069, 0.4074794352054596, 0.35276085138320923, 0.4091811180114746, 0.38695624470710754, 0.3879733979701996, 0.3598271310329437, 0.3977198004722595, 0.35421305894851685, 0.40477344393730164, 0.38541650772094727, 0.37759119272232056, 0.38937854766845703, 0.3821962773799896, 0.4023924469947815, 0.40250682830810547, 0.408258318901062, 0.4074731767177582, 0.39863595366477966, 0.4221383333206177, 0.42453035712242126, 0.4270392060279846, 0.42601072788238525, 0.4236946403980255, 0.45122721791267395, 0.4465092122554779, 0.4433111250400543, 0.44736579060554504, 0.4383661150932312, 0.4459794759750366, 0.4536330997943878, 0.45699572563171387, 0.454581618309021, 0.45962586998939514, 0.47142574191093445, 0.46676087379455566, 0.47197553515434265, 0.4694043695926666, 0.4643826484680176, 0.4812447428703308, 0.48020240664482117, 0.472709059715271, 0.4749234914779663, 0.47457367181777954, 0.47471022605895996, 0.4783703088760376, 0.48251932859420776, 0.4769887328147888, 0.4781215488910675, 0.4789726436138153, 0.48113545775413513, 0.4922492802143097, 0.4860765039920807, 0.49461308121681213, 0.49387890100479126, 0.47211897373199463, 0.4972750246524811, 0.49711284041404724, 0.4792642295360565, 0.49005645513534546, 0.5090115070343018, 0.47762346267700195, 0.5063157081604004, 0.46589359641075134, 0.49134641885757446, 0.4496576488018036, 0.5041075944900513, 0.46778881549835205, 0.5126901865005493, 0.40894815325737, 0.4878827929496765, 0.4713229238986969, 0.5034335851669312, 0.4688565135002136, 0.43897590041160583, 0.43516772985458374, 0.5064975023269653, 0.45444226264953613, 0.39844441413879395, 0.48558899760246277, 0.3767091631889343, 0.4325762987136841, 0.40586453676223755, 0.4497204124927521, 0.4076612889766693, 0.4087810814380646, 0.49260327219963074, 0.3857649266719818, 0.36394843459129333, 0.3388284146785736, 0.3836999237537384, 0.47267475724220276, 0.37370994687080383, 0.45605915784835815, 0.38056445121765137, 0.3160345256328583, 0.4378596544265747, 0.47202417254447937, 0.4368136525154114, 0.4175512194633484, 0.5100520849227905, 0.3178618848323822, 0.37531810998916626, 0.45589226484298706, 0.36061546206474304, 0.39754047989845276, 0.5178210735321045, 0.32361361384391785, 0.5264241695404053, 0.37206995487213135, 0.4387734532356262, 0.3405072093009949, 0.5706103444099426, 0.3809620440006256, 0.34461989998817444, 0.39964058995246887, 0.41600826382637024, 0.352500319480896, 0.5490713715553284, 0.41310998797416687, 0.5238840579986572, 0.342051237821579, 0.4100211560726166, 0.3539137542247772, 0.3288557529449463, 0.39629629254341125, 0.3633575439453125, 0.49133962392807007, 0.46535855531692505, 0.4208861291408539, 0.4942488968372345, 0.42198604345321655, 0.3531918525695801, 0.36559703946113586, 0.3865322470664978, 0.4742208421230316, 0.45455652475357056, 0.37377119064331055, 0.3870195746421814, 0.38769593834877014, 0.38686296343803406, 0.44743767380714417, 0.4474540948867798, 0.46099165081977844, 0.4629296660423279, 0.467390239238739, 0.4517928659915924, 0.3980983793735504, 0.4312232732772827, 0.46190622448921204, 0.4299786388874054, 0.4725639820098877, 0.46098020672798157, 0.48838523030281067, 0.47081390023231506, 0.47324198484420776, 0.488813579082489, 0.45630231499671936, 0.4937605857849121, 0.4927152395248413, 0.48334431648254395, 0.4953233599662781, 0.4900253713130951, 0.4821139872074127, 0.514816164970398, 0.49773579835891724, 0.5002632141113281, 0.5065532922744751, 0.5091957449913025, 0.5430516004562378, 0.5245324969291687, 0.5382142066955566, 0.529076099395752, 0.5071790814399719, 0.520632803440094, 0.5579937100410461, 0.5630687475204468, 0.5588670372962952, 0.5445783138275146, 0.5626572966575623, 0.5225005149841309, 0.5682346820831299, 0.5677856206893921, 0.5639791488647461, 0.5735320448875427, 0.5751701593399048, 0.5338009595870972, 0.5708752274513245, 0.5623657703399658, 0.5376328825950623, 0.566232442855835, 0.5517181754112244, 0.5636079907417297, 0.5635728240013123, 0.5473803877830505, 0.5649996995925903, 0.5523306727409363, 0.5449382066726685, 0.5414658784866333, 0.5274322032928467, 0.5452169179916382, 0.5597772002220154, 0.5617293119430542, 0.5681881308555603, 0.5188031196594238, 0.5653031468391418, 0.5106676816940308, 0.5621707439422607, 0.5293023586273193, 0.5498236417770386, 0.48007214069366455, 0.5092678666114807, 0.5497567653656006, 0.4947974979877472, 0.4563031494617462, 0.5216884016990662, 0.560917317867279, 0.4907287061214447, 0.4708290100097656, 0.4514051377773285, 0.4389767050743103, 0.5344422459602356, 0.5399506688117981, 0.43312305212020874, 0.47433221340179443, 0.4153752028942108, 0.5196019411087036, 0.37363487482070923, 0.5332796573638916, 0.3814792335033417, 0.40671607851982117, 0.5775994062423706, 0.42787009477615356, 0.5010925531387329, 0.5318231582641602, 0.35770073533058167, 0.4370233118534088, 0.43673408031463623, 0.5788408517837524, 0.6162815093994141, 0.36184608936309814, 0.443562775850296, 0.4463634788990021, 0.533684253692627, 0.5014901757240295, 0.4455263614654541, 0.6566766500473022, 0.3850131630897522, 0.5461122393608093, 0.4315057396888733, 0.4705544412136078, 0.6550411581993103, 0.6545621752738953, 0.4671958386898041, 0.502051591873169, 0.7059847116470337, 0.49775469303131104, 0.4352934956550598, 0.6828708648681641, 0.4490893483161926, 0.46201029419898987, 0.78328937292099, 0.5633374452590942, 0.5794669985771179, 0.4667081832885742, 0.6967911124229431, 0.35182809829711914, 0.7620113492012024, 0.4611460268497467, 0.8340440392494202, 0.5627386569976807, 0.33800816535949707, 0.4929085671901703, 0.5012125372886658, 0.610307514667511, 0.3540373742580414, 0.3452050983905792, 0.6002703905105591, 0.8364138007164001, 0.5132496953010559, 0.41176390647888184, 0.33449074625968933, 0.8079174757003784, 0.7955066561698914, 0.18716934323310852, 0.6230363249778748, 0.6991536617279053, 0.44940420985221863, 0.8444015383720398, 0.8742184042930603, 0.22389166057109833, 0.34350359439849854, 0.791109561920166, 0.5208923816680908, 0.7802212238311768, 0.4064229130744934, 0.19883964955806732, 0.6604267358779907, 0.7680913805961609, 0.6896320581436157, 0.5650410056114197, 0.3858107030391693, 0.8102399110794067, 0.23378784954547882, 0.3054980933666229, 0.41228824853897095, 0.8252642154693604, 0.5810895562171936, 0.5371925234794617, 0.4210166931152344, 0.6784883737564087, 0.7283922433853149, 0.2580362856388092, 0.5455235242843628, 0.45731502771377563, 0.2424481213092804, 0.5294168591499329, 0.6531275510787964, 0.7154266238212585, 0.28377243876457214, 0.45828819274902344, 0.5164708495140076, 0.43651869893074036, 0.7725062966346741, 0.7717666029930115, 0.462920218706131, 0.3734629452228546, 0.48246264457702637, 0.2996405363082886, 0.5769072771072388, 0.30326297879219055, 0.3486492931842804, 0.4583680331707001, 0.731185793876648, 0.6823163032531738, 0.6410156488418579, 0.5081253051757812, 0.30561327934265137, 0.3201848566532135, 0.4802229702472687, 0.3407212793827057, 0.38435155153274536, 0.7201284170150757, 0.547714352607727, 0.6565227508544922, 0.454887330532074, 0.5371780395507812, 0.5757460594177246, 0.2991775572299957, 0.4405810236930847, 0.5629235506057739, 0.7199547290802002, 0.42205244302749634, 0.3994007706642151, 0.519372820854187, 0.6918975710868835, 0.619600772857666, 0.38116878271102905, 0.382418692111969, 0.6762440800666809, 0.402981162071228, 0.4522438645362854, 0.42144960165023804, 0.678798258304596, 0.6606044173240662, 0.6614747047424316, 0.39229217171669006, 0.45545488595962524, 0.4474814832210541, 0.4463356137275696, 0.44778284430503845, 0.46142688393592834, 0.730093777179718, 0.5138583779335022, 0.5428017973899841, 0.3405032455921173, 0.5363029837608337, 0.619350016117096, 0.6236712336540222, 0.6789356470108032, 0.6638233065605164, 0.45796334743499756, 0.45662766695022583, 0.4832252264022827, 0.6754907965660095, 0.5078385472297668, 0.4620034098625183, 0.6917550563812256, 0.4852471947669983, 0.7223317623138428, 0.5531911253929138, 0.5699436664581299, 0.6352313756942749, 0.41725242137908936, 0.6208108067512512, 0.6932520866394043, 0.5928603410720825, 0.430334210395813, 0.6076451539993286, 0.6317573189735413, 0.5953994393348694, 0.504127025604248, 0.7211381793022156, 0.5868397355079651, 0.7102189660072327, 0.6724351644515991, 0.6485217213630676, 0.5902796387672424, 0.5772534012794495, 0.591256856918335, 0.6472498774528503, 0.6895931363105774, 0.6472365856170654, 0.7420386075973511, 0.7439110279083252, 0.64347243309021, 0.683225154876709, 0.6742846965789795, 0.7608202695846558, 0.807371973991394, 0.6994158029556274, 0.7383333444595337, 0.7772158980369568, 0.7356679439544678, 0.7992131114006042, 0.8526256680488586, 0.832273542881012, 0.8019768595695496, 0.7686814069747925, 0.8585898280143738, 0.8731547594070435, 0.8627395033836365, 0.8520461916923523, 0.9066784381866455, 0.8708245754241943, 0.891880989074707, 0.8689349889755249, 0.8855090737342834, 0.8864307403564453, 0.8591322898864746, 0.854884147644043, 0.8554554581642151, 0.8479887247085571, 0.8550804853439331, 0.843733012676239, 0.8521014451980591, 0.8327981233596802, 0.833787202835083, 0.8253659009933472, 0.6989957690238953, 0.7374001741409302, 0.7436866760253906, 0.7497664093971252, 0.7506362199783325, 0.659774899482727, 0.6683793663978577, 0.6449809670448303, 0.621551513671875, 0.6934970617294312, 0.6289571523666382, 0.5736788511276245, 0.6108307242393494, 0.5729411840438843, 0.5988917946815491, 0.5701184868812561, 0.5593405365943909, 0.5382624864578247, 0.5541532039642334, 0.5393531918525696, 0.5316283702850342, 0.5386158227920532, 0.5224045515060425, 0.5268484950065613, 0.5346903800964355, 0.5194777250289917, 0.5428965091705322, 0.551788866519928, 0.5348007082939148, 0.5444229245185852, 0.5798550248146057, 0.5616441965103149, 0.5868498682975769, 0.5766125321388245, 0.5676883459091187, 0.5783324241638184, 0.5806608200073242, 0.5531595349311829, 0.5904445648193359, 0.586893618106842, 0.5700434446334839, 0.5970659255981445, 0.5796433687210083, 0.5682864189147949, 0.5946784615516663, 0.5540785193443298, 0.595308780670166, 0.597707986831665, 0.5829759836196899, 0.5962969660758972, 0.5389168858528137, 0.5511659979820251, 0.5846497416496277, 0.5589606165885925, 0.5428735613822937, 0.5040880441665649, 0.532383143901825, 0.5512244701385498, 0.5223301649093628, 0.5142096877098083, 0.44081366062164307, 0.5045621395111084, 0.4716068208217621, 0.4642656445503235, 0.45770376920700073, 0.4602016508579254, 0.4301128685474396, 0.37864652276039124, 0.40735286474227905, 0.4338969588279724, 0.4649345576763153, 0.41389358043670654, 0.39125901460647583, 0.4586513340473175, 0.39787110686302185, 0.35854026675224304, 0.3226168155670166, 0.33300191164016724, 0.4000343382358551, 0.3367498815059662, 0.26756545901298523, 0.25179150700569153, 0.2305898517370224, 0.227593332529068, 0.29231977462768555, 0.1911602020263672, 0.25075283646583557, 0.23224125802516937, 0.25204965472221375, 0.2220916599035263, 0.2457493245601654, 0.25159263610839844, 0.25639232993125916, 0.23338815569877625, 0.3074079155921936, 0.32099464535713196, 0.372430682182312, 0.3575069308280945, 0.2984744906425476, 0.3203301727771759, 0.453701376914978, 0.39913037419319153, 0.4770113527774811, 0.440290242433548, 0.4728109538555145, 0.5499441027641296, 0.5325302481651306, 0.5857908129692078, 0.5570741891860962, 0.5660753846168518, 0.6460226774215698, 0.638672947883606, 0.6357275247573853, 0.6505300998687744, 0.6489458084106445, 0.6699953079223633, 0.6732931733131409, 0.6698775291442871, 0.6444765329360962, 0.6304044127464294, 0.6011893153190613, 0.6259344220161438, 0.6198254823684692, 0.6275522112846375, 0.6006540060043335, 0.5954203009605408, 0.6048240065574646, 0.609134316444397, 0.5903189182281494, 0.5903391242027283, 0.6057608127593994, 0.6069012880325317, 0.6135579943656921, 0.5869507789611816, 0.6014355421066284, 0.6348890662193298, 0.6181555390357971, 0.620567798614502, 0.6286734342575073, 0.6398299932479858, 0.6493085622787476, 0.6558519005775452, 0.5768826007843018, 0.6655924916267395, 0.6546568870544434, 0.623924732208252, 0.6148611903190613, 0.6388897895812988, 0.6356756091117859, 0.6822714805603027, 0.5994948744773865, 0.5593500137329102, 0.5466366410255432, 0.6057438254356384, 0.6411666870117188, 0.611651599407196, 0.5835457444190979, 0.5075811743736267, 0.5327375531196594, 0.6249486207962036, 0.5597797632217407, 0.6091721653938293, 0.569453775882721, 0.5122380256652832, 0.6647587418556213, 0.6439782977104187, 0.5696241855621338, 0.5019551515579224, 0.5603411197662354, 0.6658095717430115, 0.6767938137054443, 0.5848034620285034, 0.7150565385818481, 0.5647575855255127, 0.5637573003768921, 0.5301224589347839, 0.7476116418838501, 0.6171094179153442, 0.63895583152771, 0.6815297603607178, 0.7274636626243591, 0.5014621019363403, 0.6345885396003723, 0.5208072066307068, 0.6999961137771606, 0.45446211099624634, 0.7338072657585144, 0.5192767977714539, 0.5743110775947571, 0.6083244681358337, 0.6782088875770569, 0.37943848967552185, 0.4710896611213684, 0.46060115098953247, 0.5407213568687439, 0.5804268717765808, 0.26613858342170715, 0.4540468454360962, 0.41358014941215515, 0.5328759551048279, 0.49790555238723755, 0.4988119304180145, 0.5219396352767944, 0.44126442074775696, 0.22682055830955505, 0.35297882556915283, 0.5249184966087341, 0.5722543001174927, 0.2375912070274353, 0.3682670593261719, 0.2447836995124817, 0.4002337157726288, 0.3148634731769562, 0.6550434231758118, 0.4171123504638672, 0.25564539432525635, 0.5985475778579712, 0.2807028591632843, 0.27384933829307556, 0.5678019523620605, 0.21245619654655457, 0.23467087745666504, 0.3365115225315094, 0.6918066143989563, 0.42066141963005066, 0.19183862209320068, 0.17511813342571259, 0.4344862997531891, 0.5424047708511353, 0.5884647369384766, 0.37334686517715454, 0.22058941423892975, 0.29582807421684265, 0.7911369204521179, 0.2782035171985626, 0.5076040625572205, 0.7051723599433899, 0.30093273520469666, 0.14570994675159454, 0.6614862084388733, 0.651904284954071, 0.8232921957969666, 0.20735104382038116, 0.3393166661262512, 0.3805607855319977, 0.812102198600769, 0.5351507067680359, 0.646679162979126, 0.5913480520248413, 0.16105735301971436, 0.5588559508323669, 0.3229386508464813, 0.4676927328109741, 0.9067389965057373, 0.7140756249427795, 0.8524830341339111, 0.8585023880004883, 0.44223225116729736, 0.58603435754776, 0.4077802002429962, 0.8770950436592102, 0.5688497424125671, 0.6331956386566162, 0.8820492625236511, 0.39409202337265015, 0.47175124287605286, 0.8997513651847839, 0.7042580842971802, 0.5982913970947266, 0.7891683578491211, 0.8765120506286621, 0.6457674503326416, 0.5464421510696411, 0.7252833247184753, 0.8220184445381165, 0.894838809967041, 0.7603891491889954, 0.6948716640472412, 0.6864465475082397, 0.658306360244751, 0.5836285948753357, 0.667517364025116, 0.7217898964881897, 0.7301868796348572, 0.8100435137748718, 0.6347029805183411, 0.6293672323226929, 0.5814249515533447, 0.721392035484314, 0.600192129611969, 0.6089825630187988, 0.6001273989677429, 0.610500693321228, 0.5520579218864441, 0.5608763694763184, 0.5377930998802185, 0.5619006752967834, 0.5478971600532532, 0.547081470489502, 0.5553510189056396, 0.5201365947723389, 0.5252230763435364, 0.5252945423126221, 0.5309772491455078, 0.5205038785934448, 0.5038359761238098, 0.5121175646781921, 0.5311800837516785, 0.5135563015937805, 0.5193396210670471, 0.5375455021858215, 0.529852032661438, 0.5077430605888367, 0.5106236934661865, 0.5284949541091919, 0.5063475966453552, 0.526783287525177, 0.49553120136260986, 0.5326139330863953, 0.5360448956489563, 0.5318232774734497, 0.4805108308792114, 0.5109387636184692, 0.4996594190597534, 0.5173290371894836, 0.5099162459373474, 0.5328047275543213, 0.5048245191574097, 0.48631787300109863, 0.5267654061317444, 0.5032801628112793, 0.48806822299957275, 0.47549712657928467, 0.5261406898498535, 0.5196360349655151, 0.4700887203216553, 0.5209561586380005, 0.47127974033355713, 0.4890137314796448, 0.46614187955856323, 0.48189252614974976, 0.47202980518341064, 0.4318063259124756, 0.4785216450691223, 0.4841926693916321, 0.45661303400993347, 0.4436045289039612, 0.46748116612434387, 0.4173164963722229, 0.4682839810848236, 0.45095565915107727, 0.43856751918792725, 0.47507917881011963, 0.4252786636352539, 0.43872305750846863, 0.44606417417526245, 0.41544750332832336, 0.45328792929649353, 0.4344334602355957, 0.43522927165031433, 0.41514691710472107, 0.4336766004562378, 0.42737555503845215, 0.43639200925827026, 0.4469771683216095, 0.4446035921573639, 0.44492533802986145, 0.4406101703643799, 0.4319005012512207, 0.4249131381511688, 0.44726839661598206, 0.44585222005844116, 0.4517636299133301, 0.4578964412212372, 0.45928463339805603, 0.47932130098342896, 0.4831137955188751, 0.4729781448841095, 0.48256316781044006, 0.469857782125473, 0.5245515704154968, 0.5207188129425049, 0.5037078857421875, 0.512741208076477, 0.5159445405006409, 0.5373356938362122, 0.5024198293685913, 0.5339365601539612, 0.5231401920318604, 0.5197045803070068]\n"
     ]
    }
   ],
   "source": [
    "print(f\"Average loss: {average_loss:.2f}\")\n",
    "print(f\"ROC AUC Score: {roc_auc:.2f}\")\n",
    "print(y_trues)\n",
    "print(probs)"
   ],
   "metadata": {
    "collapsed": false,
    "pycharm": {
     "name": "#%%\n"
    }
   }
  },
  {
   "cell_type": "code",
   "execution_count": 212,
   "outputs": [
    {
     "data": {
      "text/plain": "array([[ 304,  269],\n       [1038, 1009]], dtype=int64)"
     },
     "execution_count": 212,
     "metadata": {},
     "output_type": "execute_result"
    }
   ],
   "source": [
    "from sklearn.metrics import confusion_matrix\n",
    "\n",
    "confusion_matrix(y_true=y_trues, y_pred=y_preds)"
   ],
   "metadata": {
    "collapsed": false,
    "pycharm": {
     "name": "#%%\n"
    }
   }
  },
  {
   "cell_type": "code",
   "execution_count": 213,
   "outputs": [
    {
     "name": "stdout",
     "output_type": "stream",
     "text": [
      "1572\n",
      "2621\n"
     ]
    }
   ],
   "source": [
    "print(total)\n",
    "print(len(train_dataloader.sampler))"
   ],
   "metadata": {
    "collapsed": false,
    "pycharm": {
     "name": "#%%\n"
    }
   }
  },
  {
   "cell_type": "code",
   "execution_count": 215,
   "outputs": [],
   "source": [
    "\n",
    "pos_weight = y_train.value_counts()[0] / y_train.value_counts()[1]\n",
    "\n",
    "criterion = nn.BCEWithLogitsLoss(pos_weight=torch.tensor(pos_weight))\n",
    "criterion.to(config[\"DEVICE\"])\n",
    "\n",
    "optimizer = optim.Adam(emb_model.parameters(), lr=config[\"LR\"])"
   ],
   "metadata": {
    "collapsed": false,
    "pycharm": {
     "name": "#%%\n"
    }
   }
  },
  {
   "cell_type": "code",
   "execution_count": 216,
   "outputs": [],
   "source": [
    "dt = train(\n",
    "    model=emb_model,\n",
    "    dataloader=train_dataloader,\n",
    "    optimizer=optimizer,\n",
    "    criterion=criterion,\n",
    "    device=config[\"DEVICE\"]\n",
    ")"
   ],
   "metadata": {
    "collapsed": false,
    "pycharm": {
     "name": "#%%\n"
    }
   }
  },
  {
   "cell_type": "code",
   "execution_count": 217,
   "outputs": [
    {
     "data": {
      "text/plain": "0.3097066255652327"
     },
     "execution_count": 217,
     "metadata": {},
     "output_type": "execute_result"
    }
   ],
   "source": [
    "dt[0]"
   ],
   "metadata": {
    "collapsed": false,
    "pycharm": {
     "name": "#%%\n"
    }
   }
  },
  {
   "cell_type": "code",
   "execution_count": 218,
   "outputs": [
    {
     "data": {
      "text/plain": "0.522235323305463"
     },
     "execution_count": 218,
     "metadata": {},
     "output_type": "execute_result"
    }
   ],
   "source": [
    "dt[1]"
   ],
   "metadata": {
    "collapsed": false,
    "pycharm": {
     "name": "#%%\n"
    }
   }
  },
  {
   "cell_type": "code",
   "execution_count": 98,
   "outputs": [
    {
     "data": {
      "text/plain": "tensor([[0.0106, 0.0165]], grad_fn=<AddmmBackward0>)"
     },
     "execution_count": 98,
     "metadata": {},
     "output_type": "execute_result"
    }
   ],
   "source": [
    "# Let's find the data to train the embedding\n",
    "# We will join the load table and demographic table to gather the target\n",
    "\n",
    "emb_data = pd.merge(train_perf[\"customerid\", \"loanumber\", \"loanamount\", \"totaldue\", \"termdays\", \"good_bad_flag\"])"
   ],
   "metadata": {
    "collapsed": false,
    "pycharm": {
     "name": "#%%\n"
    }
   }
  },
  {
   "cell_type": "code",
   "execution_count": 46,
   "outputs": [],
   "source": [],
   "metadata": {
    "collapsed": false,
    "pycharm": {
     "name": "#%%\n"
    }
   }
  },
  {
   "cell_type": "code",
   "execution_count": 47,
   "outputs": [],
   "source": [],
   "metadata": {
    "collapsed": false,
    "pycharm": {
     "name": "#%%\n"
    }
   }
  },
  {
   "cell_type": "code",
   "execution_count": 48,
   "outputs": [],
   "source": [],
   "metadata": {
    "collapsed": false,
    "pycharm": {
     "name": "#%%\n"
    }
   }
  },
  {
   "cell_type": "code",
   "execution_count": 49,
   "outputs": [
    {
     "data": {
      "text/plain": "                         customerid  loannumber        approveddate  \\\n0  8a2a81a74ce8c05d014cfb32a0da1049    1.868965 2017-07-25 08:22:56   \n1  8a85886e54beabf90154c0a29ae757c0   -0.868398 2017-07-05 17:04:41   \n2  8a8588f35438fe12015444567666018e    0.500283 2017-07-06 14:52:57   \n3  8a85890754145ace015429211b513e16   -0.594662 2017-07-27 19:00:41   \n4  8a858970548359cc0154883481981866    1.047756 2017-07-03 23:42:45   \n\n   loanamount  totaldue  termdays good_bad_flag  \n0    1.134202  1.108898  0.064140             1  \n1   -0.261346 -0.335566  0.064140             1  \n2    0.203837  0.083119 -1.238939             1  \n3   -0.726529 -0.817054 -1.238939             1  \n4    2.064568  1.904400  0.064140             1  ",
      "text/html": "<div>\n<style scoped>\n    .dataframe tbody tr th:only-of-type {\n        vertical-align: middle;\n    }\n\n    .dataframe tbody tr th {\n        vertical-align: top;\n    }\n\n    .dataframe thead th {\n        text-align: right;\n    }\n</style>\n<table border=\"1\" class=\"dataframe\">\n  <thead>\n    <tr style=\"text-align: right;\">\n      <th></th>\n      <th>customerid</th>\n      <th>loannumber</th>\n      <th>approveddate</th>\n      <th>loanamount</th>\n      <th>totaldue</th>\n      <th>termdays</th>\n      <th>good_bad_flag</th>\n    </tr>\n  </thead>\n  <tbody>\n    <tr>\n      <th>0</th>\n      <td>8a2a81a74ce8c05d014cfb32a0da1049</td>\n      <td>1.868965</td>\n      <td>2017-07-25 08:22:56</td>\n      <td>1.134202</td>\n      <td>1.108898</td>\n      <td>0.064140</td>\n      <td>1</td>\n    </tr>\n    <tr>\n      <th>1</th>\n      <td>8a85886e54beabf90154c0a29ae757c0</td>\n      <td>-0.868398</td>\n      <td>2017-07-05 17:04:41</td>\n      <td>-0.261346</td>\n      <td>-0.335566</td>\n      <td>0.064140</td>\n      <td>1</td>\n    </tr>\n    <tr>\n      <th>2</th>\n      <td>8a8588f35438fe12015444567666018e</td>\n      <td>0.500283</td>\n      <td>2017-07-06 14:52:57</td>\n      <td>0.203837</td>\n      <td>0.083119</td>\n      <td>-1.238939</td>\n      <td>1</td>\n    </tr>\n    <tr>\n      <th>3</th>\n      <td>8a85890754145ace015429211b513e16</td>\n      <td>-0.594662</td>\n      <td>2017-07-27 19:00:41</td>\n      <td>-0.726529</td>\n      <td>-0.817054</td>\n      <td>-1.238939</td>\n      <td>1</td>\n    </tr>\n    <tr>\n      <th>4</th>\n      <td>8a858970548359cc0154883481981866</td>\n      <td>1.047756</td>\n      <td>2017-07-03 23:42:45</td>\n      <td>2.064568</td>\n      <td>1.904400</td>\n      <td>0.064140</td>\n      <td>1</td>\n    </tr>\n  </tbody>\n</table>\n</div>"
     },
     "execution_count": 49,
     "metadata": {},
     "output_type": "execute_result"
    }
   ],
   "source": [
    "de.head()"
   ],
   "metadata": {
    "collapsed": false,
    "pycharm": {
     "name": "#%%\n"
    }
   }
  },
  {
   "cell_type": "code",
   "execution_count": 38,
   "outputs": [
    {
     "data": {
      "text/plain": "['Good', 'Bad']\nCategories (2, object): ['Bad', 'Good']"
     },
     "execution_count": 38,
     "metadata": {},
     "output_type": "execute_result"
    }
   ],
   "source": [
    "train_perf.good_bad_flag.unique()"
   ],
   "metadata": {
    "collapsed": false,
    "pycharm": {
     "name": "#%%\n"
    }
   }
  },
  {
   "cell_type": "code",
   "execution_count": 193,
   "outputs": [],
   "source": [
    "\n",
    "\n",
    "generator = generate_graph(\n",
    "    perf=train_perf,\n",
    "    prev_loan=train_prevloans,\n",
    "    dg=train_dg\n",
    ")"
   ],
   "metadata": {
    "collapsed": false,
    "pycharm": {
     "name": "#%%\n"
    }
   }
  },
  {
   "cell_type": "code",
   "execution_count": 40,
   "outputs": [
    {
     "data": {
      "text/plain": "{'user_id': '8a85886e54beabf90154c0a29ae757c0',\n 'graph_label': 'Good',\n 'node_type_loans': [[2.0, 15000.0, 17250.0, 30.0, 31.868447909671378]],\n 'node_type_prevloans': [],\n 'node_type_dg': [['Savings', 3.885298, 7.3207003, 'GT Bank', 'Permanent', 0]]}"
     },
     "execution_count": 40,
     "metadata": {},
     "output_type": "execute_result"
    }
   ],
   "source": [
    "next(generator)"
   ],
   "metadata": {
    "collapsed": false,
    "pycharm": {
     "name": "#%%\n"
    }
   }
  },
  {
   "cell_type": "code",
   "execution_count": 35,
   "outputs": [
    {
     "name": "stdout",
     "output_type": "stream",
     "text": [
      "Graph(num_nodes={'loan': 1, 'prev_loans': 6},\n",
      "      num_edges={('loan', 'has', 'prev_loans'): 2},\n",
      "      metagraph=[('loan', 'prev_loans', 'has')])\n"
     ]
    }
   ],
   "source": [
    "rating = dgl.heterograph({\n",
    "    (\"loan\", \"has\", \"prev_loans\"): (np.array([0, 0]), np.array([5, 5]))\n",
    "})\n",
    "print(rating)"
   ],
   "metadata": {
    "collapsed": false,
    "pycharm": {
     "name": "#%%\n"
    }
   }
  },
  {
   "cell_type": "code",
   "execution_count": 36,
   "outputs": [
    {
     "data": {
      "text/plain": "NodeSpace(data={})"
     },
     "execution_count": 36,
     "metadata": {},
     "output_type": "execute_result"
    }
   ],
   "source": [
    "rating.nodes['loan'].data"
   ],
   "metadata": {
    "collapsed": false,
    "pycharm": {
     "name": "#%%\n"
    }
   }
  },
  {
   "cell_type": "code",
   "execution_count": 39,
   "outputs": [
    {
     "data": {
      "text/plain": "tensor([[1.],\n        [1.],\n        [1.]])"
     },
     "execution_count": 39,
     "metadata": {},
     "output_type": "execute_result"
    }
   ],
   "source": [
    "import torch\n",
    "\n",
    "torch.ones(3, 1)"
   ],
   "metadata": {
    "collapsed": false,
    "pycharm": {
     "name": "#%%\n"
    }
   }
  },
  {
   "cell_type": "code",
   "execution_count": null,
   "outputs": [],
   "source": [],
   "metadata": {
    "collapsed": false,
    "pycharm": {
     "name": "#%%\n"
    }
   }
  }
 ],
 "metadata": {
  "kernelspec": {
   "display_name": "Python 3",
   "language": "python",
   "name": "python3"
  },
  "language_info": {
   "codemirror_mode": {
    "name": "ipython",
    "version": 2
   },
   "file_extension": ".py",
   "mimetype": "text/x-python",
   "name": "python",
   "nbconvert_exporter": "python",
   "pygments_lexer": "ipython2",
   "version": "2.7.6"
  }
 },
 "nbformat": 4,
 "nbformat_minor": 0
}
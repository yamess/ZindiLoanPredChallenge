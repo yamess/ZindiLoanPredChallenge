{
 "cells": [
  {
   "cell_type": "code",
   "execution_count": 1,
   "metadata": {
    "collapsed": true
   },
   "outputs": [],
   "source": [
    "import pandas as pd\n",
    "import numpy as np\n",
    "import seaborn as sns\n",
    "import missingno as ms\n",
    "import matplotlib.pyplot as plt\n",
    "from src.loan_pred.preprocessing.preprocess import convert_dtype"
   ]
  },
  {
   "cell_type": "code",
   "execution_count": 2,
   "outputs": [],
   "source": [
    "train_prevloans = pd.read_csv(\"../data/preprocessed/train/train_prevloans.csv\")\n",
    "train_dg = pd.read_csv(\"../data/preprocessed/train/train_dg.csv\")\n",
    "train_perf = pd.read_csv(\"../data/preprocessed/train/train_perf.csv\")"
   ],
   "metadata": {
    "collapsed": false,
    "pycharm": {
     "name": "#%%\n"
    }
   }
  },
  {
   "cell_type": "code",
   "execution_count": 3,
   "outputs": [
    {
     "name": "stdout",
     "output_type": "stream",
     "text": [
      "Shape of train_dg: (4346, 8)\n",
      "Shape of train_perf: (4368, 7)\n",
      "Shape of train_loans: (18183, 8)\n"
     ]
    }
   ],
   "source": [
    "print(f\"Shape of train_dg: {train_dg.shape}\")\n",
    "print(f\"Shape of train_perf: {train_perf.shape}\")\n",
    "print(f\"Shape of train_loans: {train_prevloans.shape}\")"
   ],
   "metadata": {
    "collapsed": false,
    "pycharm": {
     "name": "#%%\n"
    }
   }
  },
  {
   "cell_type": "markdown",
   "source": [
    "# Graph method approaches\n",
    "\n",
    "prevLoans Graph\n",
    "demographic Graph\n",
    "loans Graph\n",
    "\n",
    "relation: loans graph --> has previous loans --> prevLoans\n",
    "relation: loans_graph --> is located --> demographic Graph"
   ],
   "metadata": {
    "collapsed": false,
    "pycharm": {
     "name": "#%% md\n"
    }
   }
  },
  {
   "cell_type": "code",
   "execution_count": 4,
   "outputs": [
    {
     "name": "stderr",
     "output_type": "stream",
     "text": [
      "DGL backend not selected or invalid.  Assuming PyTorch for now.\n"
     ]
    },
    {
     "name": "stdout",
     "output_type": "stream",
     "text": [
      "Setting the default backend to \"pytorch\". You can change it in the ~/.dgl/config.json file or export the DGLBACKEND environment variable.  Valid options are: pytorch, mxnet, tensorflow (all lowercase)\n"
     ]
    },
    {
     "name": "stderr",
     "output_type": "stream",
     "text": [
      "Using backend: pytorch\n"
     ]
    }
   ],
   "source": [
    "import dgl"
   ],
   "metadata": {
    "collapsed": false,
    "pycharm": {
     "name": "#%%\n"
    }
   }
  },
  {
   "cell_type": "code",
   "execution_count": 6,
   "outputs": [],
   "source": [
    "all_users = list(dict.fromkeys(train_perf.customerid + train_dg.customerid + train_prevloans.customerid))"
   ],
   "metadata": {
    "collapsed": false,
    "pycharm": {
     "name": "#%%\n"
    }
   }
  },
  {
   "cell_type": "code",
   "execution_count": 28,
   "outputs": [],
   "source": [
    "merge1 = pd.merge(train_perf, train_dg, on=\"customerid\", how=\"left\", suffixes=(\"_perf\",\"_dg\"))\n",
    "merge2 = pd.merge(merge1,train_prevloans, on=\"customerid\", how=\"left\", suffixes=(\"_perf\", \"_prev\"))"
   ],
   "metadata": {
    "collapsed": false,
    "pycharm": {
     "name": "#%%\n"
    }
   }
  },
  {
   "cell_type": "code",
   "execution_count": 29,
   "outputs": [
    {
     "data": {
      "text/plain": "(4376, 14)"
     },
     "execution_count": 29,
     "metadata": {},
     "output_type": "execute_result"
    }
   ],
   "source": [
    "merge1.shape"
   ],
   "metadata": {
    "collapsed": false,
    "pycharm": {
     "name": "#%%\n"
    }
   }
  },
  {
   "cell_type": "code",
   "execution_count": 30,
   "outputs": [
    {
     "data": {
      "text/plain": "(18212, 21)"
     },
     "execution_count": 30,
     "metadata": {},
     "output_type": "execute_result"
    }
   ],
   "source": [
    "merge2.shape"
   ],
   "metadata": {
    "collapsed": false,
    "pycharm": {
     "name": "#%%\n"
    }
   }
  },
  {
   "cell_type": "code",
   "execution_count": 31,
   "outputs": [
    {
     "data": {
      "text/plain": "customerid                          0\nloannumber_perf                     0\napproveddate                        0\nloanamount_perf                     0\ntotaldue_perf                       0\ntermdays_perf                       0\ngood_bad_flag                       0\nbirthdate                        4514\nbank_account_type                4514\nlongitude_gps                    4514\nlatitude_gps                     4514\nbank_name_clients                4514\nemployment_status_clients        4514\nis_missing_emp_status_clients    4514\nloannumber_prev                     9\nloanamount_prev                     9\ntotaldue_prev                       9\ntermdays_prev                       9\ncloseddate_days                     9\nfirstduedate_days                   9\nfirstrepaiddate_days                9\ndtype: int64"
     },
     "execution_count": 31,
     "metadata": {},
     "output_type": "execute_result"
    }
   ],
   "source": [
    "merge2.isnull().sum()"
   ],
   "metadata": {
    "collapsed": false,
    "pycharm": {
     "name": "#%%\n"
    }
   }
  },
  {
   "cell_type": "code",
   "execution_count": 18,
   "outputs": [
    {
     "data": {
      "text/plain": "                         customerid  loannumber_perf         approveddate  \\\n0  8a2a81a74ce8c05d014cfb32a0da1049               12  2017-07-25 08:22:56   \n1  8a2a81a74ce8c05d014cfb32a0da1049               12  2017-07-25 08:22:56   \n2  8a2a81a74ce8c05d014cfb32a0da1049               12  2017-07-25 08:22:56   \n3  8a2a81a74ce8c05d014cfb32a0da1049               12  2017-07-25 08:22:56   \n4  8a2a81a74ce8c05d014cfb32a0da1049               12  2017-07-25 08:22:56   \n\n   loanamount_perf  totaldue_perf  termdays_perf good_bad_flag   birthdate  \\\n0          30000.0        34500.0             30          Good  1972-01-15   \n1          30000.0        34500.0             30          Good  1972-01-15   \n2          30000.0        34500.0             30          Good  1972-01-15   \n3          30000.0        34500.0             30          Good  1972-01-15   \n4          30000.0        34500.0             30          Good  1972-01-15   \n\n  bank_account_type  longitude_gps  ...  bank_name_clients  \\\n0             Other        3.43201  ...       Diamond Bank   \n1             Other        3.43201  ...       Diamond Bank   \n2             Other        3.43201  ...       Diamond Bank   \n3             Other        3.43201  ...       Diamond Bank   \n4             Other        3.43201  ...       Diamond Bank   \n\n  employment_status_clients is_missing_emp_status_clients  loannumber_prev  \\\n0                 Permanent                         False                2   \n1                 Permanent                         False                9   \n2                 Permanent                         False                8   \n3                 Permanent                         False               10   \n4                 Permanent                         False               11   \n\n   loanamount_prev  totaldue_prev  termdays_prev  closeddate_days  \\\n0          10000.0        13000.0             30               16   \n1          10000.0        13000.0             30               29   \n2          20000.0        23800.0             30               52   \n3          20000.0        24500.0             30               24   \n4          20000.0        24500.0             30               26   \n\n   firstduedate_days  firstrepaiddate_days  \n0                 29                    16  \n1                 31                    27  \n2                 29                    52  \n3                 31                    24  \n4                 32                    26  \n\n[5 rows x 21 columns]",
      "text/html": "<div>\n<style scoped>\n    .dataframe tbody tr th:only-of-type {\n        vertical-align: middle;\n    }\n\n    .dataframe tbody tr th {\n        vertical-align: top;\n    }\n\n    .dataframe thead th {\n        text-align: right;\n    }\n</style>\n<table border=\"1\" class=\"dataframe\">\n  <thead>\n    <tr style=\"text-align: right;\">\n      <th></th>\n      <th>customerid</th>\n      <th>loannumber_perf</th>\n      <th>approveddate</th>\n      <th>loanamount_perf</th>\n      <th>totaldue_perf</th>\n      <th>termdays_perf</th>\n      <th>good_bad_flag</th>\n      <th>birthdate</th>\n      <th>bank_account_type</th>\n      <th>longitude_gps</th>\n      <th>...</th>\n      <th>bank_name_clients</th>\n      <th>employment_status_clients</th>\n      <th>is_missing_emp_status_clients</th>\n      <th>loannumber_prev</th>\n      <th>loanamount_prev</th>\n      <th>totaldue_prev</th>\n      <th>termdays_prev</th>\n      <th>closeddate_days</th>\n      <th>firstduedate_days</th>\n      <th>firstrepaiddate_days</th>\n    </tr>\n  </thead>\n  <tbody>\n    <tr>\n      <th>0</th>\n      <td>8a2a81a74ce8c05d014cfb32a0da1049</td>\n      <td>12</td>\n      <td>2017-07-25 08:22:56</td>\n      <td>30000.0</td>\n      <td>34500.0</td>\n      <td>30</td>\n      <td>Good</td>\n      <td>1972-01-15</td>\n      <td>Other</td>\n      <td>3.43201</td>\n      <td>...</td>\n      <td>Diamond Bank</td>\n      <td>Permanent</td>\n      <td>False</td>\n      <td>2</td>\n      <td>10000.0</td>\n      <td>13000.0</td>\n      <td>30</td>\n      <td>16</td>\n      <td>29</td>\n      <td>16</td>\n    </tr>\n    <tr>\n      <th>1</th>\n      <td>8a2a81a74ce8c05d014cfb32a0da1049</td>\n      <td>12</td>\n      <td>2017-07-25 08:22:56</td>\n      <td>30000.0</td>\n      <td>34500.0</td>\n      <td>30</td>\n      <td>Good</td>\n      <td>1972-01-15</td>\n      <td>Other</td>\n      <td>3.43201</td>\n      <td>...</td>\n      <td>Diamond Bank</td>\n      <td>Permanent</td>\n      <td>False</td>\n      <td>9</td>\n      <td>10000.0</td>\n      <td>13000.0</td>\n      <td>30</td>\n      <td>29</td>\n      <td>31</td>\n      <td>27</td>\n    </tr>\n    <tr>\n      <th>2</th>\n      <td>8a2a81a74ce8c05d014cfb32a0da1049</td>\n      <td>12</td>\n      <td>2017-07-25 08:22:56</td>\n      <td>30000.0</td>\n      <td>34500.0</td>\n      <td>30</td>\n      <td>Good</td>\n      <td>1972-01-15</td>\n      <td>Other</td>\n      <td>3.43201</td>\n      <td>...</td>\n      <td>Diamond Bank</td>\n      <td>Permanent</td>\n      <td>False</td>\n      <td>8</td>\n      <td>20000.0</td>\n      <td>23800.0</td>\n      <td>30</td>\n      <td>52</td>\n      <td>29</td>\n      <td>52</td>\n    </tr>\n    <tr>\n      <th>3</th>\n      <td>8a2a81a74ce8c05d014cfb32a0da1049</td>\n      <td>12</td>\n      <td>2017-07-25 08:22:56</td>\n      <td>30000.0</td>\n      <td>34500.0</td>\n      <td>30</td>\n      <td>Good</td>\n      <td>1972-01-15</td>\n      <td>Other</td>\n      <td>3.43201</td>\n      <td>...</td>\n      <td>Diamond Bank</td>\n      <td>Permanent</td>\n      <td>False</td>\n      <td>10</td>\n      <td>20000.0</td>\n      <td>24500.0</td>\n      <td>30</td>\n      <td>24</td>\n      <td>31</td>\n      <td>24</td>\n    </tr>\n    <tr>\n      <th>4</th>\n      <td>8a2a81a74ce8c05d014cfb32a0da1049</td>\n      <td>12</td>\n      <td>2017-07-25 08:22:56</td>\n      <td>30000.0</td>\n      <td>34500.0</td>\n      <td>30</td>\n      <td>Good</td>\n      <td>1972-01-15</td>\n      <td>Other</td>\n      <td>3.43201</td>\n      <td>...</td>\n      <td>Diamond Bank</td>\n      <td>Permanent</td>\n      <td>False</td>\n      <td>11</td>\n      <td>20000.0</td>\n      <td>24500.0</td>\n      <td>30</td>\n      <td>26</td>\n      <td>32</td>\n      <td>26</td>\n    </tr>\n  </tbody>\n</table>\n<p>5 rows × 21 columns</p>\n</div>"
     },
     "execution_count": 18,
     "metadata": {},
     "output_type": "execute_result"
    }
   ],
   "source": [
    "merge2.head()"
   ],
   "metadata": {
    "collapsed": false,
    "pycharm": {
     "name": "#%%\n"
    }
   }
  },
  {
   "cell_type": "code",
   "execution_count": 22,
   "outputs": [],
   "source": [
    "all_nodes = list(train_perf.customerid)"
   ],
   "metadata": {
    "collapsed": false,
    "pycharm": {
     "name": "#%%\n"
    }
   }
  },
  {
   "cell_type": "code",
   "execution_count": null,
   "outputs": [],
   "source": [
    "for i in all_nodes:\n"
   ],
   "metadata": {
    "collapsed": false,
    "pycharm": {
     "name": "#%%\n"
    }
   }
  },
  {
   "cell_type": "code",
   "execution_count": null,
   "outputs": [],
   "source": [
    "list_graph = dgl.heterograph()"
   ],
   "metadata": {
    "collapsed": false,
    "pycharm": {
     "name": "#%%\n"
    }
   }
  },
  {
   "cell_type": "code",
   "execution_count": null,
   "outputs": [],
   "source": [
    "def create_graph_data(perf, prev, dg, all_nodes):"
   ],
   "metadata": {
    "collapsed": false,
    "pycharm": {
     "name": "#%%\n"
    }
   }
  },
  {
   "cell_type": "code",
   "execution_count": 23,
   "outputs": [
    {
     "data": {
      "text/plain": "'8a2a81a74ce8c05d014cfb32a0da1049'"
     },
     "execution_count": 23,
     "metadata": {},
     "output_type": "execute_result"
    }
   ],
   "source": [
    "all_nodes[0]8a2a81a74ce8c05d014cfb32a0da1049"
   ],
   "metadata": {
    "collapsed": false,
    "pycharm": {
     "name": "#%%\n"
    }
   }
  },
  {
   "cell_type": "code",
   "execution_count": null,
   "outputs": [],
   "source": [
    "train_dg[]"
   ],
   "metadata": {
    "collapsed": false,
    "pycharm": {
     "name": "#%%\n"
    }
   }
  },
  {
   "cell_type": "code",
   "execution_count": 24,
   "outputs": [
    {
     "data": {
      "text/plain": "(13693, 21)"
     },
     "execution_count": 24,
     "metadata": {},
     "output_type": "execute_result"
    }
   ],
   "source": [
    "merge2.shape"
   ],
   "metadata": {
    "collapsed": false,
    "pycharm": {
     "name": "#%%\n"
    }
   }
  },
  {
   "cell_type": "code",
   "execution_count": 25,
   "outputs": [
    {
     "data": {
      "text/plain": "4368"
     },
     "execution_count": 25,
     "metadata": {},
     "output_type": "execute_result"
    }
   ],
   "source": [
    "len(all_nodes)"
   ],
   "metadata": {
    "collapsed": false,
    "pycharm": {
     "name": "#%%\n"
    }
   }
  },
  {
   "cell_type": "code",
   "execution_count": 26,
   "outputs": [
    {
     "data": {
      "text/plain": "4368"
     },
     "execution_count": 26,
     "metadata": {},
     "output_type": "execute_result"
    }
   ],
   "source": [
    "len(train_perf.customerid)"
   ],
   "metadata": {
    "collapsed": false,
    "pycharm": {
     "name": "#%%\n"
    }
   }
  },
  {
   "cell_type": "code",
   "execution_count": 32,
   "outputs": [],
   "source": [
    "nodes = train_perf.customerid.unique()"
   ],
   "metadata": {
    "collapsed": false,
    "pycharm": {
     "name": "#%%\n"
    }
   }
  },
  {
   "cell_type": "code",
   "execution_count": 101,
   "outputs": [],
   "source": [
    "graphs = [\n",
    "    {\n",
    "        \"label\": train_perf.loc[train_perf.customerid == n, \"good_bad_flag\"].values[0],\n",
    "        \"node_perf_feat\": train_perf.loc[train_perf.customerid == n, :].values.tolist(),\n",
    "        \"node_prev_feat\": train_prevloans.loc[train_prevloans.customerid == n, :].values.tolist(),\n",
    "        \"node_dg_feat\": train_dg.loc[train_dg.customerid == n, :].values.tolist()\n",
    "    }\n",
    "    for n in nodes if n =='8a8589f35451855401546b0738c42524'\n",
    "]"
   ],
   "metadata": {
    "collapsed": false,
    "pycharm": {
     "name": "#%%\n"
    }
   }
  },
  {
   "cell_type": "code",
   "execution_count": 103,
   "outputs": [],
   "source": [
    "def generate_graph(perf, prev, dg):\n",
    "    nodes_list = perf.customerid\n",
    "    for n in nodes_list:\n",
    "        yield {\n",
    "            \"graph_label\": perf.loc[perf.customerid == n, \"good_bad_flag\"].values[0],\n",
    "            \"node_type_perf\": perf.loc[perf.customerid == n, :].values.tolist(),\n",
    "            \"node_type_prev\": prev.loc[prev.customerid == n, :].values.tolist(),\n",
    "            \"node_type_dg\": dg.loc[dg.customerid == n, :].values.tolist()\n",
    "        }"
   ],
   "metadata": {
    "collapsed": false,
    "pycharm": {
     "name": "#%%\n"
    }
   }
  },
  {
   "cell_type": "code",
   "execution_count": 90,
   "outputs": [],
   "source": [
    "generator = generate_graph(perf=train_perf, prev=train_prevloans, dg=train_dg)"
   ],
   "metadata": {
    "collapsed": false,
    "pycharm": {
     "name": "#%%\n"
    }
   }
  },
  {
   "cell_type": "code",
   "execution_count": 91,
   "outputs": [
    {
     "data": {
      "text/plain": "{'label': 'Good',\n 'node_perf_feat': [['8a2a81a74ce8c05d014cfb32a0da1049',\n   12,\n   '2017-07-25 08:22:56',\n   30000.0,\n   34500.0,\n   30,\n   'Good']],\n 'node_prev_feat': [['8a2a81a74ce8c05d014cfb32a0da1049',\n   2,\n   10000.0,\n   13000.0,\n   30,\n   16,\n   29,\n   16],\n  ['8a2a81a74ce8c05d014cfb32a0da1049', 9, 10000.0, 13000.0, 30, 29, 31, 27],\n  ['8a2a81a74ce8c05d014cfb32a0da1049', 8, 20000.0, 23800.0, 30, 52, 29, 52],\n  ['8a2a81a74ce8c05d014cfb32a0da1049', 10, 20000.0, 24500.0, 30, 24, 31, 24],\n  ['8a2a81a74ce8c05d014cfb32a0da1049', 11, 20000.0, 24500.0, 30, 26, 32, 26],\n  ['8a2a81a74ce8c05d014cfb32a0da1049', 6, 20000.0, 23800.0, 30, 68, 29, 68],\n  ['8a2a81a74ce8c05d014cfb32a0da1049', 4, 20000.0, 24500.0, 30, 30, 30, 30],\n  ['8a2a81a74ce8c05d014cfb32a0da1049', 7, 20000.0, 23800.0, 30, 1, 29, 1],\n  ['8a2a81a74ce8c05d014cfb32a0da1049', 1, 10000.0, 13000.0, 30, 5, 29, 5],\n  ['8a2a81a74ce8c05d014cfb32a0da1049', 3, 20000.0, 24500.0, 30, 29, 29, 29],\n  ['8a2a81a74ce8c05d014cfb32a0da1049', 5, 30000.0, 34500.0, 30, 44, 29, 44]],\n 'node_dg_feat': [['8a2a81a74ce8c05d014cfb32a0da1049',\n   '1972-01-15',\n   'Other',\n   3.4320102,\n   6.4330553,\n   'Diamond Bank',\n   'Permanent',\n   False]]}"
     },
     "execution_count": 91,
     "metadata": {},
     "output_type": "execute_result"
    }
   ],
   "source": [
    "next(generator)"
   ],
   "metadata": {
    "collapsed": false,
    "pycharm": {
     "name": "#%%\n"
    }
   }
  },
  {
   "cell_type": "code",
   "execution_count": 102,
   "outputs": [
    {
     "data": {
      "text/plain": "[{'label': 'Good',\n  'node_perf_feat': [['8a8589f35451855401546b0738c42524',\n    8,\n    '2017-07-19 21:46:24',\n    30000.0,\n    39000.0,\n    60,\n    'Good']],\n  'node_prev_feat': [['8a8589f35451855401546b0738c42524',\n    6,\n    20000.0,\n    24500.0,\n    30,\n    32,\n    31,\n    32],\n   ['8a8589f35451855401546b0738c42524', 1, 10000.0, 13000.0, 30, 24, 29, 24],\n   ['8a8589f35451855401546b0738c42524', 2, 10000.0, 13000.0, 30, 26, 30, 26],\n   ['8a8589f35451855401546b0738c42524', 4, 10000.0, 13000.0, 30, 5, 29, 5],\n   ['8a8589f35451855401546b0738c42524', 5, 20000.0, 23800.0, 30, 30, 29, 30],\n   ['8a8589f35451855401546b0738c42524', 3, 10000.0, 13000.0, 30, 27, 31, 27],\n   ['8a8589f35451855401546b0738c42524', 7, 20000.0, 24500.0, 30, 30, 29, 30]],\n  'node_dg_feat': []}]"
     },
     "execution_count": 102,
     "metadata": {},
     "output_type": "execute_result"
    }
   ],
   "source": [
    "graphs"
   ],
   "metadata": {
    "collapsed": false,
    "pycharm": {
     "name": "#%%\n"
    }
   }
  },
  {
   "cell_type": "code",
   "execution_count": 99,
   "outputs": [
    {
     "data": {
      "text/plain": "1099"
     },
     "execution_count": 99,
     "metadata": {},
     "output_type": "execute_result"
    }
   ],
   "source": [
    "len(test.customerid.unique())"
   ],
   "metadata": {
    "collapsed": false,
    "pycharm": {
     "name": "#%%\n"
    }
   }
  },
  {
   "cell_type": "code",
   "execution_count": 100,
   "outputs": [
    {
     "data": {
      "text/plain": "'8a8589f35451855401546b0738c42524'"
     },
     "execution_count": 100,
     "metadata": {},
     "output_type": "execute_result"
    }
   ],
   "source": [
    "test.customerid.unique()[0]"
   ],
   "metadata": {
    "collapsed": false,
    "pycharm": {
     "name": "#%%\n"
    }
   }
  },
  {
   "cell_type": "code",
   "execution_count": null,
   "outputs": [],
   "source": [
    "'8a8589f35451855401546b0738c42524'"
   ],
   "metadata": {
    "collapsed": false,
    "pycharm": {
     "name": "#%%\n"
    }
   }
  }
 ],
 "metadata": {
  "kernelspec": {
   "display_name": "Python 3",
   "language": "python",
   "name": "python3"
  },
  "language_info": {
   "codemirror_mode": {
    "name": "ipython",
    "version": 2
   },
   "file_extension": ".py",
   "mimetype": "text/x-python",
   "name": "python",
   "nbconvert_exporter": "python",
   "pygments_lexer": "ipython2",
   "version": "2.7.6"
  }
 },
 "nbformat": 4,
 "nbformat_minor": 0
}
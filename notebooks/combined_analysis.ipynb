{
 "cells": [
  {
   "cell_type": "code",
   "execution_count": 150,
   "metadata": {
    "collapsed": true
   },
   "outputs": [],
   "source": [
    "import np as np\n",
    "import pandas as pd\n",
    "import numpy as np\n",
    "import seaborn as sns\n",
    "import missingno as ms\n",
    "import matplotlib.pyplot as plt\n",
    "from src.loan_pred.preprocessing.preprocess import convert_dtype\n",
    "import dgl"
   ]
  },
  {
   "cell_type": "code",
   "execution_count": 151,
   "outputs": [
    {
     "data": {
      "text/plain": "                         customerid  loannumber  loanamount  totaldue  \\\n0  8a2a81a74ce8c05d014cfb32a0da1049           2     10000.0   13000.0   \n1  8a2a81a74ce8c05d014cfb32a0da1049           9     10000.0   13000.0   \n2  8a2a81a74ce8c05d014cfb32a0da1049           8     20000.0   23800.0   \n3  8a8588f35438fe12015444567666018e           5     10000.0   11500.0   \n4  8a85890754145ace015429211b513e16           2     10000.0   11500.0   \n\n   termdays  closeddate_days  firstduedate_days  firstrepaiddate_days  \n0        30               16                 29                    16  \n1        30               29                 31                    27  \n2        30               52                 29                    52  \n3        15               14                 14                    14  \n4        15               27                 15                    27  ",
      "text/html": "<div>\n<style scoped>\n    .dataframe tbody tr th:only-of-type {\n        vertical-align: middle;\n    }\n\n    .dataframe tbody tr th {\n        vertical-align: top;\n    }\n\n    .dataframe thead th {\n        text-align: right;\n    }\n</style>\n<table border=\"1\" class=\"dataframe\">\n  <thead>\n    <tr style=\"text-align: right;\">\n      <th></th>\n      <th>customerid</th>\n      <th>loannumber</th>\n      <th>loanamount</th>\n      <th>totaldue</th>\n      <th>termdays</th>\n      <th>closeddate_days</th>\n      <th>firstduedate_days</th>\n      <th>firstrepaiddate_days</th>\n    </tr>\n  </thead>\n  <tbody>\n    <tr>\n      <th>0</th>\n      <td>8a2a81a74ce8c05d014cfb32a0da1049</td>\n      <td>2</td>\n      <td>10000.0</td>\n      <td>13000.0</td>\n      <td>30</td>\n      <td>16</td>\n      <td>29</td>\n      <td>16</td>\n    </tr>\n    <tr>\n      <th>1</th>\n      <td>8a2a81a74ce8c05d014cfb32a0da1049</td>\n      <td>9</td>\n      <td>10000.0</td>\n      <td>13000.0</td>\n      <td>30</td>\n      <td>29</td>\n      <td>31</td>\n      <td>27</td>\n    </tr>\n    <tr>\n      <th>2</th>\n      <td>8a2a81a74ce8c05d014cfb32a0da1049</td>\n      <td>8</td>\n      <td>20000.0</td>\n      <td>23800.0</td>\n      <td>30</td>\n      <td>52</td>\n      <td>29</td>\n      <td>52</td>\n    </tr>\n    <tr>\n      <th>3</th>\n      <td>8a8588f35438fe12015444567666018e</td>\n      <td>5</td>\n      <td>10000.0</td>\n      <td>11500.0</td>\n      <td>15</td>\n      <td>14</td>\n      <td>14</td>\n      <td>14</td>\n    </tr>\n    <tr>\n      <th>4</th>\n      <td>8a85890754145ace015429211b513e16</td>\n      <td>2</td>\n      <td>10000.0</td>\n      <td>11500.0</td>\n      <td>15</td>\n      <td>27</td>\n      <td>15</td>\n      <td>27</td>\n    </tr>\n  </tbody>\n</table>\n</div>"
     },
     "execution_count": 151,
     "metadata": {},
     "output_type": "execute_result"
    }
   ],
   "source": [
    "train_prevloans = pd.read_csv(\"../data/preprocessed/train/train_prevloans.csv\")\n",
    "cols_dtypes = {\n",
    "    \"customerid\": \"category\",\n",
    "    \"loannumber\": \"int\",\n",
    "    \"loanamount\": \"float\",\n",
    "    \"totaldue\": \"float\",\n",
    "    \"termdays\": \"int\",\n",
    "    \"closeddate_days\": \"int\",\n",
    "    \"firstduedate_days\": \"int\",\n",
    "    \"firstrepaiddate_days\": \"int\",\n",
    "}\n",
    "train_prevloans = convert_dtype(data=train_prevloans, columns_type=cols_dtypes)\n",
    "train_prevloans.head()"
   ],
   "metadata": {
    "collapsed": false,
    "pycharm": {
     "name": "#%%\n"
    }
   }
  },
  {
   "cell_type": "code",
   "execution_count": 152,
   "outputs": [
    {
     "data": {
      "text/plain": "                         customerid  birthdate bank_account_type  \\\n0  8a858e135cb22031015cbafc76964ebd 1973-10-10           Savings   \n1  8a858e275c7ea5ec015c82482d7c3996 1986-01-21           Savings   \n2  8a858e5b5bd99460015bdc95cd485634 1987-04-01           Savings   \n3  8a858efd5ca70688015cabd1f1e94b55 1991-07-19           Savings   \n4  8a858e785acd3412015acd48f4920d04 1982-11-22           Savings   \n\n   longitude_gps  latitude_gps bank_name_clients employment_status_clients  \\\n0       3.319219      6.528604           GT Bank                 Permanent   \n1       3.325598      7.119403     Sterling Bank                 Permanent   \n2       5.746100      5.563174     Fidelity Bank                 Permanent   \n3       3.362850      6.642485           GT Bank                 Permanent   \n4       8.455332     11.971410           GT Bank                 Permanent   \n\n   is_missing_emp_status_clients  \n0                              1  \n1                              0  \n2                              1  \n3                              0  \n4                              0  ",
      "text/html": "<div>\n<style scoped>\n    .dataframe tbody tr th:only-of-type {\n        vertical-align: middle;\n    }\n\n    .dataframe tbody tr th {\n        vertical-align: top;\n    }\n\n    .dataframe thead th {\n        text-align: right;\n    }\n</style>\n<table border=\"1\" class=\"dataframe\">\n  <thead>\n    <tr style=\"text-align: right;\">\n      <th></th>\n      <th>customerid</th>\n      <th>birthdate</th>\n      <th>bank_account_type</th>\n      <th>longitude_gps</th>\n      <th>latitude_gps</th>\n      <th>bank_name_clients</th>\n      <th>employment_status_clients</th>\n      <th>is_missing_emp_status_clients</th>\n    </tr>\n  </thead>\n  <tbody>\n    <tr>\n      <th>0</th>\n      <td>8a858e135cb22031015cbafc76964ebd</td>\n      <td>1973-10-10</td>\n      <td>Savings</td>\n      <td>3.319219</td>\n      <td>6.528604</td>\n      <td>GT Bank</td>\n      <td>Permanent</td>\n      <td>1</td>\n    </tr>\n    <tr>\n      <th>1</th>\n      <td>8a858e275c7ea5ec015c82482d7c3996</td>\n      <td>1986-01-21</td>\n      <td>Savings</td>\n      <td>3.325598</td>\n      <td>7.119403</td>\n      <td>Sterling Bank</td>\n      <td>Permanent</td>\n      <td>0</td>\n    </tr>\n    <tr>\n      <th>2</th>\n      <td>8a858e5b5bd99460015bdc95cd485634</td>\n      <td>1987-04-01</td>\n      <td>Savings</td>\n      <td>5.746100</td>\n      <td>5.563174</td>\n      <td>Fidelity Bank</td>\n      <td>Permanent</td>\n      <td>1</td>\n    </tr>\n    <tr>\n      <th>3</th>\n      <td>8a858efd5ca70688015cabd1f1e94b55</td>\n      <td>1991-07-19</td>\n      <td>Savings</td>\n      <td>3.362850</td>\n      <td>6.642485</td>\n      <td>GT Bank</td>\n      <td>Permanent</td>\n      <td>0</td>\n    </tr>\n    <tr>\n      <th>4</th>\n      <td>8a858e785acd3412015acd48f4920d04</td>\n      <td>1982-11-22</td>\n      <td>Savings</td>\n      <td>8.455332</td>\n      <td>11.971410</td>\n      <td>GT Bank</td>\n      <td>Permanent</td>\n      <td>0</td>\n    </tr>\n  </tbody>\n</table>\n</div>"
     },
     "execution_count": 152,
     "metadata": {},
     "output_type": "execute_result"
    }
   ],
   "source": [
    "train_dg = pd.read_csv(\"../data/preprocessed/train/train_dg.csv\")\n",
    "cols_dtypes = {\n",
    "    \"customerid\": \"category\",\n",
    "    \"birthdate\": \"datetime\",\n",
    "    \"bank_account_type\": \"category\",\n",
    "    \"longitude_gps\": \"float\",\n",
    "    \"latitude_gps\": \"float\",\n",
    "    \"bank_name_clients\": \"category\",\n",
    "    \"employment_status_clients\": \"category\",\n",
    "    \"is_missing_emp_status_clients\": \"int\"\n",
    "}\n",
    "train_dg = convert_dtype(data=train_dg, columns_type=cols_dtypes)\n",
    "train_dg.head()"
   ],
   "metadata": {
    "collapsed": false,
    "pycharm": {
     "name": "#%%\n"
    }
   }
  },
  {
   "cell_type": "code",
   "execution_count": 153,
   "outputs": [
    {
     "data": {
      "text/plain": "                         customerid  loannumber        approveddate  \\\n0  8a2a81a74ce8c05d014cfb32a0da1049          12 2017-07-25 08:22:56   \n1  8a85886e54beabf90154c0a29ae757c0           2 2017-07-05 17:04:41   \n2  8a8588f35438fe12015444567666018e           7 2017-07-06 14:52:57   \n3  8a85890754145ace015429211b513e16           3 2017-07-27 19:00:41   \n4  8a858970548359cc0154883481981866           9 2017-07-03 23:42:45   \n\n   loanamount  totaldue  termdays good_bad_flag  \n0     30000.0   34500.0        30          Good  \n1     15000.0   17250.0        30          Good  \n2     20000.0   22250.0        15          Good  \n3     10000.0   11500.0        15          Good  \n4     40000.0   44000.0        30          Good  ",
      "text/html": "<div>\n<style scoped>\n    .dataframe tbody tr th:only-of-type {\n        vertical-align: middle;\n    }\n\n    .dataframe tbody tr th {\n        vertical-align: top;\n    }\n\n    .dataframe thead th {\n        text-align: right;\n    }\n</style>\n<table border=\"1\" class=\"dataframe\">\n  <thead>\n    <tr style=\"text-align: right;\">\n      <th></th>\n      <th>customerid</th>\n      <th>loannumber</th>\n      <th>approveddate</th>\n      <th>loanamount</th>\n      <th>totaldue</th>\n      <th>termdays</th>\n      <th>good_bad_flag</th>\n    </tr>\n  </thead>\n  <tbody>\n    <tr>\n      <th>0</th>\n      <td>8a2a81a74ce8c05d014cfb32a0da1049</td>\n      <td>12</td>\n      <td>2017-07-25 08:22:56</td>\n      <td>30000.0</td>\n      <td>34500.0</td>\n      <td>30</td>\n      <td>Good</td>\n    </tr>\n    <tr>\n      <th>1</th>\n      <td>8a85886e54beabf90154c0a29ae757c0</td>\n      <td>2</td>\n      <td>2017-07-05 17:04:41</td>\n      <td>15000.0</td>\n      <td>17250.0</td>\n      <td>30</td>\n      <td>Good</td>\n    </tr>\n    <tr>\n      <th>2</th>\n      <td>8a8588f35438fe12015444567666018e</td>\n      <td>7</td>\n      <td>2017-07-06 14:52:57</td>\n      <td>20000.0</td>\n      <td>22250.0</td>\n      <td>15</td>\n      <td>Good</td>\n    </tr>\n    <tr>\n      <th>3</th>\n      <td>8a85890754145ace015429211b513e16</td>\n      <td>3</td>\n      <td>2017-07-27 19:00:41</td>\n      <td>10000.0</td>\n      <td>11500.0</td>\n      <td>15</td>\n      <td>Good</td>\n    </tr>\n    <tr>\n      <th>4</th>\n      <td>8a858970548359cc0154883481981866</td>\n      <td>9</td>\n      <td>2017-07-03 23:42:45</td>\n      <td>40000.0</td>\n      <td>44000.0</td>\n      <td>30</td>\n      <td>Good</td>\n    </tr>\n  </tbody>\n</table>\n</div>"
     },
     "execution_count": 153,
     "metadata": {},
     "output_type": "execute_result"
    }
   ],
   "source": [
    "train_perf = pd.read_csv(\"../data/preprocessed/train/train_perf.csv\")\n",
    "cols_dtypes = {\n",
    "    \"customerid\": \"category\",\n",
    "    \"loannumber\": \"int\",\n",
    "    \"approveddate\": \"datetime\",\n",
    "    \"loanamount\": \"float\",\n",
    "    \"totaldue\": \"float\",\n",
    "    \"termdays\": \"int\",\n",
    "    \"good_bad_flag\": \"category\"\n",
    "}\n",
    "train_perf = convert_dtype(data=train_perf, columns_type=cols_dtypes)\n",
    "train_perf.head()"
   ],
   "metadata": {
    "collapsed": false,
    "pycharm": {
     "name": "#%%\n"
    }
   }
  },
  {
   "cell_type": "code",
   "execution_count": 154,
   "outputs": [
    {
     "name": "stdout",
     "output_type": "stream",
     "text": [
      "Shape of train_dg: (4346, 8)\n",
      "Shape of train_perf: (4368, 7)\n",
      "Shape of train_loans: (18183, 8)\n"
     ]
    }
   ],
   "source": [
    "print(f\"Shape of train_dg: {train_dg.shape}\")\n",
    "print(f\"Shape of train_perf: {train_perf.shape}\")\n",
    "print(f\"Shape of train_loans: {train_prevloans.shape}\")"
   ],
   "metadata": {
    "collapsed": false,
    "pycharm": {
     "name": "#%%\n"
    }
   }
  },
  {
   "cell_type": "markdown",
   "source": [
    "# Graph method approaches\n",
    "\n",
    "prevLoans Graph\n",
    "demographic Graph\n",
    "loans Graph\n",
    "\n",
    "relation: loans graph --> has previous loans --> prevLoans\n",
    "relation: loans_graph --> is located --> demographic Graph"
   ],
   "metadata": {
    "collapsed": false,
    "pycharm": {
     "name": "#%% md\n"
    }
   }
  },
  {
   "cell_type": "code",
   "execution_count": 17,
   "outputs": [],
   "source": [
    "nodes = train_perf.customerid.unique()\n",
    "graphs = [\n",
    "    {\n",
    "        \"label\": train_perf.loc[train_perf.customerid == n, \"good_bad_flag\"].values[0],\n",
    "        \"user_id\": n,\n",
    "        \"node_perf\":train_perf.loc[train_perf.customerid == n, []].values.tolist().append(0),\n",
    "        \"node_prev\": train_prevloans.loc[train_prevloans.customerid == n, :].values.tolist(),\n",
    "        \"node_dg\": train_dg.loc[train_dg.customerid == n, :].values.tolist()\n",
    "    }\n",
    "    for n in nodes # if n =='8a8589f35451855401546b0738c42524'\n",
    "]"
   ],
   "metadata": {
    "collapsed": false,
    "pycharm": {
     "name": "#%%\n"
    }
   }
  },
  {
   "cell_type": "code",
   "execution_count": 190,
   "outputs": [],
   "source": [
    "def generate_graph(perf, prev_loan, dg):\n",
    "    nodes_list = perf.customerid\n",
    "    prevloans_cols = [\"loannumber\", \"loanamount\", \"totaldue\", \"termdays\", \"closeddate_days\", \"firstduedate_days\", \"firstrepaiddate_days\"]\n",
    "    dg_cols = [\"bank_account_type\",\"longitude_gps\", \"latitude_gps\", \"bank_name_clients\", \"employment_status_clients\", \"is_missing_emp_status_clients\"]\n",
    "\n",
    "    for n in nodes_list:\n",
    "        loan_row = perf.loc[perf.customerid == n, :].reset_index(drop=True)\n",
    "        if len(dg[dg.customerid == n]) > 0:\n",
    "            dob = dg.loc[dg.customerid == n, \"birthdate\"].reset_index(drop=True)\n",
    "\n",
    "            loan_row.loc[:,\"age_at_loan\"] = (loan_row[\"approveddate\"] - dob) / np.timedelta64(1, \"Y\")\n",
    "\n",
    "            loans_cols = [\"loannumber\", \"loanamount\", \"totaldue\", \"termdays\", \"age_at_loan\"]\n",
    "\n",
    "            response = {\n",
    "                \"user_id\": n,\n",
    "                \"graph_label\": loan_row.good_bad_flag[0],\n",
    "                \"node_type_loans\": loan_row.loc[:, loans_cols].values.tolist(),\n",
    "                \"node_type_prevloans\": prev_loan.loc[prev_loan.customerid == n, prevloans_cols].values.tolist(),\n",
    "                \"node_type_dg\": dg.loc[dg.customerid == n, dg_cols].values.tolist()\n",
    "            }\n",
    "        else:\n",
    "            loans_cols = [\"loannumber\", \"loanamount\", \"totaldue\", \"termdays\"]\n",
    "            response = {\n",
    "                \"user_id\": n,\n",
    "                \"graph_label\": loan_row.good_bad_flag[0],\n",
    "                \"node_type_loans\": loan_row.loc[:, loans_cols].values.tolist(),\n",
    "                \"node_type_prevloans\": prev_loan.loc[prev_loan.customerid == n, prevloans_cols].values.tolist(),\n",
    "                \"node_type_dg\": dg.loc[dg.customerid == n, dg_cols].values.tolist()\n",
    "            }\n",
    "        yield response"
   ],
   "metadata": {
    "collapsed": false,
    "pycharm": {
     "name": "#%%\n"
    }
   }
  },
  {
   "cell_type": "code",
   "execution_count": 191,
   "outputs": [],
   "source": [
    "n = \"8a2a81a74ce8c05d014cfb32a0da1049\"\n",
    "loan_row = train_perf.loc[train_perf.customerid == n, :].reset_index(drop=True)\n",
    "dob = train_dg.loc[train_dg.customerid == n, \"birthdate\"].reset_index(drop=True)\n",
    "\n",
    "loan_row.loc[:,\"age_at_loan\"] = (loan_row[\"approveddate\"] - dob) / np.timedelta64(1, \"Y\")\n",
    "# print((loan_row[\"approveddate\"] - dob[0]) / np.timedelta64(1, \"Y\"))"
   ],
   "metadata": {
    "collapsed": false,
    "pycharm": {
     "name": "#%%\n"
    }
   }
  },
  {
   "cell_type": "code",
   "execution_count": 192,
   "outputs": [
    {
     "data": {
      "text/plain": "                         customerid  loannumber        approveddate  \\\n0  8a2a81a74ce8c05d014cfb32a0da1049          12 2017-07-25 08:22:56   \n\n   loanamount  totaldue  termdays good_bad_flag  age_at_loan  \n0     30000.0   34500.0        30          Good    45.526874  ",
      "text/html": "<div>\n<style scoped>\n    .dataframe tbody tr th:only-of-type {\n        vertical-align: middle;\n    }\n\n    .dataframe tbody tr th {\n        vertical-align: top;\n    }\n\n    .dataframe thead th {\n        text-align: right;\n    }\n</style>\n<table border=\"1\" class=\"dataframe\">\n  <thead>\n    <tr style=\"text-align: right;\">\n      <th></th>\n      <th>customerid</th>\n      <th>loannumber</th>\n      <th>approveddate</th>\n      <th>loanamount</th>\n      <th>totaldue</th>\n      <th>termdays</th>\n      <th>good_bad_flag</th>\n      <th>age_at_loan</th>\n    </tr>\n  </thead>\n  <tbody>\n    <tr>\n      <th>0</th>\n      <td>8a2a81a74ce8c05d014cfb32a0da1049</td>\n      <td>12</td>\n      <td>2017-07-25 08:22:56</td>\n      <td>30000.0</td>\n      <td>34500.0</td>\n      <td>30</td>\n      <td>Good</td>\n      <td>45.526874</td>\n    </tr>\n  </tbody>\n</table>\n</div>"
     },
     "execution_count": 192,
     "metadata": {},
     "output_type": "execute_result"
    }
   ],
   "source": [
    "loan_row"
   ],
   "metadata": {
    "collapsed": false,
    "pycharm": {
     "name": "#%%\n"
    }
   }
  },
  {
   "cell_type": "code",
   "execution_count": 193,
   "outputs": [
    {
     "data": {
      "text/plain": "Timestamp('1972-01-15 00:00:00')"
     },
     "execution_count": 193,
     "metadata": {},
     "output_type": "execute_result"
    }
   ],
   "source": [
    "dob[0]"
   ],
   "metadata": {
    "collapsed": false,
    "pycharm": {
     "name": "#%%\n"
    }
   }
  },
  {
   "cell_type": "code",
   "execution_count": 193,
   "outputs": [],
   "source": [],
   "metadata": {
    "collapsed": false,
    "pycharm": {
     "name": "#%%\n"
    }
   }
  },
  {
   "cell_type": "code",
   "execution_count": 193,
   "outputs": [],
   "source": [],
   "metadata": {
    "collapsed": false,
    "pycharm": {
     "name": "#%%\n"
    }
   }
  },
  {
   "cell_type": "code",
   "execution_count": 194,
   "outputs": [],
   "source": [
    "generator = generate_graph(perf=train_perf, prev_loan=train_prevloans, dg=train_dg)"
   ],
   "metadata": {
    "collapsed": false,
    "pycharm": {
     "name": "#%%\n"
    }
   }
  },
  {
   "cell_type": "code",
   "execution_count": 198,
   "outputs": [
    {
     "data": {
      "text/plain": "{'user_id': '8a85890754145ace015429211b513e16',\n 'graph_label': 'Good',\n 'node_type_loans': [[3.0, 10000.0, 11500.0, 15.0, 39.7976471555301]],\n 'node_type_prevloans': [[2.0, 10000.0, 11500.0, 15.0, 27.0, 15.0, 27.0],\n  [1.0, 10000.0, 13000.0, 30.0, 36.0, 31.0, 36.0]],\n 'node_type_dg': [['Savings',\n   3.9857698,\n   7.4917081,\n   'First Bank',\n   'Permanent',\n   0]]}"
     },
     "execution_count": 198,
     "metadata": {},
     "output_type": "execute_result"
    }
   ],
   "source": [
    "next(generator)"
   ],
   "metadata": {
    "collapsed": false,
    "pycharm": {
     "name": "#%%\n"
    }
   }
  },
  {
   "cell_type": "code",
   "execution_count": 120,
   "outputs": [
    {
     "data": {
      "text/plain": "4368"
     },
     "execution_count": 120,
     "metadata": {},
     "output_type": "execute_result"
    }
   ],
   "source": [
    "len(train_perf.customerid)"
   ],
   "metadata": {
    "collapsed": false,
    "pycharm": {
     "name": "#%%\n"
    }
   }
  },
  {
   "cell_type": "code",
   "execution_count": 121,
   "outputs": [
    {
     "data": {
      "text/plain": "4368"
     },
     "execution_count": 121,
     "metadata": {},
     "output_type": "execute_result"
    }
   ],
   "source": [
    "len(train_perf.customerid.unique())"
   ],
   "metadata": {
    "collapsed": false,
    "pycharm": {
     "name": "#%%\n"
    }
   }
  },
  {
   "cell_type": "code",
   "execution_count": 100,
   "outputs": [
    {
     "data": {
      "text/plain": "'8a8589f35451855401546b0738c42524'"
     },
     "execution_count": 100,
     "metadata": {},
     "output_type": "execute_result"
    }
   ],
   "source": [
    "test.customerid.unique()[0]"
   ],
   "metadata": {
    "collapsed": false,
    "pycharm": {
     "name": "#%%\n"
    }
   }
  },
  {
   "cell_type": "code",
   "execution_count": null,
   "outputs": [],
   "source": [
    "'8a8589f35451855401546b0738c42524'"
   ],
   "metadata": {
    "collapsed": false,
    "pycharm": {
     "name": "#%%\n"
    }
   }
  }
 ],
 "metadata": {
  "kernelspec": {
   "display_name": "Python 3",
   "language": "python",
   "name": "python3"
  },
  "language_info": {
   "codemirror_mode": {
    "name": "ipython",
    "version": 2
   },
   "file_extension": ".py",
   "mimetype": "text/x-python",
   "name": "python",
   "nbconvert_exporter": "python",
   "pygments_lexer": "ipython2",
   "version": "2.7.6"
  }
 },
 "nbformat": 4,
 "nbformat_minor": 0
}
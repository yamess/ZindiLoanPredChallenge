{
 "cells": [
  {
   "cell_type": "code",
   "execution_count": 1,
   "outputs": [],
   "source": [
    "% load_ext autoreload\n",
    "% autoreload 2"
   ],
   "metadata": {
    "collapsed": false,
    "pycharm": {
     "name": "#%%\n"
    }
   }
  },
  {
   "cell_type": "code",
   "execution_count": 30,
   "metadata": {
    "collapsed": true,
    "pycharm": {
     "name": "#%%\n"
    }
   },
   "outputs": [],
   "source": [
    "import dgl\n",
    "import numpy as np\n",
    "import pandas as pd\n",
    "import torch\n",
    "import torch.nn as nn\n",
    "from sklearn.model_selection import train_test_split\n",
    "from torch import optim\n",
    "from torch.optim import lr_scheduler\n",
    "from torch.utils.data import DataLoader, RandomSampler\n",
    "from torch.utils.data import SequentialSampler\n",
    "\n",
    "from loan_pred.config import config\n",
    "from loan_pred.helpers.helper import save_pickle\n",
    "from loan_pred.models.models import CategoricalEmbeddingModel\n",
    "from loan_pred.preprocessing.embedding import (\n",
    "    CategoricalEmbeddingSizes, CreateTensorDataset\n",
    ")\n",
    "from loan_pred.preprocessing.preprocess import (\n",
    "    MultiLabelEncoder, TargetEncoder, convert_dtype, generate_graph, CustomScaler\n",
    ")\n",
    "from loan_pred.train.engine import engine"
   ]
  },
  {
   "cell_type": "code",
   "execution_count": 3,
   "outputs": [
    {
     "data": {
      "text/plain": "                         customerid  loannumber  loanamount  totaldue  \\\n0  8a2a81a74ce8c05d014cfb32a0da1049   -0.673771   -0.697536 -0.628776   \n1  8a2a81a74ce8c05d014cfb32a0da1049    1.480472   -0.697536 -0.628776   \n2  8a2a81a74ce8c05d014cfb32a0da1049    1.172723    0.375392  0.404325   \n3  8a8588f35438fe12015444567666018e    0.249476   -0.697536 -0.772263   \n4  8a85890754145ace015429211b513e16   -0.673771   -0.697536 -0.772263   \n\n   termdays  closeddate_days  firstduedate_days  firstrepaiddate_days  \n0  0.302132        -0.556943           0.618378             -0.543251  \n1  0.302132         0.424067           0.897378              0.365004  \n2  0.302132         2.159701           0.618378              2.429218  \n3 -1.068200        -0.707868          -1.474120             -0.708388  \n4 -1.068200         0.273143          -1.334620              0.365004  ",
      "text/html": "<div>\n<style scoped>\n    .dataframe tbody tr th:only-of-type {\n        vertical-align: middle;\n    }\n\n    .dataframe tbody tr th {\n        vertical-align: top;\n    }\n\n    .dataframe thead th {\n        text-align: right;\n    }\n</style>\n<table border=\"1\" class=\"dataframe\">\n  <thead>\n    <tr style=\"text-align: right;\">\n      <th></th>\n      <th>customerid</th>\n      <th>loannumber</th>\n      <th>loanamount</th>\n      <th>totaldue</th>\n      <th>termdays</th>\n      <th>closeddate_days</th>\n      <th>firstduedate_days</th>\n      <th>firstrepaiddate_days</th>\n    </tr>\n  </thead>\n  <tbody>\n    <tr>\n      <th>0</th>\n      <td>8a2a81a74ce8c05d014cfb32a0da1049</td>\n      <td>-0.673771</td>\n      <td>-0.697536</td>\n      <td>-0.628776</td>\n      <td>0.302132</td>\n      <td>-0.556943</td>\n      <td>0.618378</td>\n      <td>-0.543251</td>\n    </tr>\n    <tr>\n      <th>1</th>\n      <td>8a2a81a74ce8c05d014cfb32a0da1049</td>\n      <td>1.480472</td>\n      <td>-0.697536</td>\n      <td>-0.628776</td>\n      <td>0.302132</td>\n      <td>0.424067</td>\n      <td>0.897378</td>\n      <td>0.365004</td>\n    </tr>\n    <tr>\n      <th>2</th>\n      <td>8a2a81a74ce8c05d014cfb32a0da1049</td>\n      <td>1.172723</td>\n      <td>0.375392</td>\n      <td>0.404325</td>\n      <td>0.302132</td>\n      <td>2.159701</td>\n      <td>0.618378</td>\n      <td>2.429218</td>\n    </tr>\n    <tr>\n      <th>3</th>\n      <td>8a8588f35438fe12015444567666018e</td>\n      <td>0.249476</td>\n      <td>-0.697536</td>\n      <td>-0.772263</td>\n      <td>-1.068200</td>\n      <td>-0.707868</td>\n      <td>-1.474120</td>\n      <td>-0.708388</td>\n    </tr>\n    <tr>\n      <th>4</th>\n      <td>8a85890754145ace015429211b513e16</td>\n      <td>-0.673771</td>\n      <td>-0.697536</td>\n      <td>-0.772263</td>\n      <td>-1.068200</td>\n      <td>0.273143</td>\n      <td>-1.334620</td>\n      <td>0.365004</td>\n    </tr>\n  </tbody>\n</table>\n</div>"
     },
     "execution_count": 3,
     "metadata": {},
     "output_type": "execute_result"
    }
   ],
   "source": [
    "train_prevloans = pd.read_csv(\"../data/preprocessed/train/train_prevloans.csv\")\n",
    "cols_dtypes = {\n",
    "    \"customerid\": \"category\",\n",
    "    \"loannumber\": \"int\",\n",
    "    \"loanamount\": \"float\",\n",
    "    \"totaldue\": \"float\",\n",
    "    \"termdays\": \"int\",\n",
    "    \"closeddate_days\": \"int\",\n",
    "    \"firstduedate_days\": \"int\",\n",
    "    \"firstrepaiddate_days\": \"int\",\n",
    "}\n",
    "train_prevloans = convert_dtype(data=train_prevloans, columns_type=cols_dtypes)\n",
    "\n",
    "prevloan_scaler = CustomScaler(\n",
    "    cols=['loannumber', 'loanamount', 'totaldue', 'termdays', 'closeddate_days', 'firstduedate_days',\n",
    "          'firstrepaiddate_days']\n",
    ")\n",
    "train_prevloans = prevloan_scaler.fit_transform(train_prevloans)\n",
    "# Save the pickle\n",
    "save_pickle(file_path=\"../models_storage/scalers/prevloan_scaler.pk\", obj=prevloan_scaler)\n",
    "\n",
    "train_prevloans.head()"
   ],
   "metadata": {
    "collapsed": false,
    "pycharm": {
     "name": "#%%\n"
    }
   }
  },
  {
   "cell_type": "code",
   "execution_count": 45,
   "outputs": [
    {
     "data": {
      "text/plain": "                         customerid  birthdate  bank_account_type  \\\n0  8a858e135cb22031015cbafc76964ebd 1973-10-10                  2   \n1  8a858e275c7ea5ec015c82482d7c3996 1986-01-21                  2   \n2  8a858e5b5bd99460015bdc95cd485634 1987-04-01                  2   \n3  8a858efd5ca70688015cabd1f1e94b55 1991-07-19                  2   \n4  8a858e785acd3412015acd48f4920d04 1982-11-22                  2   \n\n   longitude_gps  latitude_gps  bank_name_clients  employment_status_clients  \\\n0      -0.181928     -0.236603                  6                          1   \n1      -0.181040     -0.043197                 12                          1   \n2       0.155890     -0.552651                  4                          1   \n3      -0.175854     -0.199322                  6                          1   \n4       0.533009      1.545177                  6                          1   \n\n   is_missing_emp_status_clients  \n0                              1  \n1                              0  \n2                              1  \n3                              0  \n4                              0  ",
      "text/html": "<div>\n<style scoped>\n    .dataframe tbody tr th:only-of-type {\n        vertical-align: middle;\n    }\n\n    .dataframe tbody tr th {\n        vertical-align: top;\n    }\n\n    .dataframe thead th {\n        text-align: right;\n    }\n</style>\n<table border=\"1\" class=\"dataframe\">\n  <thead>\n    <tr style=\"text-align: right;\">\n      <th></th>\n      <th>customerid</th>\n      <th>birthdate</th>\n      <th>bank_account_type</th>\n      <th>longitude_gps</th>\n      <th>latitude_gps</th>\n      <th>bank_name_clients</th>\n      <th>employment_status_clients</th>\n      <th>is_missing_emp_status_clients</th>\n    </tr>\n  </thead>\n  <tbody>\n    <tr>\n      <th>0</th>\n      <td>8a858e135cb22031015cbafc76964ebd</td>\n      <td>1973-10-10</td>\n      <td>2</td>\n      <td>-0.181928</td>\n      <td>-0.236603</td>\n      <td>6</td>\n      <td>1</td>\n      <td>1</td>\n    </tr>\n    <tr>\n      <th>1</th>\n      <td>8a858e275c7ea5ec015c82482d7c3996</td>\n      <td>1986-01-21</td>\n      <td>2</td>\n      <td>-0.181040</td>\n      <td>-0.043197</td>\n      <td>12</td>\n      <td>1</td>\n      <td>0</td>\n    </tr>\n    <tr>\n      <th>2</th>\n      <td>8a858e5b5bd99460015bdc95cd485634</td>\n      <td>1987-04-01</td>\n      <td>2</td>\n      <td>0.155890</td>\n      <td>-0.552651</td>\n      <td>4</td>\n      <td>1</td>\n      <td>1</td>\n    </tr>\n    <tr>\n      <th>3</th>\n      <td>8a858efd5ca70688015cabd1f1e94b55</td>\n      <td>1991-07-19</td>\n      <td>2</td>\n      <td>-0.175854</td>\n      <td>-0.199322</td>\n      <td>6</td>\n      <td>1</td>\n      <td>0</td>\n    </tr>\n    <tr>\n      <th>4</th>\n      <td>8a858e785acd3412015acd48f4920d04</td>\n      <td>1982-11-22</td>\n      <td>2</td>\n      <td>0.533009</td>\n      <td>1.545177</td>\n      <td>6</td>\n      <td>1</td>\n      <td>0</td>\n    </tr>\n  </tbody>\n</table>\n</div>"
     },
     "execution_count": 45,
     "metadata": {},
     "output_type": "execute_result"
    }
   ],
   "source": [
    "train_dg = pd.read_csv(\"../data/preprocessed/train/train_dg.csv\")\n",
    "\n",
    "# Convert columns types\n",
    "cols_dtypes = {\n",
    "    \"customerid\": \"category\",\n",
    "    \"birthdate\": \"datetime\",\n",
    "    \"bank_account_type\": \"category\",\n",
    "    \"longitude_gps\": \"float\",\n",
    "    \"latitude_gps\": \"float\",\n",
    "    \"bank_name_clients\": \"category\",\n",
    "    \"employment_status_clients\": \"category\",\n",
    "    \"is_missing_emp_status_clients\": \"int\"\n",
    "}\n",
    "train_dg = convert_dtype(data=train_dg, columns_type=cols_dtypes)\n",
    "\n",
    "# Label encoding\n",
    "dg_enc = MultiLabelEncoder(cols=[\"bank_account_type\", \"bank_name_clients\", \"employment_status_clients\"])\n",
    "train_dg = dg_enc.fit_transform(train_dg)\n",
    "\n",
    "# Scaler\n",
    "dg_scaler = CustomScaler(cols=[\"longitude_gps\", \"latitude_gps\"])\n",
    "train_dg = dg_scaler.fit_transform(train_dg)\n",
    "\n",
    "train_dg.head()"
   ],
   "metadata": {
    "collapsed": false,
    "pycharm": {
     "name": "#%%\n"
    }
   }
  },
  {
   "cell_type": "code",
   "execution_count": 46,
   "outputs": [
    {
     "data": {
      "text/plain": "'Object pickle saved'"
     },
     "execution_count": 46,
     "metadata": {},
     "output_type": "execute_result"
    }
   ],
   "source": [
    "save_pickle(obj=dg_enc, file_path=\"../models_storage/encoders/dg_multilabel_encoder.pk\")\n",
    "save_pickle(obj=dg_scaler, file_path=\"../models_storage/scalers/dg_scaler.pk\")"
   ],
   "metadata": {
    "collapsed": false,
    "pycharm": {
     "name": "#%%\n"
    }
   }
  },
  {
   "cell_type": "code",
   "execution_count": 6,
   "outputs": [
    {
     "data": {
      "text/plain": "                         customerid  loannumber        approveddate  \\\n0  8a2a81a74ce8c05d014cfb32a0da1049    1.868965 2017-07-25 08:22:56   \n1  8a85886e54beabf90154c0a29ae757c0   -0.868398 2017-07-05 17:04:41   \n2  8a8588f35438fe12015444567666018e    0.500283 2017-07-06 14:52:57   \n3  8a85890754145ace015429211b513e16   -0.594662 2017-07-27 19:00:41   \n4  8a858970548359cc0154883481981866    1.047756 2017-07-03 23:42:45   \n\n   loanamount  totaldue  termdays good_bad_flag  \n0    1.134202  1.108898  0.064140             1  \n1   -0.261346 -0.335566  0.064140             1  \n2    0.203837  0.083119 -1.238939             1  \n3   -0.726529 -0.817054 -1.238939             1  \n4    2.064568  1.904400  0.064140             1  ",
      "text/html": "<div>\n<style scoped>\n    .dataframe tbody tr th:only-of-type {\n        vertical-align: middle;\n    }\n\n    .dataframe tbody tr th {\n        vertical-align: top;\n    }\n\n    .dataframe thead th {\n        text-align: right;\n    }\n</style>\n<table border=\"1\" class=\"dataframe\">\n  <thead>\n    <tr style=\"text-align: right;\">\n      <th></th>\n      <th>customerid</th>\n      <th>loannumber</th>\n      <th>approveddate</th>\n      <th>loanamount</th>\n      <th>totaldue</th>\n      <th>termdays</th>\n      <th>good_bad_flag</th>\n    </tr>\n  </thead>\n  <tbody>\n    <tr>\n      <th>0</th>\n      <td>8a2a81a74ce8c05d014cfb32a0da1049</td>\n      <td>1.868965</td>\n      <td>2017-07-25 08:22:56</td>\n      <td>1.134202</td>\n      <td>1.108898</td>\n      <td>0.064140</td>\n      <td>1</td>\n    </tr>\n    <tr>\n      <th>1</th>\n      <td>8a85886e54beabf90154c0a29ae757c0</td>\n      <td>-0.868398</td>\n      <td>2017-07-05 17:04:41</td>\n      <td>-0.261346</td>\n      <td>-0.335566</td>\n      <td>0.064140</td>\n      <td>1</td>\n    </tr>\n    <tr>\n      <th>2</th>\n      <td>8a8588f35438fe12015444567666018e</td>\n      <td>0.500283</td>\n      <td>2017-07-06 14:52:57</td>\n      <td>0.203837</td>\n      <td>0.083119</td>\n      <td>-1.238939</td>\n      <td>1</td>\n    </tr>\n    <tr>\n      <th>3</th>\n      <td>8a85890754145ace015429211b513e16</td>\n      <td>-0.594662</td>\n      <td>2017-07-27 19:00:41</td>\n      <td>-0.726529</td>\n      <td>-0.817054</td>\n      <td>-1.238939</td>\n      <td>1</td>\n    </tr>\n    <tr>\n      <th>4</th>\n      <td>8a858970548359cc0154883481981866</td>\n      <td>1.047756</td>\n      <td>2017-07-03 23:42:45</td>\n      <td>2.064568</td>\n      <td>1.904400</td>\n      <td>0.064140</td>\n      <td>1</td>\n    </tr>\n  </tbody>\n</table>\n</div>"
     },
     "execution_count": 6,
     "metadata": {},
     "output_type": "execute_result"
    }
   ],
   "source": [
    "train_perf = pd.read_csv(\"../data/preprocessed/train/train_perf.csv\")\n",
    "\n",
    "# Convert columns types\n",
    "cols_dtypes = {\n",
    "    \"customerid\": \"category\",\n",
    "    \"loannumber\": \"int\",\n",
    "    \"approveddate\": \"datetime\",\n",
    "    \"loanamount\": \"float\",\n",
    "    \"totaldue\": \"float\",\n",
    "    \"termdays\": \"int\",\n",
    "    \"good_bad_flag\": \"category\"\n",
    "}\n",
    "train_perf = convert_dtype(data=train_perf, columns_type=cols_dtypes)\n",
    "\n",
    "# Apply scaling to some columns\n",
    "loan_scaler = CustomScaler(cols=[\"loannumber\", \"loanamount\", \"totaldue\", \"termdays\"])\n",
    "train_perf = loan_scaler.fit_transform(train_perf)\n",
    "\n",
    "# Encode The target column\n",
    "target_encoder = TargetEncoder(auto=False, mapping={\"Good\": 1, \"Bad\": 0})\n",
    "train_perf = target_encoder.encode_target(train_perf, target=\"good_bad_flag\")\n",
    "\n",
    "train_perf.head()"
   ],
   "metadata": {
    "collapsed": false,
    "pycharm": {
     "name": "#%%\n"
    }
   }
  },
  {
   "cell_type": "code",
   "execution_count": 44,
   "outputs": [
    {
     "data": {
      "text/plain": "'Object pickle saved'"
     },
     "execution_count": 44,
     "metadata": {},
     "output_type": "execute_result"
    }
   ],
   "source": [
    "save_pickle(obj=loan_scaler, file_path=\"../models_storage/scalers/loan_scaler.pk\")\n",
    "save_pickle(obj=target_encoder, file_path=\"../models_storage/encoders/loan_target_encoder\")"
   ],
   "metadata": {
    "collapsed": false,
    "pycharm": {
     "name": "#%%\n"
    }
   }
  },
  {
   "cell_type": "code",
   "execution_count": 8,
   "outputs": [
    {
     "name": "stdout",
     "output_type": "stream",
     "text": [
      "Shape of train_dg: (4346, 8)\n",
      "Shape of train_perf: (4368, 7)\n",
      "Shape of train_loans: (18183, 8)\n"
     ]
    }
   ],
   "source": [
    "print(f\"Shape of train_dg: {train_dg.shape}\")\n",
    "print(f\"Shape of train_perf: {train_perf.shape}\")\n",
    "print(f\"Shape of train_loans: {train_prevloans.shape}\")"
   ],
   "metadata": {
    "collapsed": false,
    "pycharm": {
     "name": "#%%\n"
    }
   }
  },
  {
   "cell_type": "markdown",
   "source": [
    "## Categorical Embedding"
   ],
   "metadata": {
    "collapsed": false,
    "pycharm": {
     "name": "#%% md\n"
    }
   }
  },
  {
   "cell_type": "code",
   "execution_count": 9,
   "outputs": [
    {
     "data": {
      "text/plain": "                         customerid  loannumber  loanamount  totaldue  \\\n0  8a2a81a74ce8c05d014cfb32a0da1049    1.868965    1.134202  1.108898   \n1  8a85886e54beabf90154c0a29ae757c0   -0.868398   -0.261346 -0.335566   \n2  8a8588f35438fe12015444567666018e    0.500283    0.203837  0.083119   \n3  8a85890754145ace015429211b513e16   -0.594662   -0.726529 -0.817054   \n4  8a858970548359cc0154883481981866    1.047756    2.064568  1.904400   \n\n   termdays good_bad_flag  bank_account_type  longitude_gps  latitude_gps  \\\n0  0.064140             1                  1      -0.166227     -0.267882   \n1  0.064140             1                  2      -0.103131      0.022701   \n2 -1.238939             1                  1       0.906620      0.995412   \n3 -1.238939             1                  2      -0.089145      0.078683   \n4  0.064140             1                  1       0.394171      0.597511   \n\n   bank_name_clients  employment_status_clients  is_missing_emp_status_clients  \n0                  1                          1                              0  \n1                  6                          1                              0  \n2                  2                          1                              0  \n3                  5                          1                              0  \n4                  6                          1                              0  ",
      "text/html": "<div>\n<style scoped>\n    .dataframe tbody tr th:only-of-type {\n        vertical-align: middle;\n    }\n\n    .dataframe tbody tr th {\n        vertical-align: top;\n    }\n\n    .dataframe thead th {\n        text-align: right;\n    }\n</style>\n<table border=\"1\" class=\"dataframe\">\n  <thead>\n    <tr style=\"text-align: right;\">\n      <th></th>\n      <th>customerid</th>\n      <th>loannumber</th>\n      <th>loanamount</th>\n      <th>totaldue</th>\n      <th>termdays</th>\n      <th>good_bad_flag</th>\n      <th>bank_account_type</th>\n      <th>longitude_gps</th>\n      <th>latitude_gps</th>\n      <th>bank_name_clients</th>\n      <th>employment_status_clients</th>\n      <th>is_missing_emp_status_clients</th>\n    </tr>\n  </thead>\n  <tbody>\n    <tr>\n      <th>0</th>\n      <td>8a2a81a74ce8c05d014cfb32a0da1049</td>\n      <td>1.868965</td>\n      <td>1.134202</td>\n      <td>1.108898</td>\n      <td>0.064140</td>\n      <td>1</td>\n      <td>1</td>\n      <td>-0.166227</td>\n      <td>-0.267882</td>\n      <td>1</td>\n      <td>1</td>\n      <td>0</td>\n    </tr>\n    <tr>\n      <th>1</th>\n      <td>8a85886e54beabf90154c0a29ae757c0</td>\n      <td>-0.868398</td>\n      <td>-0.261346</td>\n      <td>-0.335566</td>\n      <td>0.064140</td>\n      <td>1</td>\n      <td>2</td>\n      <td>-0.103131</td>\n      <td>0.022701</td>\n      <td>6</td>\n      <td>1</td>\n      <td>0</td>\n    </tr>\n    <tr>\n      <th>2</th>\n      <td>8a8588f35438fe12015444567666018e</td>\n      <td>0.500283</td>\n      <td>0.203837</td>\n      <td>0.083119</td>\n      <td>-1.238939</td>\n      <td>1</td>\n      <td>1</td>\n      <td>0.906620</td>\n      <td>0.995412</td>\n      <td>2</td>\n      <td>1</td>\n      <td>0</td>\n    </tr>\n    <tr>\n      <th>3</th>\n      <td>8a85890754145ace015429211b513e16</td>\n      <td>-0.594662</td>\n      <td>-0.726529</td>\n      <td>-0.817054</td>\n      <td>-1.238939</td>\n      <td>1</td>\n      <td>2</td>\n      <td>-0.089145</td>\n      <td>0.078683</td>\n      <td>5</td>\n      <td>1</td>\n      <td>0</td>\n    </tr>\n    <tr>\n      <th>4</th>\n      <td>8a858970548359cc0154883481981866</td>\n      <td>1.047756</td>\n      <td>2.064568</td>\n      <td>1.904400</td>\n      <td>0.064140</td>\n      <td>1</td>\n      <td>1</td>\n      <td>0.394171</td>\n      <td>0.597511</td>\n      <td>6</td>\n      <td>1</td>\n      <td>0</td>\n    </tr>\n  </tbody>\n</table>\n</div>"
     },
     "execution_count": 9,
     "metadata": {},
     "output_type": "execute_result"
    }
   ],
   "source": [
    "emb_data = pd.merge(train_perf[[\"customerid\", \"loannumber\", \"loanamount\", \"totaldue\", \"termdays\", \"good_bad_flag\"]],\n",
    "                    train_dg, on=\"customerid\", how=\"inner\").drop(\"birthdate\", axis=1)\n",
    "emb_data.head()"
   ],
   "metadata": {
    "collapsed": false,
    "pycharm": {
     "name": "#%%\n"
    }
   }
  },
  {
   "cell_type": "code",
   "execution_count": 10,
   "outputs": [],
   "source": [
    "cat_cols = [\"bank_account_type\", \"bank_name_clients\", \"employment_status_clients\"]\n",
    "cont_col = [\"loannumber\", \"loanamount\", \"totaldue\", \"termdays\", \"longitude_gps\", \"latitude_gps\",\n",
    "            \"is_missing_emp_status_clients\"]"
   ],
   "metadata": {
    "collapsed": false,
    "pycharm": {
     "name": "#%%\n"
    }
   }
  },
  {
   "cell_type": "code",
   "execution_count": 11,
   "outputs": [],
   "source": [
    "cat_embedder = CategoricalEmbeddingSizes()\n",
    "emb_sizes, emb_cols = cat_embedder.get_cat_emb_dims(\n",
    "    data=train_dg,\n",
    "    cat_cols=[\"bank_account_type\", \"bank_name_clients\", \"employment_status_clients\"]\n",
    ")"
   ],
   "metadata": {
    "collapsed": false,
    "pycharm": {
     "name": "#%%\n"
    }
   }
  },
  {
   "cell_type": "code",
   "execution_count": 12,
   "outputs": [],
   "source": [
    "# save_pickle(obj=cat_embedder, file_path=\"../models_storage/embeddings/embeddings_cols_info.pk\")"
   ],
   "metadata": {
    "collapsed": false,
    "pycharm": {
     "name": "#%%\n"
    }
   }
  },
  {
   "cell_type": "code",
   "execution_count": 13,
   "outputs": [
    {
     "data": {
      "text/plain": "[('bank_account_type', (4, 2)),\n ('bank_name_clients', (19, 10)),\n ('employment_status_clients', (7, 4))]"
     },
     "execution_count": 13,
     "metadata": {},
     "output_type": "execute_result"
    }
   ],
   "source": [
    "cat_embedder.emb_info"
   ],
   "metadata": {
    "collapsed": false,
    "pycharm": {
     "name": "#%%\n"
    }
   }
  },
  {
   "cell_type": "code",
   "execution_count": 14,
   "outputs": [],
   "source": [
    "X = emb_data.drop([\"customerid\", \"good_bad_flag\"], axis=1)\n",
    "y = emb_data.good_bad_flag\n",
    "X_train, X_test, y_train, y_test = train_test_split(\n",
    "    X, y,\n",
    "    train_size=0.85, random_state=56\n",
    ")"
   ],
   "metadata": {
    "collapsed": false,
    "pycharm": {
     "name": "#%%\n"
    }
   }
  },
  {
   "cell_type": "code",
   "execution_count": 15,
   "outputs": [],
   "source": [
    "train_dataset = CreateTensorDataset(\n",
    "    emb_cols=emb_cols,\n",
    "    x_data=X_train,\n",
    "    y_data=y_train\n",
    ")\n",
    "valid_dataset = CreateTensorDataset(\n",
    "    emb_cols=emb_cols,\n",
    "    x_data=X_test,\n",
    "    y_data=y_test\n",
    ")\n",
    "\n",
    "train_dataloader = DataLoader(\n",
    "    train_dataset,\n",
    "    sampler=RandomSampler(train_dataset),\n",
    "    batch_size=config[\"TRAIN_BS\"],\n",
    "    drop_last=True\n",
    ")\n",
    "valid_dataloader = DataLoader(\n",
    "    valid_dataset,\n",
    "    sampler=SequentialSampler(valid_dataset),\n",
    "    batch_size=config[\"VALID_BS\"]\n",
    ")\n"
   ],
   "metadata": {
    "collapsed": false,
    "pycharm": {
     "name": "#%%\n"
    }
   }
  },
  {
   "cell_type": "markdown",
   "source": [],
   "metadata": {
    "collapsed": false,
    "pycharm": {
     "name": "#%% md\n"
    }
   }
  },
  {
   "cell_type": "code",
   "execution_count": 31,
   "outputs": [
    {
     "name": "stdout",
     "output_type": "stream",
     "text": [
      "Loading state dict\n",
      "Path not found. Creating new objects\n"
     ]
    }
   ],
   "source": [
    "emb_model = CategoricalEmbeddingModel(\n",
    "    emb_dims=emb_sizes,\n",
    "    cont_dim=7,\n",
    "    dropout=config[\"DROPOUT\"],\n",
    "    output_size=1\n",
    ")\n",
    "emb_model.to(config[\"DEVICE\"])\n",
    "\n",
    "# Criterion\n",
    "pos_weight = y_train.value_counts()[0] / y_train.value_counts()[1]\n",
    "criterion = nn.BCEWithLogitsLoss(pos_weight=torch.tensor(pos_weight))\n",
    "criterion.to(config[\"DEVICE\"])\n",
    "\n",
    "# Optimizer\n",
    "optimizer = optim.Adam(emb_model.parameters(), config[\"LR\"])\n",
    "\n",
    "try:\n",
    "    print(\"Loading state dict\")\n",
    "    checkpoint = torch.load(\"../models_storage/embeddings/checkpoint.pt\")\n",
    "    emb_model.load_state_dict(checkpoint[\"model_state_dict\"])\n",
    "    optimizer.load_state_dict(checkpoint[\"optimizer_state_dict\"])\n",
    "except FileNotFoundError as error:\n",
    "    print(\"Path not found. Creating new objects\")\n",
    "    checkpoint = None"
   ],
   "metadata": {
    "collapsed": false,
    "pycharm": {
     "name": "#%%\n"
    }
   }
  },
  {
   "cell_type": "code",
   "execution_count": 32,
   "outputs": [
    {
     "data": {
      "text/plain": "0.01"
     },
     "execution_count": 32,
     "metadata": {},
     "output_type": "execute_result"
    }
   ],
   "source": [
    "config[\"LR\"]"
   ],
   "metadata": {
    "collapsed": false,
    "pycharm": {
     "name": "#%%\n"
    }
   }
  },
  {
   "cell_type": "code",
   "execution_count": 33,
   "outputs": [],
   "source": [
    "scheduler = lr_scheduler.ReduceLROnPlateau(\n",
    "    optimizer,\n",
    "    \"min\",\n",
    "    patience=10,\n",
    ")"
   ],
   "metadata": {
    "collapsed": false,
    "pycharm": {
     "name": "#%%\n"
    }
   }
  },
  {
   "cell_type": "code",
   "execution_count": 34,
   "outputs": [
    {
     "name": "stdout",
     "output_type": "stream",
     "text": [
      "======================= Training Started ============================\n",
      "Epoch: 0    | Elapsed Time:  3.54 s | Train Loss:  0.3092 | Valid Loss:  0.3039 | Train ROC AUC:  0.5417 | Valid ROC AUC:  0.5709 |  + \n",
      "Epoch: 1    | Elapsed Time:  2.49 s | Train Loss:  0.2952 | Valid Loss:  0.3071 | Train ROC AUC:  0.5637 | Valid ROC AUC:  0.5479 | \n",
      "Epoch: 2    | Elapsed Time:  2.55 s | Train Loss:  0.2946 | Valid Loss:  0.2999 | Train ROC AUC:  0.5557 | Valid ROC AUC:  0.5867 |  + \n",
      "Epoch: 3    | Elapsed Time:  2.54 s | Train Loss:  0.2932 | Valid Loss:  0.3091 | Train ROC AUC:  0.5704 | Valid ROC AUC:  0.5451 | \n",
      "Epoch: 4    | Elapsed Time:  2.53 s | Train Loss:  0.2937 | Valid Loss:  0.3051 | Train ROC AUC:  0.5620 | Valid ROC AUC:  0.5356 | \n",
      "Epoch: 5    | Elapsed Time:  2.54 s | Train Loss:  0.2929 | Valid Loss:  0.3036 | Train ROC AUC:  0.5624 | Valid ROC AUC:  0.5568 | \n",
      "Epoch: 6    | Elapsed Time:  2.53 s | Train Loss:  0.2923 | Valid Loss:  0.3056 | Train ROC AUC:  0.5786 | Valid ROC AUC:  0.5593 | \n",
      "Epoch: 7    | Elapsed Time:  2.55 s | Train Loss:  0.2895 | Valid Loss:  0.3051 | Train ROC AUC:  0.5914 | Valid ROC AUC:  0.5491 | \n",
      "Epoch: 8    | Elapsed Time:  2.55 s | Train Loss:  0.2923 | Valid Loss:  0.3048 | Train ROC AUC:  0.5656 | Valid ROC AUC:  0.5470 | \n",
      "Epoch: 9    | Elapsed Time:  2.53 s | Train Loss:  0.2907 | Valid Loss:  0.3067 | Train ROC AUC:  0.5779 | Valid ROC AUC:  0.5503 | \n",
      "Epoch: 10   | Elapsed Time:  2.55 s | Train Loss:  0.2884 | Valid Loss:  0.3044 | Train ROC AUC:  0.5879 | Valid ROC AUC:  0.5377 | \n",
      "Epoch: 11   | Elapsed Time:  2.56 s | Train Loss:  0.2891 | Valid Loss:  0.3077 | Train ROC AUC:  0.5813 | Valid ROC AUC:  0.5105 | \n",
      "Epoch: 12   | Elapsed Time:  2.72 s | Train Loss:  0.2896 | Valid Loss:  0.3717 | Train ROC AUC:  0.5883 | Valid ROC AUC:  0.5376 | \n",
      "Epoch: 13   | Elapsed Time:  2.66 s | Train Loss:  0.2885 | Valid Loss:  0.3056 | Train ROC AUC:  0.5850 | Valid ROC AUC:  0.5375 | \n",
      "Epoch: 14   | Elapsed Time:  2.58 s | Train Loss:  0.2903 | Valid Loss:  0.3041 | Train ROC AUC:  0.5682 | Valid ROC AUC:  0.5729 | \n",
      "Epoch: 15   | Elapsed Time:  2.72 s | Train Loss:  0.2883 | Valid Loss:  0.3152 | Train ROC AUC:  0.5954 | Valid ROC AUC:  0.5540 | \n",
      "Epoch: 16   | Elapsed Time:  2.68 s | Train Loss:  0.2910 | Valid Loss:  0.3334 | Train ROC AUC:  0.5842 | Valid ROC AUC:  0.5493 | \n",
      "Epoch: 17   | Elapsed Time:  2.58 s | Train Loss:  0.2897 | Valid Loss:  0.3232 | Train ROC AUC:  0.5808 | Valid ROC AUC:  0.5199 | \n",
      "Epoch: 18   | Elapsed Time:  2.65 s | Train Loss:  0.2882 | Valid Loss:  0.3100 | Train ROC AUC:  0.5958 | Valid ROC AUC:  0.5299 | \n",
      "Epoch: 19   | Elapsed Time:  2.53 s | Train Loss:  0.2895 | Valid Loss:  0.3049 | Train ROC AUC:  0.5805 | Valid ROC AUC:  0.5362 | \n",
      "Epoch: 20   | Elapsed Time:  2.90 s | Train Loss:  0.2901 | Valid Loss:  0.3103 | Train ROC AUC:  0.5827 | Valid ROC AUC:  0.5360 | \n",
      "Epoch: 21   | Elapsed Time:  2.58 s | Train Loss:  0.2872 | Valid Loss:  0.4371 | Train ROC AUC:  0.5922 | Valid ROC AUC:  0.5058 | \n",
      "Epoch: 22   | Elapsed Time:  2.53 s | Train Loss:  0.2917 | Valid Loss:  0.3576 | Train ROC AUC:  0.5723 | Valid ROC AUC:  0.5239 | \n",
      "Epoch: 23   | Elapsed Time:  2.62 s | Train Loss:  0.2899 | Valid Loss:  0.3107 | Train ROC AUC:  0.5989 | Valid ROC AUC:  0.5307 | \n",
      "Epoch: 24   | Elapsed Time:  2.64 s | Train Loss:  0.2897 | Valid Loss:  0.3071 | Train ROC AUC:  0.5759 | Valid ROC AUC:  0.5553 | \n",
      "Epoch: 25   | Elapsed Time:  2.75 s | Train Loss:  0.2878 | Valid Loss:  0.3075 | Train ROC AUC:  0.5948 | Valid ROC AUC:  0.5355 | \n",
      "Epoch: 26   | Elapsed Time:  2.75 s | Train Loss:  0.2892 | Valid Loss:  0.3097 | Train ROC AUC:  0.5882 | Valid ROC AUC:  0.5277 | \n",
      "Epoch: 27   | Elapsed Time:  2.81 s | Train Loss:  0.2904 | Valid Loss:  0.3196 | Train ROC AUC:  0.5731 | Valid ROC AUC:  0.5215 | \n",
      "Epoch: 28   | Elapsed Time:  2.74 s | Train Loss:  0.2880 | Valid Loss:  0.3079 | Train ROC AUC:  0.5965 | Valid ROC AUC:  0.5431 | \n",
      "Epoch: 29   | Elapsed Time:  2.65 s | Train Loss:  0.2897 | Valid Loss:  0.3717 | Train ROC AUC:  0.5823 | Valid ROC AUC:  0.5186 | \n",
      "Epoch: 30   | Elapsed Time:  2.80 s | Train Loss:  0.2878 | Valid Loss:  0.4055 | Train ROC AUC:  0.5938 | Valid ROC AUC:  0.5459 | \n",
      "Epoch: 31   | Elapsed Time:  2.78 s | Train Loss:  0.2898 | Valid Loss:  0.3083 | Train ROC AUC:  0.5814 | Valid ROC AUC:  0.5622 | \n"
     ]
    },
    {
     "ename": "KeyboardInterrupt",
     "evalue": "",
     "output_type": "error",
     "traceback": [
      "\u001B[1;31m---------------------------------------------------------------------------\u001B[0m",
      "\u001B[1;31mKeyboardInterrupt\u001B[0m                         Traceback (most recent call last)",
      "Input \u001B[1;32mIn [34]\u001B[0m, in \u001B[0;36m<cell line: 1>\u001B[1;34m()\u001B[0m\n\u001B[1;32m----> 1\u001B[0m \u001B[43mengine\u001B[49m\u001B[43m(\u001B[49m\n\u001B[0;32m      2\u001B[0m \u001B[43m    \u001B[49m\u001B[43mmodel\u001B[49m\u001B[38;5;241;43m=\u001B[39;49m\u001B[43memb_model\u001B[49m\u001B[43m,\u001B[49m\n\u001B[0;32m      3\u001B[0m \u001B[43m    \u001B[49m\u001B[43mcriterion\u001B[49m\u001B[38;5;241;43m=\u001B[39;49m\u001B[43mcriterion\u001B[49m\u001B[43m,\u001B[49m\n\u001B[0;32m      4\u001B[0m \u001B[43m    \u001B[49m\u001B[43moptimizer\u001B[49m\u001B[38;5;241;43m=\u001B[39;49m\u001B[43moptimizer\u001B[49m\u001B[43m,\u001B[49m\n\u001B[0;32m      5\u001B[0m \u001B[43m    \u001B[49m\u001B[43mscheduler\u001B[49m\u001B[38;5;241;43m=\u001B[39;49m\u001B[38;5;28;43;01mNone\u001B[39;49;00m\u001B[43m,\u001B[49m\n\u001B[0;32m      6\u001B[0m \u001B[43m    \u001B[49m\u001B[43mtrain_dataloader\u001B[49m\u001B[38;5;241;43m=\u001B[39;49m\u001B[43mtrain_dataloader\u001B[49m\u001B[43m,\u001B[49m\n\u001B[0;32m      7\u001B[0m \u001B[43m    \u001B[49m\u001B[43meval_dataloader\u001B[49m\u001B[38;5;241;43m=\u001B[39;49m\u001B[43mvalid_dataloader\u001B[49m\u001B[43m,\u001B[49m\n\u001B[0;32m      8\u001B[0m \u001B[43m    \u001B[49m\u001B[43mconfig\u001B[49m\u001B[38;5;241;43m=\u001B[39;49m\u001B[43mconfig\u001B[49m\u001B[43m,\u001B[49m\n\u001B[0;32m      9\u001B[0m \u001B[43m    \u001B[49m\u001B[43mdevice\u001B[49m\u001B[38;5;241;43m=\u001B[39;49m\u001B[43mconfig\u001B[49m\u001B[43m[\u001B[49m\u001B[38;5;124;43m\"\u001B[39;49m\u001B[38;5;124;43mDEVICE\u001B[39;49m\u001B[38;5;124;43m\"\u001B[39;49m\u001B[43m]\u001B[49m\u001B[43m,\u001B[49m\n\u001B[0;32m     10\u001B[0m \u001B[43m    \u001B[49m\u001B[43mcut_point\u001B[49m\u001B[38;5;241;43m=\u001B[39;49m\u001B[43mconfig\u001B[49m\u001B[43m[\u001B[49m\u001B[38;5;124;43m\"\u001B[39;49m\u001B[38;5;124;43mCUT_POINT\u001B[39;49m\u001B[38;5;124;43m\"\u001B[39;49m\u001B[43m]\u001B[49m\u001B[43m,\u001B[49m\n\u001B[0;32m     11\u001B[0m \u001B[43m    \u001B[49m\u001B[43mcheckpoint\u001B[49m\u001B[38;5;241;43m=\u001B[39;49m\u001B[43mcheckpoint\u001B[49m\u001B[43m,\u001B[49m\n\u001B[0;32m     12\u001B[0m \u001B[43m    \u001B[49m\u001B[43mstorage_path\u001B[49m\u001B[38;5;241;43m=\u001B[39;49m\u001B[38;5;124;43m\"\u001B[39;49m\u001B[38;5;124;43m../models_storage/embeddings/checkpoint.pt\u001B[39;49m\u001B[38;5;124;43m\"\u001B[39;49m\n\u001B[0;32m     13\u001B[0m \u001B[43m)\u001B[49m\n",
      "File \u001B[1;32mC:\\workspace\\Projects\\MLProjects\\ZindiLoanPredChallenge\\src\\loan_pred\\train\\engine.py:30\u001B[0m, in \u001B[0;36mengine\u001B[1;34m(model, train_dataloader, eval_dataloader, optimizer, criterion, scheduler, device, cut_point, config, checkpoint, storage_path)\u001B[0m\n\u001B[0;32m     27\u001B[0m \u001B[38;5;28;01mfor\u001B[39;00m e \u001B[38;5;129;01min\u001B[39;00m \u001B[38;5;28mrange\u001B[39m(epoch_at_best, config[\u001B[38;5;124m\"\u001B[39m\u001B[38;5;124mN_EPOCHS\u001B[39m\u001B[38;5;124m\"\u001B[39m] \u001B[38;5;241m+\u001B[39m epoch_at_best):\n\u001B[0;32m     28\u001B[0m     e_start_time \u001B[38;5;241m=\u001B[39m time\u001B[38;5;241m.\u001B[39mtime()\n\u001B[1;32m---> 30\u001B[0m     metrics_train \u001B[38;5;241m=\u001B[39m \u001B[43mtrain\u001B[49m\u001B[43m(\u001B[49m\n\u001B[0;32m     31\u001B[0m \u001B[43m        \u001B[49m\u001B[43mmodel\u001B[49m\u001B[38;5;241;43m=\u001B[39;49m\u001B[43mmodel\u001B[49m\u001B[43m,\u001B[49m\n\u001B[0;32m     32\u001B[0m \u001B[43m        \u001B[49m\u001B[43mdataloader\u001B[49m\u001B[38;5;241;43m=\u001B[39;49m\u001B[43mtrain_dataloader\u001B[49m\u001B[43m,\u001B[49m\n\u001B[0;32m     33\u001B[0m \u001B[43m        \u001B[49m\u001B[43moptimizer\u001B[49m\u001B[38;5;241;43m=\u001B[39;49m\u001B[43moptimizer\u001B[49m\u001B[43m,\u001B[49m\n\u001B[0;32m     34\u001B[0m \u001B[43m        \u001B[49m\u001B[43mcriterion\u001B[49m\u001B[38;5;241;43m=\u001B[39;49m\u001B[43mcriterion\u001B[49m\u001B[43m,\u001B[49m\n\u001B[0;32m     35\u001B[0m \u001B[43m        \u001B[49m\u001B[43mdevice\u001B[49m\u001B[38;5;241;43m=\u001B[39;49m\u001B[43mdevice\u001B[49m\u001B[43m,\u001B[49m\n\u001B[0;32m     36\u001B[0m \u001B[43m        \u001B[49m\u001B[43mcut_point\u001B[49m\u001B[38;5;241;43m=\u001B[39;49m\u001B[43mcut_point\u001B[49m\n\u001B[0;32m     37\u001B[0m \u001B[43m    \u001B[49m\u001B[43m)\u001B[49m\n\u001B[0;32m     38\u001B[0m     metrics_eval \u001B[38;5;241m=\u001B[39m evaluate(\n\u001B[0;32m     39\u001B[0m         model\u001B[38;5;241m=\u001B[39mmodel,\n\u001B[0;32m     40\u001B[0m         dataloader\u001B[38;5;241m=\u001B[39meval_dataloader,\n\u001B[1;32m   (...)\u001B[0m\n\u001B[0;32m     43\u001B[0m         cut_point\u001B[38;5;241m=\u001B[39mcut_point\n\u001B[0;32m     44\u001B[0m     )\n\u001B[0;32m     46\u001B[0m     \u001B[38;5;28;01mif\u001B[39;00m scheduler:\n",
      "File \u001B[1;32mC:\\workspace\\Projects\\MLProjects\\ZindiLoanPredChallenge\\src\\loan_pred\\train\\train_model.py:18\u001B[0m, in \u001B[0;36mtrain\u001B[1;34m(model, dataloader, optimizer, criterion, device, cut_point)\u001B[0m\n\u001B[0;32m     15\u001B[0m y_true \u001B[38;5;241m=\u001B[39m batch[\u001B[38;5;124m\"\u001B[39m\u001B[38;5;124my\u001B[39m\u001B[38;5;124m\"\u001B[39m]\u001B[38;5;241m.\u001B[39mfloat()\u001B[38;5;241m.\u001B[39mto(device)\n\u001B[0;32m     17\u001B[0m optimizer\u001B[38;5;241m.\u001B[39mzero_grad()\n\u001B[1;32m---> 18\u001B[0m logits \u001B[38;5;241m=\u001B[39m \u001B[43mmodel\u001B[49m\u001B[43m(\u001B[49m\n\u001B[0;32m     19\u001B[0m \u001B[43m    \u001B[49m\u001B[43mx_cont\u001B[49m\u001B[38;5;241;43m=\u001B[39;49m\u001B[43mx_cont\u001B[49m\u001B[43m,\u001B[49m\n\u001B[0;32m     20\u001B[0m \u001B[43m    \u001B[49m\u001B[43mx_emb\u001B[49m\u001B[38;5;241;43m=\u001B[39;49m\u001B[43mx_emb\u001B[49m\n\u001B[0;32m     21\u001B[0m \u001B[43m\u001B[49m\u001B[43m)\u001B[49m\n\u001B[0;32m     22\u001B[0m loss \u001B[38;5;241m=\u001B[39m criterion(logits\u001B[38;5;241m.\u001B[39msqueeze(\u001B[38;5;241m1\u001B[39m), y_true)\n\u001B[0;32m     23\u001B[0m loss\u001B[38;5;241m.\u001B[39mbackward()\n",
      "File \u001B[1;32mC:\\workspace\\Projects\\MLProjects\\ZindiLoanPredChallenge\\venv\\lib\\site-packages\\torch\\nn\\modules\\module.py:1110\u001B[0m, in \u001B[0;36mModule._call_impl\u001B[1;34m(self, *input, **kwargs)\u001B[0m\n\u001B[0;32m   1106\u001B[0m \u001B[38;5;66;03m# If we don't have any hooks, we want to skip the rest of the logic in\u001B[39;00m\n\u001B[0;32m   1107\u001B[0m \u001B[38;5;66;03m# this function, and just call forward.\u001B[39;00m\n\u001B[0;32m   1108\u001B[0m \u001B[38;5;28;01mif\u001B[39;00m \u001B[38;5;129;01mnot\u001B[39;00m (\u001B[38;5;28mself\u001B[39m\u001B[38;5;241m.\u001B[39m_backward_hooks \u001B[38;5;129;01mor\u001B[39;00m \u001B[38;5;28mself\u001B[39m\u001B[38;5;241m.\u001B[39m_forward_hooks \u001B[38;5;129;01mor\u001B[39;00m \u001B[38;5;28mself\u001B[39m\u001B[38;5;241m.\u001B[39m_forward_pre_hooks \u001B[38;5;129;01mor\u001B[39;00m _global_backward_hooks\n\u001B[0;32m   1109\u001B[0m         \u001B[38;5;129;01mor\u001B[39;00m _global_forward_hooks \u001B[38;5;129;01mor\u001B[39;00m _global_forward_pre_hooks):\n\u001B[1;32m-> 1110\u001B[0m     \u001B[38;5;28;01mreturn\u001B[39;00m forward_call(\u001B[38;5;241m*\u001B[39m\u001B[38;5;28minput\u001B[39m, \u001B[38;5;241m*\u001B[39m\u001B[38;5;241m*\u001B[39mkwargs)\n\u001B[0;32m   1111\u001B[0m \u001B[38;5;66;03m# Do not call functions when jit is used\u001B[39;00m\n\u001B[0;32m   1112\u001B[0m full_backward_hooks, non_full_backward_hooks \u001B[38;5;241m=\u001B[39m [], []\n",
      "File \u001B[1;32mC:\\workspace\\Projects\\MLProjects\\ZindiLoanPredChallenge\\src\\loan_pred\\models\\models.py:44\u001B[0m, in \u001B[0;36mCategoricalEmbeddingModel.forward\u001B[1;34m(self, x_cont, x_emb)\u001B[0m\n\u001B[0;32m     43\u001B[0m \u001B[38;5;28;01mdef\u001B[39;00m \u001B[38;5;21mforward\u001B[39m(\u001B[38;5;28mself\u001B[39m, x_cont, x_emb):\n\u001B[1;32m---> 44\u001B[0m     emb \u001B[38;5;241m=\u001B[39m [\n\u001B[0;32m     45\u001B[0m         \u001B[38;5;28mself\u001B[39m\u001B[38;5;241m.\u001B[39mdropout(f(x_emb[:, i])) \u001B[38;5;28;01mfor\u001B[39;00m i, f \u001B[38;5;129;01min\u001B[39;00m \u001B[38;5;28menumerate\u001B[39m(\u001B[38;5;28mself\u001B[39m\u001B[38;5;241m.\u001B[39membedding_layers)\n\u001B[0;32m     46\u001B[0m     ]\n\u001B[0;32m     47\u001B[0m     emb \u001B[38;5;241m=\u001B[39m torch\u001B[38;5;241m.\u001B[39mcat(emb, \u001B[38;5;241m1\u001B[39m)\n\u001B[0;32m     49\u001B[0m     x_cont \u001B[38;5;241m=\u001B[39m \u001B[38;5;28mself\u001B[39m\u001B[38;5;241m.\u001B[39mbn(x_cont)\n",
      "File \u001B[1;32mC:\\workspace\\Projects\\MLProjects\\ZindiLoanPredChallenge\\src\\loan_pred\\models\\models.py:45\u001B[0m, in \u001B[0;36m<listcomp>\u001B[1;34m(.0)\u001B[0m\n\u001B[0;32m     43\u001B[0m \u001B[38;5;28;01mdef\u001B[39;00m \u001B[38;5;21mforward\u001B[39m(\u001B[38;5;28mself\u001B[39m, x_cont, x_emb):\n\u001B[0;32m     44\u001B[0m     emb \u001B[38;5;241m=\u001B[39m [\n\u001B[1;32m---> 45\u001B[0m         \u001B[38;5;28mself\u001B[39m\u001B[38;5;241m.\u001B[39mdropout(\u001B[43mf\u001B[49m\u001B[43m(\u001B[49m\u001B[43mx_emb\u001B[49m\u001B[43m[\u001B[49m\u001B[43m:\u001B[49m\u001B[43m,\u001B[49m\u001B[43m \u001B[49m\u001B[43mi\u001B[49m\u001B[43m]\u001B[49m\u001B[43m)\u001B[49m) \u001B[38;5;28;01mfor\u001B[39;00m i, f \u001B[38;5;129;01min\u001B[39;00m \u001B[38;5;28menumerate\u001B[39m(\u001B[38;5;28mself\u001B[39m\u001B[38;5;241m.\u001B[39membedding_layers)\n\u001B[0;32m     46\u001B[0m     ]\n\u001B[0;32m     47\u001B[0m     emb \u001B[38;5;241m=\u001B[39m torch\u001B[38;5;241m.\u001B[39mcat(emb, \u001B[38;5;241m1\u001B[39m)\n\u001B[0;32m     49\u001B[0m     x_cont \u001B[38;5;241m=\u001B[39m \u001B[38;5;28mself\u001B[39m\u001B[38;5;241m.\u001B[39mbn(x_cont)\n",
      "File \u001B[1;32mC:\\workspace\\Projects\\MLProjects\\ZindiLoanPredChallenge\\venv\\lib\\site-packages\\torch\\nn\\modules\\module.py:1110\u001B[0m, in \u001B[0;36mModule._call_impl\u001B[1;34m(self, *input, **kwargs)\u001B[0m\n\u001B[0;32m   1106\u001B[0m \u001B[38;5;66;03m# If we don't have any hooks, we want to skip the rest of the logic in\u001B[39;00m\n\u001B[0;32m   1107\u001B[0m \u001B[38;5;66;03m# this function, and just call forward.\u001B[39;00m\n\u001B[0;32m   1108\u001B[0m \u001B[38;5;28;01mif\u001B[39;00m \u001B[38;5;129;01mnot\u001B[39;00m (\u001B[38;5;28mself\u001B[39m\u001B[38;5;241m.\u001B[39m_backward_hooks \u001B[38;5;129;01mor\u001B[39;00m \u001B[38;5;28mself\u001B[39m\u001B[38;5;241m.\u001B[39m_forward_hooks \u001B[38;5;129;01mor\u001B[39;00m \u001B[38;5;28mself\u001B[39m\u001B[38;5;241m.\u001B[39m_forward_pre_hooks \u001B[38;5;129;01mor\u001B[39;00m _global_backward_hooks\n\u001B[0;32m   1109\u001B[0m         \u001B[38;5;129;01mor\u001B[39;00m _global_forward_hooks \u001B[38;5;129;01mor\u001B[39;00m _global_forward_pre_hooks):\n\u001B[1;32m-> 1110\u001B[0m     \u001B[38;5;28;01mreturn\u001B[39;00m forward_call(\u001B[38;5;241m*\u001B[39m\u001B[38;5;28minput\u001B[39m, \u001B[38;5;241m*\u001B[39m\u001B[38;5;241m*\u001B[39mkwargs)\n\u001B[0;32m   1111\u001B[0m \u001B[38;5;66;03m# Do not call functions when jit is used\u001B[39;00m\n\u001B[0;32m   1112\u001B[0m full_backward_hooks, non_full_backward_hooks \u001B[38;5;241m=\u001B[39m [], []\n",
      "File \u001B[1;32mC:\\workspace\\Projects\\MLProjects\\ZindiLoanPredChallenge\\venv\\lib\\site-packages\\torch\\nn\\modules\\sparse.py:158\u001B[0m, in \u001B[0;36mEmbedding.forward\u001B[1;34m(self, input)\u001B[0m\n\u001B[0;32m    157\u001B[0m \u001B[38;5;28;01mdef\u001B[39;00m \u001B[38;5;21mforward\u001B[39m(\u001B[38;5;28mself\u001B[39m, \u001B[38;5;28minput\u001B[39m: Tensor) \u001B[38;5;241m-\u001B[39m\u001B[38;5;241m>\u001B[39m Tensor:\n\u001B[1;32m--> 158\u001B[0m     \u001B[38;5;28;01mreturn\u001B[39;00m \u001B[43mF\u001B[49m\u001B[38;5;241;43m.\u001B[39;49m\u001B[43membedding\u001B[49m\u001B[43m(\u001B[49m\n\u001B[0;32m    159\u001B[0m \u001B[43m        \u001B[49m\u001B[38;5;28;43minput\u001B[39;49m\u001B[43m,\u001B[49m\u001B[43m \u001B[49m\u001B[38;5;28;43mself\u001B[39;49m\u001B[38;5;241;43m.\u001B[39;49m\u001B[43mweight\u001B[49m\u001B[43m,\u001B[49m\u001B[43m \u001B[49m\u001B[38;5;28;43mself\u001B[39;49m\u001B[38;5;241;43m.\u001B[39;49m\u001B[43mpadding_idx\u001B[49m\u001B[43m,\u001B[49m\u001B[43m \u001B[49m\u001B[38;5;28;43mself\u001B[39;49m\u001B[38;5;241;43m.\u001B[39;49m\u001B[43mmax_norm\u001B[49m\u001B[43m,\u001B[49m\n\u001B[0;32m    160\u001B[0m \u001B[43m        \u001B[49m\u001B[38;5;28;43mself\u001B[39;49m\u001B[38;5;241;43m.\u001B[39;49m\u001B[43mnorm_type\u001B[49m\u001B[43m,\u001B[49m\u001B[43m \u001B[49m\u001B[38;5;28;43mself\u001B[39;49m\u001B[38;5;241;43m.\u001B[39;49m\u001B[43mscale_grad_by_freq\u001B[49m\u001B[43m,\u001B[49m\u001B[43m \u001B[49m\u001B[38;5;28;43mself\u001B[39;49m\u001B[38;5;241;43m.\u001B[39;49m\u001B[43msparse\u001B[49m\u001B[43m)\u001B[49m\n",
      "File \u001B[1;32mC:\\workspace\\Projects\\MLProjects\\ZindiLoanPredChallenge\\venv\\lib\\site-packages\\torch\\nn\\functional.py:2183\u001B[0m, in \u001B[0;36membedding\u001B[1;34m(input, weight, padding_idx, max_norm, norm_type, scale_grad_by_freq, sparse)\u001B[0m\n\u001B[0;32m   2177\u001B[0m     \u001B[38;5;66;03m# Note [embedding_renorm set_grad_enabled]\u001B[39;00m\n\u001B[0;32m   2178\u001B[0m     \u001B[38;5;66;03m# XXX: equivalent to\u001B[39;00m\n\u001B[0;32m   2179\u001B[0m     \u001B[38;5;66;03m# with torch.no_grad():\u001B[39;00m\n\u001B[0;32m   2180\u001B[0m     \u001B[38;5;66;03m#   torch.embedding_renorm_\u001B[39;00m\n\u001B[0;32m   2181\u001B[0m     \u001B[38;5;66;03m# remove once script supports set_grad_enabled\u001B[39;00m\n\u001B[0;32m   2182\u001B[0m     _no_grad_embedding_renorm_(weight, \u001B[38;5;28minput\u001B[39m, max_norm, norm_type)\n\u001B[1;32m-> 2183\u001B[0m \u001B[38;5;28;01mreturn\u001B[39;00m \u001B[43mtorch\u001B[49m\u001B[38;5;241;43m.\u001B[39;49m\u001B[43membedding\u001B[49m\u001B[43m(\u001B[49m\u001B[43mweight\u001B[49m\u001B[43m,\u001B[49m\u001B[43m \u001B[49m\u001B[38;5;28;43minput\u001B[39;49m\u001B[43m,\u001B[49m\u001B[43m \u001B[49m\u001B[43mpadding_idx\u001B[49m\u001B[43m,\u001B[49m\u001B[43m \u001B[49m\u001B[43mscale_grad_by_freq\u001B[49m\u001B[43m,\u001B[49m\u001B[43m \u001B[49m\u001B[43msparse\u001B[49m\u001B[43m)\u001B[49m\n",
      "\u001B[1;31mKeyboardInterrupt\u001B[0m: "
     ]
    }
   ],
   "source": [
    "engine(\n",
    "    model=emb_model,\n",
    "    criterion=criterion,\n",
    "    optimizer=optimizer,\n",
    "    scheduler=None,\n",
    "    train_dataloader=train_dataloader,\n",
    "    eval_dataloader=valid_dataloader,\n",
    "    config=config,\n",
    "    device=config[\"DEVICE\"],\n",
    "    cut_point=config[\"CUT_POINT\"],\n",
    "    checkpoint=checkpoint,\n",
    "    storage_path=\"../models_storage/embeddings/checkpoint.pt\"\n",
    ")"
   ],
   "metadata": {
    "collapsed": false,
    "pycharm": {
     "name": "#%%\n"
    }
   }
  },
  {
   "cell_type": "code",
   "execution_count": 35,
   "outputs": [],
   "source": [
    "emb_layers = torch.load(\"../models_storage/embeddings/embeddings_layers.pt\")\n",
    "weights = []\n",
    "for k, v in enumerate(emb_layers):\n",
    "    weights.append(v.weight.detach().cpu())"
   ],
   "metadata": {
    "collapsed": false,
    "pycharm": {
     "name": "#%%\n"
    }
   }
  },
  {
   "cell_type": "code",
   "execution_count": 37,
   "outputs": [
    {
     "data": {
      "text/plain": "'Object pickle saved'"
     },
     "execution_count": 37,
     "metadata": {},
     "output_type": "execute_result"
    }
   ],
   "source": [
    "zipper = list(zip(emb_cols, emb_sizes, weights))\n",
    "save_pickle(obj=zipper, file_path=\"../models_storage/embeddings/embeddings_weights.pk\")"
   ],
   "metadata": {
    "collapsed": false,
    "pycharm": {
     "name": "#%%\n"
    }
   }
  },
  {
   "cell_type": "code",
   "execution_count": 38,
   "outputs": [],
   "source": [
    "from loan_pred.helpers.helper import load_pickle\n",
    "\n",
    "# Load embeddings_weights\n",
    "embeddings_weight = load_pickle(file_path=\"../models_storage/embeddings/embeddings_weights.pk\")"
   ],
   "metadata": {
    "collapsed": false,
    "pycharm": {
     "name": "#%%\n"
    }
   }
  },
  {
   "cell_type": "code",
   "execution_count": 40,
   "outputs": [],
   "source": [
    "from loan_pred.preprocessing.embedding import EmbeddingTransformer\n",
    "\n",
    "embedder = EmbeddingTransformer(embedding_weights=embeddings_weight)"
   ],
   "metadata": {
    "collapsed": false,
    "pycharm": {
     "name": "#%%\n"
    }
   }
  },
  {
   "cell_type": "code",
   "execution_count": 41,
   "outputs": [],
   "source": [
    "dt = embedder.transform(data=train_dg)"
   ],
   "metadata": {
    "collapsed": false,
    "pycharm": {
     "name": "#%%\n"
    }
   }
  },
  {
   "cell_type": "code",
   "execution_count": 42,
   "outputs": [
    {
     "data": {
      "text/plain": "                         customerid  birthdate  longitude_gps  latitude_gps  \\\n0  8a858e135cb22031015cbafc76964ebd 1973-10-10      -0.181928     -0.236603   \n1  8a858e275c7ea5ec015c82482d7c3996 1986-01-21      -0.181040     -0.043197   \n2  8a858e5b5bd99460015bdc95cd485634 1987-04-01       0.155890     -0.552651   \n3  8a858efd5ca70688015cabd1f1e94b55 1991-07-19      -0.175854     -0.199322   \n4  8a858e785acd3412015acd48f4920d04 1982-11-22       0.533009      1.545177   \n\n   is_missing_emp_status_clients  bank_account_type_0  bank_account_type_1  \\\n0                              1            -0.028878            -0.855125   \n1                              0            -0.028878            -0.855125   \n2                              1            -0.028878            -0.855125   \n3                              0            -0.028878            -0.855125   \n4                              0            -0.028878            -0.855125   \n\n   bank_name_clients_0  bank_name_clients_1  bank_name_clients_2  ...  \\\n0             0.063461            -0.186302             1.173964  ...   \n1            -0.123493            -2.284099            -1.671413  ...   \n2             1.103828             0.777442             1.248884  ...   \n3             0.063461            -0.186302             1.173964  ...   \n4             0.063461            -0.186302             1.173964  ...   \n\n   bank_name_clients_4  bank_name_clients_5  bank_name_clients_6  \\\n0            -0.154604             0.766620            -0.135906   \n1             0.747014            -0.053674            -3.044296   \n2            -1.158112            -0.445147             0.017469   \n3            -0.154604             0.766620            -0.135906   \n4            -0.154604             0.766620            -0.135906   \n\n   bank_name_clients_7  bank_name_clients_8  bank_name_clients_9  \\\n0             0.285251            -0.012637            -0.010871   \n1             1.864994             0.822281             2.384361   \n2            -0.171524            -0.475374            -0.648696   \n3             0.285251            -0.012637            -0.010871   \n4             0.285251            -0.012637            -0.010871   \n\n   employment_status_clients_0  employment_status_clients_1  \\\n0                     0.486133                     0.341335   \n1                     0.486133                     0.341335   \n2                     0.486133                     0.341335   \n3                     0.486133                     0.341335   \n4                     0.486133                     0.341335   \n\n   employment_status_clients_2  employment_status_clients_3  \n0                    -1.499897                     0.908332  \n1                    -1.499897                     0.908332  \n2                    -1.499897                     0.908332  \n3                    -1.499897                     0.908332  \n4                    -1.499897                     0.908332  \n\n[5 rows x 21 columns]",
      "text/html": "<div>\n<style scoped>\n    .dataframe tbody tr th:only-of-type {\n        vertical-align: middle;\n    }\n\n    .dataframe tbody tr th {\n        vertical-align: top;\n    }\n\n    .dataframe thead th {\n        text-align: right;\n    }\n</style>\n<table border=\"1\" class=\"dataframe\">\n  <thead>\n    <tr style=\"text-align: right;\">\n      <th></th>\n      <th>customerid</th>\n      <th>birthdate</th>\n      <th>longitude_gps</th>\n      <th>latitude_gps</th>\n      <th>is_missing_emp_status_clients</th>\n      <th>bank_account_type_0</th>\n      <th>bank_account_type_1</th>\n      <th>bank_name_clients_0</th>\n      <th>bank_name_clients_1</th>\n      <th>bank_name_clients_2</th>\n      <th>...</th>\n      <th>bank_name_clients_4</th>\n      <th>bank_name_clients_5</th>\n      <th>bank_name_clients_6</th>\n      <th>bank_name_clients_7</th>\n      <th>bank_name_clients_8</th>\n      <th>bank_name_clients_9</th>\n      <th>employment_status_clients_0</th>\n      <th>employment_status_clients_1</th>\n      <th>employment_status_clients_2</th>\n      <th>employment_status_clients_3</th>\n    </tr>\n  </thead>\n  <tbody>\n    <tr>\n      <th>0</th>\n      <td>8a858e135cb22031015cbafc76964ebd</td>\n      <td>1973-10-10</td>\n      <td>-0.181928</td>\n      <td>-0.236603</td>\n      <td>1</td>\n      <td>-0.028878</td>\n      <td>-0.855125</td>\n      <td>0.063461</td>\n      <td>-0.186302</td>\n      <td>1.173964</td>\n      <td>...</td>\n      <td>-0.154604</td>\n      <td>0.766620</td>\n      <td>-0.135906</td>\n      <td>0.285251</td>\n      <td>-0.012637</td>\n      <td>-0.010871</td>\n      <td>0.486133</td>\n      <td>0.341335</td>\n      <td>-1.499897</td>\n      <td>0.908332</td>\n    </tr>\n    <tr>\n      <th>1</th>\n      <td>8a858e275c7ea5ec015c82482d7c3996</td>\n      <td>1986-01-21</td>\n      <td>-0.181040</td>\n      <td>-0.043197</td>\n      <td>0</td>\n      <td>-0.028878</td>\n      <td>-0.855125</td>\n      <td>-0.123493</td>\n      <td>-2.284099</td>\n      <td>-1.671413</td>\n      <td>...</td>\n      <td>0.747014</td>\n      <td>-0.053674</td>\n      <td>-3.044296</td>\n      <td>1.864994</td>\n      <td>0.822281</td>\n      <td>2.384361</td>\n      <td>0.486133</td>\n      <td>0.341335</td>\n      <td>-1.499897</td>\n      <td>0.908332</td>\n    </tr>\n    <tr>\n      <th>2</th>\n      <td>8a858e5b5bd99460015bdc95cd485634</td>\n      <td>1987-04-01</td>\n      <td>0.155890</td>\n      <td>-0.552651</td>\n      <td>1</td>\n      <td>-0.028878</td>\n      <td>-0.855125</td>\n      <td>1.103828</td>\n      <td>0.777442</td>\n      <td>1.248884</td>\n      <td>...</td>\n      <td>-1.158112</td>\n      <td>-0.445147</td>\n      <td>0.017469</td>\n      <td>-0.171524</td>\n      <td>-0.475374</td>\n      <td>-0.648696</td>\n      <td>0.486133</td>\n      <td>0.341335</td>\n      <td>-1.499897</td>\n      <td>0.908332</td>\n    </tr>\n    <tr>\n      <th>3</th>\n      <td>8a858efd5ca70688015cabd1f1e94b55</td>\n      <td>1991-07-19</td>\n      <td>-0.175854</td>\n      <td>-0.199322</td>\n      <td>0</td>\n      <td>-0.028878</td>\n      <td>-0.855125</td>\n      <td>0.063461</td>\n      <td>-0.186302</td>\n      <td>1.173964</td>\n      <td>...</td>\n      <td>-0.154604</td>\n      <td>0.766620</td>\n      <td>-0.135906</td>\n      <td>0.285251</td>\n      <td>-0.012637</td>\n      <td>-0.010871</td>\n      <td>0.486133</td>\n      <td>0.341335</td>\n      <td>-1.499897</td>\n      <td>0.908332</td>\n    </tr>\n    <tr>\n      <th>4</th>\n      <td>8a858e785acd3412015acd48f4920d04</td>\n      <td>1982-11-22</td>\n      <td>0.533009</td>\n      <td>1.545177</td>\n      <td>0</td>\n      <td>-0.028878</td>\n      <td>-0.855125</td>\n      <td>0.063461</td>\n      <td>-0.186302</td>\n      <td>1.173964</td>\n      <td>...</td>\n      <td>-0.154604</td>\n      <td>0.766620</td>\n      <td>-0.135906</td>\n      <td>0.285251</td>\n      <td>-0.012637</td>\n      <td>-0.010871</td>\n      <td>0.486133</td>\n      <td>0.341335</td>\n      <td>-1.499897</td>\n      <td>0.908332</td>\n    </tr>\n  </tbody>\n</table>\n<p>5 rows × 21 columns</p>\n</div>"
     },
     "execution_count": 42,
     "metadata": {},
     "output_type": "execute_result"
    }
   ],
   "source": [
    "dt.head()"
   ],
   "metadata": {
    "collapsed": false,
    "pycharm": {
     "name": "#%%\n"
    }
   }
  },
  {
   "cell_type": "code",
   "execution_count": 16,
   "outputs": [],
   "source": [
    "# from sklearn.base import BaseEstimator, TransformerMixin\n",
    "# import logging\n",
    "#\n",
    "#\n",
    "# class EmbeddingTransformer(BaseEstimator, TransformerMixin):\n",
    "#     def __init__(self, embeddings, emb_cols, emb_sizes):\n",
    "#         self.emb_cols = emb_cols\n",
    "#         self.emb_sizes = emb_sizes\n",
    "#         self.embeddings = embeddings\n",
    "#         self.embeddings.eval()\n",
    "#         self.emb_pack = list(zip(emb_cols, emb_sizes, self.embeddings))\n",
    "#\n",
    "#     def fit(self, data):\n",
    "#         return self\n",
    "#\n",
    "#     def transform(self, data):\n",
    "#         _tmp = data.copy()\n",
    "#         try:\n",
    "#             for values in self.emb_pack:\n",
    "#                 col = values[0]\n",
    "#                 size = values[1]\n",
    "#                 emb = values[2]\n",
    "#                 x = torch.tensor(data[col]).to(\"cuda\")\n",
    "#                 x = emb(x).detach().cpu().numpy()\n",
    "#                 cols = [f\"{col}_{k}\" for k in range(size[1])]\n",
    "#                 _tmp[cols] = x\n",
    "#             _tmp.drop(self.emb_cols, axis=1, inplace=True)\n",
    "#             return _tmp\n",
    "#         except Exception as er:\n",
    "#             logging.error(er)\n",
    "#             raise Exception"
   ],
   "metadata": {
    "collapsed": false,
    "pycharm": {
     "name": "#%%\n"
    }
   }
  },
  {
   "cell_type": "code",
   "execution_count": 17,
   "outputs": [],
   "source": [
    "embedder = EmbeddingTransformer(emb_model=emb_model, emb_cols=emb_cols, emb_sizes=emb_sizes)"
   ],
   "metadata": {
    "collapsed": false,
    "pycharm": {
     "name": "#%%\n"
    }
   }
  },
  {
   "cell_type": "code",
   "execution_count": 18,
   "outputs": [],
   "source": [
    "ret = embedder.transform(emb_data)"
   ],
   "metadata": {
    "collapsed": false,
    "pycharm": {
     "name": "#%%\n"
    }
   }
  },
  {
   "cell_type": "code",
   "execution_count": 19,
   "outputs": [
    {
     "data": {
      "text/plain": "                            customerid  loannumber  loanamount  totaldue  \\\n0     8a2a81a74ce8c05d014cfb32a0da1049    1.868965    1.134202  1.108898   \n1     8a85886e54beabf90154c0a29ae757c0   -0.868398   -0.261346 -0.335566   \n2     8a8588f35438fe12015444567666018e    0.500283    0.203837  0.083119   \n3     8a85890754145ace015429211b513e16   -0.594662   -0.726529 -0.817054   \n4     8a858970548359cc0154883481981866    1.047756    2.064568  1.904400   \n...                                ...         ...         ...       ...   \n3272  8a858e395cb1d4d9015cb2115b1d13d7   -0.868398   -0.726529 -0.817054   \n3273  8a858ee85cf400f5015cf44ab1c42d5c   -0.868398   -0.726529 -0.691449   \n3274  8a858f365b2547f3015b284597147c94   -0.594662   -0.726529 -0.817054   \n3275  8a858f935ca09667015ca0ee3bc63f51   -0.868398   -0.726529 -0.691449   \n3276  8a858fd458639fcc015868eb14b542ad    0.774019    1.134202  1.108898   \n\n      termdays good_bad_flag  longitude_gps  latitude_gps  \\\n0     0.064140             1       3.432010      6.433055   \n1     0.064140             1       3.885298      7.320700   \n2    -1.238939             1      11.139350     10.292041   \n3    -1.238939             1       3.985770      7.491708   \n4     0.064140             1       7.457913      9.076574   \n...        ...           ...            ...           ...   \n3272 -1.238939             0       3.302387      6.568690   \n3273  0.064140             0       4.607358      8.460608   \n3274 -1.238939             0       3.976842      7.409129   \n3275  0.064140             0       3.986089      7.386796   \n3276  0.064140             0       3.725655      6.474430   \n\n      is_missing_emp_status_clients  bank_account_type_0  ...  \\\n0                                 0            27.892809  ...   \n1                                 0           -25.368593  ...   \n2                                 0            27.892809  ...   \n3                                 0           -25.368593  ...   \n4                                 0            27.892809  ...   \n...                             ...                  ...  ...   \n3272                              1           -25.368593  ...   \n3273                              0           -25.368593  ...   \n3274                              0           -25.368593  ...   \n3275                              0           -25.368593  ...   \n3276                              1           -25.368593  ...   \n\n      bank_name_clients_4  bank_name_clients_5  bank_name_clients_6  \\\n0                2.774364             4.418255            -5.592092   \n1                0.441830           -23.708265           -28.025841   \n2              -13.882468            11.136504           -13.716051   \n3               -7.122343           -17.819895           -14.684269   \n4                0.441830           -23.708265           -28.025841   \n...                   ...                  ...                  ...   \n3272             0.441830           -23.708265           -28.025841   \n3273           -25.772148             6.216500            -8.198690   \n3274            -7.122343           -17.819895           -14.684269   \n3275            -7.308434            -2.648848           -13.693339   \n3276             0.441830           -23.708265           -28.025841   \n\n      bank_name_clients_7  bank_name_clients_8  bank_name_clients_9  \\\n0              -25.265388             4.303686           -43.688240   \n1               -3.374521           -12.074009             0.472044   \n2               16.567020            26.086515            20.249350   \n3                6.313603             7.220757             1.461124   \n4               -3.374521           -12.074009             0.472044   \n...                   ...                  ...                  ...   \n3272            -3.374521           -12.074009             0.472044   \n3273            10.204538             3.997843             1.528986   \n3274             6.313603             7.220757             1.461124   \n3275             5.063485            -6.147929            21.873020   \n3276            -3.374521           -12.074009             0.472044   \n\n      employment_status_clients_0  employment_status_clients_1  \\\n0                        2.195666                    -0.519562   \n1                        2.195666                    -0.519562   \n2                        2.195666                    -0.519562   \n3                        2.195666                    -0.519562   \n4                        2.195666                    -0.519562   \n...                           ...                          ...   \n3272                     2.195666                    -0.519562   \n3273                     2.195666                    -0.519562   \n3274                     2.195666                    -0.519562   \n3275                     2.195666                    -0.519562   \n3276                     2.195666                    -0.519562   \n\n      employment_status_clients_2  employment_status_clients_3  \n0                        4.520478                      9.69893  \n1                        4.520478                      9.69893  \n2                        4.520478                      9.69893  \n3                        4.520478                      9.69893  \n4                        4.520478                      9.69893  \n...                           ...                          ...  \n3272                     4.520478                      9.69893  \n3273                     4.520478                      9.69893  \n3274                     4.520478                      9.69893  \n3275                     4.520478                      9.69893  \n3276                     4.520478                      9.69893  \n\n[3277 rows x 25 columns]",
      "text/html": "<div>\n<style scoped>\n    .dataframe tbody tr th:only-of-type {\n        vertical-align: middle;\n    }\n\n    .dataframe tbody tr th {\n        vertical-align: top;\n    }\n\n    .dataframe thead th {\n        text-align: right;\n    }\n</style>\n<table border=\"1\" class=\"dataframe\">\n  <thead>\n    <tr style=\"text-align: right;\">\n      <th></th>\n      <th>customerid</th>\n      <th>loannumber</th>\n      <th>loanamount</th>\n      <th>totaldue</th>\n      <th>termdays</th>\n      <th>good_bad_flag</th>\n      <th>longitude_gps</th>\n      <th>latitude_gps</th>\n      <th>is_missing_emp_status_clients</th>\n      <th>bank_account_type_0</th>\n      <th>...</th>\n      <th>bank_name_clients_4</th>\n      <th>bank_name_clients_5</th>\n      <th>bank_name_clients_6</th>\n      <th>bank_name_clients_7</th>\n      <th>bank_name_clients_8</th>\n      <th>bank_name_clients_9</th>\n      <th>employment_status_clients_0</th>\n      <th>employment_status_clients_1</th>\n      <th>employment_status_clients_2</th>\n      <th>employment_status_clients_3</th>\n    </tr>\n  </thead>\n  <tbody>\n    <tr>\n      <th>0</th>\n      <td>8a2a81a74ce8c05d014cfb32a0da1049</td>\n      <td>1.868965</td>\n      <td>1.134202</td>\n      <td>1.108898</td>\n      <td>0.064140</td>\n      <td>1</td>\n      <td>3.432010</td>\n      <td>6.433055</td>\n      <td>0</td>\n      <td>27.892809</td>\n      <td>...</td>\n      <td>2.774364</td>\n      <td>4.418255</td>\n      <td>-5.592092</td>\n      <td>-25.265388</td>\n      <td>4.303686</td>\n      <td>-43.688240</td>\n      <td>2.195666</td>\n      <td>-0.519562</td>\n      <td>4.520478</td>\n      <td>9.69893</td>\n    </tr>\n    <tr>\n      <th>1</th>\n      <td>8a85886e54beabf90154c0a29ae757c0</td>\n      <td>-0.868398</td>\n      <td>-0.261346</td>\n      <td>-0.335566</td>\n      <td>0.064140</td>\n      <td>1</td>\n      <td>3.885298</td>\n      <td>7.320700</td>\n      <td>0</td>\n      <td>-25.368593</td>\n      <td>...</td>\n      <td>0.441830</td>\n      <td>-23.708265</td>\n      <td>-28.025841</td>\n      <td>-3.374521</td>\n      <td>-12.074009</td>\n      <td>0.472044</td>\n      <td>2.195666</td>\n      <td>-0.519562</td>\n      <td>4.520478</td>\n      <td>9.69893</td>\n    </tr>\n    <tr>\n      <th>2</th>\n      <td>8a8588f35438fe12015444567666018e</td>\n      <td>0.500283</td>\n      <td>0.203837</td>\n      <td>0.083119</td>\n      <td>-1.238939</td>\n      <td>1</td>\n      <td>11.139350</td>\n      <td>10.292041</td>\n      <td>0</td>\n      <td>27.892809</td>\n      <td>...</td>\n      <td>-13.882468</td>\n      <td>11.136504</td>\n      <td>-13.716051</td>\n      <td>16.567020</td>\n      <td>26.086515</td>\n      <td>20.249350</td>\n      <td>2.195666</td>\n      <td>-0.519562</td>\n      <td>4.520478</td>\n      <td>9.69893</td>\n    </tr>\n    <tr>\n      <th>3</th>\n      <td>8a85890754145ace015429211b513e16</td>\n      <td>-0.594662</td>\n      <td>-0.726529</td>\n      <td>-0.817054</td>\n      <td>-1.238939</td>\n      <td>1</td>\n      <td>3.985770</td>\n      <td>7.491708</td>\n      <td>0</td>\n      <td>-25.368593</td>\n      <td>...</td>\n      <td>-7.122343</td>\n      <td>-17.819895</td>\n      <td>-14.684269</td>\n      <td>6.313603</td>\n      <td>7.220757</td>\n      <td>1.461124</td>\n      <td>2.195666</td>\n      <td>-0.519562</td>\n      <td>4.520478</td>\n      <td>9.69893</td>\n    </tr>\n    <tr>\n      <th>4</th>\n      <td>8a858970548359cc0154883481981866</td>\n      <td>1.047756</td>\n      <td>2.064568</td>\n      <td>1.904400</td>\n      <td>0.064140</td>\n      <td>1</td>\n      <td>7.457913</td>\n      <td>9.076574</td>\n      <td>0</td>\n      <td>27.892809</td>\n      <td>...</td>\n      <td>0.441830</td>\n      <td>-23.708265</td>\n      <td>-28.025841</td>\n      <td>-3.374521</td>\n      <td>-12.074009</td>\n      <td>0.472044</td>\n      <td>2.195666</td>\n      <td>-0.519562</td>\n      <td>4.520478</td>\n      <td>9.69893</td>\n    </tr>\n    <tr>\n      <th>...</th>\n      <td>...</td>\n      <td>...</td>\n      <td>...</td>\n      <td>...</td>\n      <td>...</td>\n      <td>...</td>\n      <td>...</td>\n      <td>...</td>\n      <td>...</td>\n      <td>...</td>\n      <td>...</td>\n      <td>...</td>\n      <td>...</td>\n      <td>...</td>\n      <td>...</td>\n      <td>...</td>\n      <td>...</td>\n      <td>...</td>\n      <td>...</td>\n      <td>...</td>\n      <td>...</td>\n    </tr>\n    <tr>\n      <th>3272</th>\n      <td>8a858e395cb1d4d9015cb2115b1d13d7</td>\n      <td>-0.868398</td>\n      <td>-0.726529</td>\n      <td>-0.817054</td>\n      <td>-1.238939</td>\n      <td>0</td>\n      <td>3.302387</td>\n      <td>6.568690</td>\n      <td>1</td>\n      <td>-25.368593</td>\n      <td>...</td>\n      <td>0.441830</td>\n      <td>-23.708265</td>\n      <td>-28.025841</td>\n      <td>-3.374521</td>\n      <td>-12.074009</td>\n      <td>0.472044</td>\n      <td>2.195666</td>\n      <td>-0.519562</td>\n      <td>4.520478</td>\n      <td>9.69893</td>\n    </tr>\n    <tr>\n      <th>3273</th>\n      <td>8a858ee85cf400f5015cf44ab1c42d5c</td>\n      <td>-0.868398</td>\n      <td>-0.726529</td>\n      <td>-0.691449</td>\n      <td>0.064140</td>\n      <td>0</td>\n      <td>4.607358</td>\n      <td>8.460608</td>\n      <td>0</td>\n      <td>-25.368593</td>\n      <td>...</td>\n      <td>-25.772148</td>\n      <td>6.216500</td>\n      <td>-8.198690</td>\n      <td>10.204538</td>\n      <td>3.997843</td>\n      <td>1.528986</td>\n      <td>2.195666</td>\n      <td>-0.519562</td>\n      <td>4.520478</td>\n      <td>9.69893</td>\n    </tr>\n    <tr>\n      <th>3274</th>\n      <td>8a858f365b2547f3015b284597147c94</td>\n      <td>-0.594662</td>\n      <td>-0.726529</td>\n      <td>-0.817054</td>\n      <td>-1.238939</td>\n      <td>0</td>\n      <td>3.976842</td>\n      <td>7.409129</td>\n      <td>0</td>\n      <td>-25.368593</td>\n      <td>...</td>\n      <td>-7.122343</td>\n      <td>-17.819895</td>\n      <td>-14.684269</td>\n      <td>6.313603</td>\n      <td>7.220757</td>\n      <td>1.461124</td>\n      <td>2.195666</td>\n      <td>-0.519562</td>\n      <td>4.520478</td>\n      <td>9.69893</td>\n    </tr>\n    <tr>\n      <th>3275</th>\n      <td>8a858f935ca09667015ca0ee3bc63f51</td>\n      <td>-0.868398</td>\n      <td>-0.726529</td>\n      <td>-0.691449</td>\n      <td>0.064140</td>\n      <td>0</td>\n      <td>3.986089</td>\n      <td>7.386796</td>\n      <td>0</td>\n      <td>-25.368593</td>\n      <td>...</td>\n      <td>-7.308434</td>\n      <td>-2.648848</td>\n      <td>-13.693339</td>\n      <td>5.063485</td>\n      <td>-6.147929</td>\n      <td>21.873020</td>\n      <td>2.195666</td>\n      <td>-0.519562</td>\n      <td>4.520478</td>\n      <td>9.69893</td>\n    </tr>\n    <tr>\n      <th>3276</th>\n      <td>8a858fd458639fcc015868eb14b542ad</td>\n      <td>0.774019</td>\n      <td>1.134202</td>\n      <td>1.108898</td>\n      <td>0.064140</td>\n      <td>0</td>\n      <td>3.725655</td>\n      <td>6.474430</td>\n      <td>1</td>\n      <td>-25.368593</td>\n      <td>...</td>\n      <td>0.441830</td>\n      <td>-23.708265</td>\n      <td>-28.025841</td>\n      <td>-3.374521</td>\n      <td>-12.074009</td>\n      <td>0.472044</td>\n      <td>2.195666</td>\n      <td>-0.519562</td>\n      <td>4.520478</td>\n      <td>9.69893</td>\n    </tr>\n  </tbody>\n</table>\n<p>3277 rows × 25 columns</p>\n</div>"
     },
     "execution_count": 19,
     "metadata": {},
     "output_type": "execute_result"
    }
   ],
   "source": [
    "ret"
   ],
   "metadata": {
    "collapsed": false,
    "pycharm": {
     "name": "#%%\n"
    }
   }
  },
  {
   "cell_type": "code",
   "execution_count": 19,
   "outputs": [],
   "source": [
    "state_dict = checkpoint[\"model_state_dict\"]"
   ],
   "metadata": {
    "collapsed": false,
    "pycharm": {
     "name": "#%%\n"
    }
   }
  },
  {
   "cell_type": "code",
   "execution_count": 20,
   "outputs": [
    {
     "data": {
      "text/plain": "OrderedDict([('bn.weight',\n              tensor([-4.4548e-02,  2.5088e+01,  4.6167e+01,  1.9598e+01, -1.5028e+01,\n                       1.1205e+01, -2.9825e+01], device='cuda:0')),\n             ('bn.bias',\n              tensor([-25.2880, -11.6749, -13.5787,   1.6714,   6.3005,  16.7335,  -7.2175],\n                     device='cuda:0')),\n             ('bn.running_mean',\n              tensor([-0.1031, -0.0611, -0.0677, -0.0654,  4.7772,  7.1800,  0.1439],\n                     device='cuda:0')),\n             ('bn.running_var',\n              tensor([ 0.9112,  0.9286,  0.9397,  1.0415, 15.5361,  4.0063,  0.1224],\n                     device='cuda:0')),\n             ('bn.num_batches_tracked', tensor(48900, device='cuda:0')),\n             ('embedding_layers.0.weight',\n              tensor([[ 20.5296, -16.9275],\n                      [ 24.7871, -41.5863],\n                      [-26.2793,  23.9262],\n                      [ -0.0490,  -0.6597]], device='cuda:0')),\n             ('embedding_layers.1.weight',\n              tensor([[-1.2380e+00,  8.6903e+00, -3.9236e+00,  1.6610e+01,  4.9417e+00,\n                        7.4873e+00, -4.1748e+00,  6.8171e+00,  5.0935e+00,  2.1119e+01],\n                      [ 4.3301e+01, -1.1582e+01,  1.6790e+01, -2.0542e+01,  6.0422e+00,\n                        6.6134e+00,  2.2199e+00, -2.7220e+01,  3.5891e-01, -4.9169e+01],\n                      [-9.3028e+00, -1.1724e+01, -2.3754e+01, -3.0789e+00, -3.7140e+00,\n                        4.4749e+00, -1.4439e+01,  1.0870e+01,  2.3379e+01,  1.3612e+01],\n                      [ 2.6528e+01,  1.6389e+01, -2.9927e+00, -5.9098e+00, -1.9015e+01,\n                       -3.7117e+00, -9.6446e+00,  6.8179e+00, -3.2501e+00, -2.8168e+00],\n                      [-4.1283e+00, -1.5941e+01, -2.9777e+01,  1.4638e+01, -6.5754e+00,\n                        1.7191e+01,  2.5188e+01,  1.6382e+01,  1.8672e+01,  2.6781e-01],\n                      [-7.4782e+00,  1.9010e+00, -3.7843e+00,  2.1593e+01, -7.4543e+00,\n                       -1.5447e+01, -1.4142e+01,  8.0673e+00,  1.4185e+01,  1.4939e+00],\n                      [-3.5273e+01,  1.1428e+01, -6.8046e+00,  1.2529e+01, -4.8684e-01,\n                       -2.4525e+01, -2.8327e+01, -2.5319e+00, -1.1787e+01,  2.4852e+00],\n                      [-2.0733e+01,  2.0083e+01,  9.2586e+00,  2.9144e+01,  1.3606e+01,\n                       -1.3434e+01, -1.5272e+01, -1.5237e+01,  5.6291e+00, -8.8611e+00],\n                      [ 4.7774e+01,  7.6953e+00,  1.4780e+01, -3.1389e+00,  4.3257e+00,\n                        1.9330e+00,  1.3900e+01, -1.6510e+00, -3.0610e+00, -1.8953e+01],\n                      [ 9.1859e+00, -1.2969e+01, -6.9199e+00,  3.2069e+01, -4.5057e+00,\n                        2.3421e+00, -9.8012e+00,  1.6263e+00, -4.0266e+00,  1.9586e+01],\n                      [ 3.6490e+01,  1.8401e+01,  8.8267e+00, -1.7095e+01,  5.5856e+00,\n                        1.5679e+01,  3.0372e+01, -2.4015e+01, -1.6495e+01, -2.1649e+01],\n                      [ 1.0904e+01,  8.1119e+00,  3.0710e+01, -3.9466e+01,  3.7645e+01,\n                        1.7041e+01, -1.2895e+01, -3.3947e+01,  4.3234e+01, -3.0853e+01],\n                      [-3.2754e+01, -2.0304e+01, -2.4922e+01,  9.4850e+00, -2.7472e+00,\n                       -8.4021e+00, -3.4698e+00,  7.1762e+00,  2.4602e+01,  1.7108e+01],\n                      [-2.9286e+01,  1.3832e+01,  1.0233e+01,  1.9713e+01, -2.2112e+01,\n                       -8.5684e+00,  7.7334e+00,  1.1810e+01, -1.0183e+01, -2.5971e+00],\n                      [-2.2918e+01, -4.9398e+01,  1.6462e+01, -9.2128e+00, -2.1528e+01,\n                        6.6850e+00,  5.1549e+00,  1.2423e+00,  3.0177e+01,  1.7090e+01],\n                      [-7.6608e+00,  2.0290e+01,  5.3016e+00,  1.1184e+01,  1.4191e+01,\n                       -4.9117e+00, -9.6003e+00, -2.4605e+01,  6.3008e+00, -4.1990e+01],\n                      [ 4.3262e+01,  2.1973e+01,  3.2729e+00, -5.0112e-01,  2.0465e+00,\n                        5.0014e+01,  1.0972e+01,  2.9116e+00,  1.2419e+01, -7.4403e+00],\n                      [-6.1231e+00, -5.5668e-02, -3.2357e+00,  3.9193e+01,  9.0348e-01,\n                       -2.0669e+01, -1.1494e-01,  9.1939e+00,  4.4852e-01, -5.9836e-01],\n                      [-1.4329e-01, -9.1863e-02, -1.5991e-02, -2.1865e-01, -2.0352e-01,\n                        4.3638e-01,  4.3495e-01, -1.1216e-01, -1.2276e-01,  2.9223e-01]],\n                     device='cuda:0')),\n             ('embedding_layers.2.weight',\n              tensor([[-27.2307,  17.4947,   8.2081, -16.6656],\n                      [ -8.2157,   4.2386,   4.8737,   9.0573],\n                      [ 18.4645,   3.6339, -34.7212,   9.3642],\n                      [ -0.8177,  -5.6412,  -8.8588,  -9.1197],\n                      [  2.3173,  14.2994,  19.8041,  15.8300],\n                      [-12.1205,   1.9621,  -0.2337,   4.7829],\n                      [  0.2448,   0.1644,  -0.7205,   0.7056]], device='cuda:0')),\n             ('linears.0.weight',\n              tensor([[ 2.7537e+01, -2.2082e+01, -9.4178e+00, -9.1986e+00,  1.5366e+01,\n                       -3.2198e+00, -4.7861e+00, -1.5762e+01, -2.4037e+00, -1.1404e+01,\n                       -1.5082e+01, -3.0723e+00,  1.4494e+00, -8.8574e+00, -1.4045e+01,\n                       -3.9115e+00,  1.8539e+01,  3.3872e+01,  4.1522e+01,  1.0454e+01,\n                        1.2518e+01, -2.6797e+01,  1.8429e+00],\n                      [ 4.0531e+01, -4.3509e+00,  4.4109e+01,  5.1619e+00,  1.8271e+01,\n                       -5.1082e+01,  1.0067e+00,  1.3319e+01, -8.8159e+00, -2.0059e+01,\n                        1.9211e+01, -1.1037e+01, -1.0582e+01, -1.0039e+01, -2.6676e+01,\n                       -1.8109e+01,  6.7766e-01,  2.2065e+01,  3.3777e+01, -1.2646e+01,\n                        1.5894e+00,  1.2452e+01, -4.6216e+00],\n                      [ 4.4021e+01, -1.6941e+01,  1.7534e+01, -1.7008e+01, -7.6802e-01,\n                       -1.7729e+01, -1.8006e+01,  1.0174e+01,  1.6692e+00, -1.7552e+01,\n                       -1.3973e+01,  1.3760e+01,  1.1207e+01,  1.3446e+00,  1.4936e+01,\n                       -1.2781e+01, -6.6397e+00,  2.4072e+01,  3.5082e+01,  3.5851e+01,\n                       -1.6286e+01,  9.3310e+00,  4.4276e+00],\n                      [-1.9707e+01,  9.7371e+00, -1.0178e+01, -1.6663e+01, -1.6131e+01,\n                        3.4908e+00, -1.1220e+01,  1.2050e+01, -2.9613e+00,  1.1374e+01,\n                        1.4728e+01,  1.9549e+01, -1.1901e+01, -2.7435e-01, -6.0364e+00,\n                       -4.2693e-03, -2.4093e+01, -2.5949e+01, -4.9604e+01,  1.0175e+01,\n                       -2.6736e+01,  3.7062e+01, -4.7713e+01],\n                      [ 5.2283e+00, -5.7628e+01,  7.6822e-01,  5.0566e+00,  5.3715e+00,\n                        8.9571e+00,  8.8972e-01,  2.0968e+00, -4.6662e+00, -6.5960e+00,\n                        1.2272e+01,  8.1730e+00,  2.3158e+00,  2.1044e+01, -2.4432e+01,\n                       -2.8760e+01,  8.3185e+00,  1.6465e+00,  9.3257e+00,  1.2970e+01,\n                       -5.9463e+00, -2.8132e+01,  2.6892e+01],\n                      [ 3.4129e+00, -3.4036e+01,  2.0432e+00,  1.0016e+01, -3.2252e+00,\n                        1.1596e+01,  1.0264e+00, -1.8272e+01, -2.6345e+01,  1.8312e+00,\n                       -1.3643e+01,  7.9349e+00, -7.2667e-01, -7.1708e+00, -2.9132e+00,\n                        4.2406e+00, -2.8972e-01, -3.7189e+00, -6.7277e+00, -6.3514e+00,\n                        1.3515e+01, -3.1831e+00,  2.4834e+01],\n                      [ 1.8401e+01,  2.0288e+00,  3.7680e+01, -1.1043e+01,  1.5600e+01,\n                       -1.5848e+01,  2.1435e+00,  1.6409e+01,  2.0784e+01, -1.8630e+00,\n                       -3.9699e+00, -3.8177e+01, -6.1696e+00, -1.0800e+01,  4.8083e+00,\n                       -1.2978e+01,  2.9429e+01,  1.3793e+01,  2.1293e+01,  4.4551e+00,\n                       -1.4601e+01, -2.3185e+01,  6.8961e+00],\n                      [ 4.5642e+01, -2.1666e+01,  8.3534e+00, -7.6780e+00,  9.3366e+00,\n                       -3.8118e+00,  2.9277e+00, -1.6655e+01,  2.1593e+00, -1.5100e+00,\n                        4.3907e+00, -2.2090e+01, -1.6157e+01, -1.3269e-01, -1.2079e+01,\n                       -9.2145e+00,  6.7825e+00,  5.4052e+00,  2.3941e+01,  7.3164e-01,\n                        4.4609e+00, -4.4572e-01,  1.5968e+01],\n                      [ 1.7124e+01, -2.9763e+01, -3.2989e+01,  1.7038e+01, -5.2652e+00,\n                        6.2923e+00,  1.1068e+01,  1.7983e+01, -3.6871e+01, -1.5971e+01,\n                       -1.0977e+01, -7.4617e+00, -1.3897e-01, -4.3489e+00, -1.4078e+01,\n                        1.4573e+01,  9.8059e+00,  1.7266e+01,  7.3320e+00, -2.0886e+01,\n                        1.3132e+00,  5.8348e+00,  4.5001e+01],\n                      [ 4.4737e+01, -1.1792e+01, -2.6598e+01,  2.8445e+01,  1.7627e+01,\n                        2.1047e+01,  8.2382e+00, -2.6429e+01, -2.0557e+01, -2.3690e+00,\n                       -1.2152e+01,  5.3507e+00,  8.7977e+00, -5.7838e+00, -1.5305e+01,\n                       -1.1554e+01,  1.9079e+00,  1.2227e+01,  1.7185e+01, -5.1954e+00,\n                       -2.0586e+01, -2.3641e+01,  1.8903e+01],\n                      [-6.5840e+00, -3.2922e+01, -8.9629e+00,  2.2003e+00,  1.7822e+01,\n                       -1.4011e+01, -8.8162e-01, -2.2956e+01, -1.2828e+01,  2.3186e-01,\n                        6.1783e+00, -1.1745e+01,  4.2263e+01, -8.9376e+00, -2.1480e+01,\n                       -8.5625e+00,  1.7250e+01,  2.2603e+01,  2.4997e+01,  6.6013e+00,\n                        7.2521e+00, -3.3795e+00,  1.0623e+01],\n                      [ 2.8549e+01, -1.9537e+01, -4.3406e+00, -9.5863e-01,  4.0763e-01,\n                       -3.7596e+01,  1.2856e+00,  2.1867e+01,  1.0169e+01,  1.4419e+01,\n                       -1.5286e+01,  1.2678e+01, -3.6830e+00,  9.2894e-01,  7.2505e+00,\n                        2.4701e+00,  4.5679e+00,  9.7864e+00,  3.0968e+01,  1.3927e+01,\n                        6.4194e+00, -7.0708e+00,  1.9706e+01]], device='cuda:0')),\n             ('linears.0.bias',\n              tensor([-10.5595,  -3.4812,  12.6718,   9.9471,  -0.4517,   6.4506, -12.8076,\n                        0.8243,   3.3508,  -3.6241,   2.3909,  -3.5256], device='cuda:0')),\n             ('linears.2.weight',\n              tensor([-7.1054e-06, -2.6547e-01, -4.8758e-06, -8.7097e-01, -3.2189e-03,\n                       4.1064e-02, -4.4778e-01,  8.2540e-03,  4.6094e-01, -1.7209e-04,\n                       8.1036e-02,  1.5893e-04], device='cuda:0')),\n             ('linears.2.bias',\n              tensor([-1.4985e-07, -6.2491e-03, -1.7353e-07,  2.8573e-02, -2.6759e-03,\n                       1.2715e-03,  2.6657e-02,  2.9637e-03,  6.1104e-02, -3.7537e-04,\n                      -1.1983e-02, -1.6805e-05], device='cuda:0')),\n             ('linears.2.running_mean',\n              tensor([ 845.8611,  641.3494,  924.7599, 3607.4521,  576.8167,  893.1678,\n                       278.8098,  660.7328,  893.3882,  868.3848,  640.9964,  597.4106],\n                     device='cuda:0')),\n             ('linears.2.running_var',\n              tensor([4477864.5000, 2390030.0000, 4474656.5000, 9116277.0000, 2224062.7500,\n                      1619108.1250, 1012194.8750, 2262805.7500, 2801575.7500, 3116621.5000,\n                      2192594.0000, 2145561.0000], device='cuda:0')),\n             ('linears.2.num_batches_tracked', tensor(48900, device='cuda:0')),\n             ('linears.3.weight',\n              tensor([[ 6.3206e-06, -1.6288e-01,  4.6727e-06,  3.9665e-01, -1.3500e-03,\n                        2.9316e-02, -1.9640e-01,  4.8088e-03,  2.5602e-01,  6.5789e-05,\n                       -4.9579e-02, -9.3046e-05]], device='cuda:0')),\n             ('linears.3.bias', tensor([0.0364], device='cuda:0'))])"
     },
     "execution_count": 20,
     "metadata": {},
     "output_type": "execute_result"
    }
   ],
   "source": [
    "def map_embedding(data, emb_cols, emb_size, embedding_pretrained):\n"
   ],
   "metadata": {
    "collapsed": false,
    "pycharm": {
     "name": "#%%\n"
    }
   }
  },
  {
   "cell_type": "code",
   "execution_count": 48,
   "outputs": [],
   "source": [],
   "metadata": {
    "collapsed": false,
    "pycharm": {
     "name": "#%%\n"
    }
   }
  },
  {
   "cell_type": "code",
   "execution_count": 49,
   "outputs": [
    {
     "data": {
      "text/plain": "                         customerid  loannumber        approveddate  \\\n0  8a2a81a74ce8c05d014cfb32a0da1049    1.868965 2017-07-25 08:22:56   \n1  8a85886e54beabf90154c0a29ae757c0   -0.868398 2017-07-05 17:04:41   \n2  8a8588f35438fe12015444567666018e    0.500283 2017-07-06 14:52:57   \n3  8a85890754145ace015429211b513e16   -0.594662 2017-07-27 19:00:41   \n4  8a858970548359cc0154883481981866    1.047756 2017-07-03 23:42:45   \n\n   loanamount  totaldue  termdays good_bad_flag  \n0    1.134202  1.108898  0.064140             1  \n1   -0.261346 -0.335566  0.064140             1  \n2    0.203837  0.083119 -1.238939             1  \n3   -0.726529 -0.817054 -1.238939             1  \n4    2.064568  1.904400  0.064140             1  ",
      "text/html": "<div>\n<style scoped>\n    .dataframe tbody tr th:only-of-type {\n        vertical-align: middle;\n    }\n\n    .dataframe tbody tr th {\n        vertical-align: top;\n    }\n\n    .dataframe thead th {\n        text-align: right;\n    }\n</style>\n<table border=\"1\" class=\"dataframe\">\n  <thead>\n    <tr style=\"text-align: right;\">\n      <th></th>\n      <th>customerid</th>\n      <th>loannumber</th>\n      <th>approveddate</th>\n      <th>loanamount</th>\n      <th>totaldue</th>\n      <th>termdays</th>\n      <th>good_bad_flag</th>\n    </tr>\n  </thead>\n  <tbody>\n    <tr>\n      <th>0</th>\n      <td>8a2a81a74ce8c05d014cfb32a0da1049</td>\n      <td>1.868965</td>\n      <td>2017-07-25 08:22:56</td>\n      <td>1.134202</td>\n      <td>1.108898</td>\n      <td>0.064140</td>\n      <td>1</td>\n    </tr>\n    <tr>\n      <th>1</th>\n      <td>8a85886e54beabf90154c0a29ae757c0</td>\n      <td>-0.868398</td>\n      <td>2017-07-05 17:04:41</td>\n      <td>-0.261346</td>\n      <td>-0.335566</td>\n      <td>0.064140</td>\n      <td>1</td>\n    </tr>\n    <tr>\n      <th>2</th>\n      <td>8a8588f35438fe12015444567666018e</td>\n      <td>0.500283</td>\n      <td>2017-07-06 14:52:57</td>\n      <td>0.203837</td>\n      <td>0.083119</td>\n      <td>-1.238939</td>\n      <td>1</td>\n    </tr>\n    <tr>\n      <th>3</th>\n      <td>8a85890754145ace015429211b513e16</td>\n      <td>-0.594662</td>\n      <td>2017-07-27 19:00:41</td>\n      <td>-0.726529</td>\n      <td>-0.817054</td>\n      <td>-1.238939</td>\n      <td>1</td>\n    </tr>\n    <tr>\n      <th>4</th>\n      <td>8a858970548359cc0154883481981866</td>\n      <td>1.047756</td>\n      <td>2017-07-03 23:42:45</td>\n      <td>2.064568</td>\n      <td>1.904400</td>\n      <td>0.064140</td>\n      <td>1</td>\n    </tr>\n  </tbody>\n</table>\n</div>"
     },
     "execution_count": 49,
     "metadata": {},
     "output_type": "execute_result"
    }
   ],
   "source": [
    "de.head()"
   ],
   "metadata": {
    "collapsed": false,
    "pycharm": {
     "name": "#%%\n"
    }
   }
  },
  {
   "cell_type": "code",
   "execution_count": 38,
   "outputs": [
    {
     "data": {
      "text/plain": "['Good', 'Bad']\nCategories (2, object): ['Bad', 'Good']"
     },
     "execution_count": 38,
     "metadata": {},
     "output_type": "execute_result"
    }
   ],
   "source": [
    "train_perf.good_bad_flag.unique()"
   ],
   "metadata": {
    "collapsed": false,
    "pycharm": {
     "name": "#%%\n"
    }
   }
  },
  {
   "cell_type": "code",
   "execution_count": 193,
   "outputs": [],
   "source": [
    "\n",
    "\n",
    "generator = generate_graph(\n",
    "    perf=train_perf,\n",
    "    prev_loan=train_prevloans,\n",
    "    dg=train_dg\n",
    ")"
   ],
   "metadata": {
    "collapsed": false,
    "pycharm": {
     "name": "#%%\n"
    }
   }
  },
  {
   "cell_type": "code",
   "execution_count": 40,
   "outputs": [
    {
     "data": {
      "text/plain": "{'user_id': '8a85886e54beabf90154c0a29ae757c0',\n 'graph_label': 'Good',\n 'node_type_loans': [[2.0, 15000.0, 17250.0, 30.0, 31.868447909671378]],\n 'node_type_prevloans': [],\n 'node_type_dg': [['Savings', 3.885298, 7.3207003, 'GT Bank', 'Permanent', 0]]}"
     },
     "execution_count": 40,
     "metadata": {},
     "output_type": "execute_result"
    }
   ],
   "source": [
    "next(generator)"
   ],
   "metadata": {
    "collapsed": false,
    "pycharm": {
     "name": "#%%\n"
    }
   }
  },
  {
   "cell_type": "code",
   "execution_count": 35,
   "outputs": [
    {
     "name": "stdout",
     "output_type": "stream",
     "text": [
      "Graph(num_nodes={'loan': 1, 'prev_loans': 6},\n",
      "      num_edges={('loan', 'has', 'prev_loans'): 2},\n",
      "      metagraph=[('loan', 'prev_loans', 'has')])\n"
     ]
    }
   ],
   "source": [
    "rating = dgl.heterograph({\n",
    "    (\"loan\", \"has\", \"prev_loans\"): (np.array([0, 0]), np.array([5, 5]))\n",
    "})\n",
    "print(rating)"
   ],
   "metadata": {
    "collapsed": false,
    "pycharm": {
     "name": "#%%\n"
    }
   }
  },
  {
   "cell_type": "code",
   "execution_count": 36,
   "outputs": [
    {
     "data": {
      "text/plain": "NodeSpace(data={})"
     },
     "execution_count": 36,
     "metadata": {},
     "output_type": "execute_result"
    }
   ],
   "source": [
    "rating.nodes['loan'].data"
   ],
   "metadata": {
    "collapsed": false,
    "pycharm": {
     "name": "#%%\n"
    }
   }
  },
  {
   "cell_type": "code",
   "execution_count": 39,
   "outputs": [
    {
     "data": {
      "text/plain": "tensor([[1.],\n        [1.],\n        [1.]])"
     },
     "execution_count": 39,
     "metadata": {},
     "output_type": "execute_result"
    }
   ],
   "source": [
    "import torch\n",
    "\n",
    "torch.ones(3, 1)"
   ],
   "metadata": {
    "collapsed": false,
    "pycharm": {
     "name": "#%%\n"
    }
   }
  },
  {
   "cell_type": "code",
   "execution_count": null,
   "outputs": [],
   "source": [],
   "metadata": {
    "collapsed": false,
    "pycharm": {
     "name": "#%%\n"
    }
   }
  }
 ],
 "metadata": {
  "kernelspec": {
   "display_name": "Python 3",
   "language": "python",
   "name": "python3"
  },
  "language_info": {
   "codemirror_mode": {
    "name": "ipython",
    "version": 2
   },
   "file_extension": ".py",
   "mimetype": "text/x-python",
   "name": "python",
   "nbconvert_exporter": "python",
   "pygments_lexer": "ipython2",
   "version": "2.7.6"
  }
 },
 "nbformat": 4,
 "nbformat_minor": 0
}
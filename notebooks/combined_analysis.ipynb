{
 "cells": [
  {
   "cell_type": "code",
   "execution_count": 222,
   "outputs": [
    {
     "name": "stderr",
     "output_type": "stream",
     "text": [
      "UsageError: Line magic function `%` not found.\n"
     ]
    }
   ],
   "source": [
    "% load_ext autoreload\n",
    "% autoreload 2"
   ],
   "metadata": {
    "collapsed": false,
    "pycharm": {
     "name": "#%%\n"
    }
   }
  },
  {
   "cell_type": "code",
   "execution_count": 234,
   "metadata": {
    "collapsed": true
   },
   "outputs": [],
   "source": [
    "import dgl\n",
    "import numpy as np\n",
    "import pandas as pd\n",
    "import torch\n",
    "import torch.nn as nn\n",
    "from sklearn.model_selection import train_test_split\n",
    "from torch import optim\n",
    "from torch.optim import lr_scheduler\n",
    "from torch.utils.data import DataLoader, RandomSampler\n",
    "from torch.utils.data import SequentialSampler\n",
    "\n",
    "from src.loan_pred.config import config\n",
    "from src.loan_pred.models.models import CategoricalEmbeddingModel\n",
    "from src.loan_pred.preprocessing.embedding import CategoricalEmbeddingSizes, CreateTensorDataset\n",
    "from src.loan_pred.preprocessing.preprocess import (\n",
    "    MultiLabelEncoder, TargetEncoder, convert_dtype, CustomScalerPerf, generate_graph\n",
    ")\n",
    "from src.loan_pred.train.engine import engine"
   ]
  },
  {
   "cell_type": "code",
   "execution_count": 143,
   "outputs": [
    {
     "data": {
      "text/plain": "                         customerid  loannumber  loanamount  totaldue  \\\n0  8a2a81a74ce8c05d014cfb32a0da1049   -0.673771   -0.697536 -0.628776   \n1  8a2a81a74ce8c05d014cfb32a0da1049    1.480472   -0.697536 -0.628776   \n2  8a2a81a74ce8c05d014cfb32a0da1049    1.172723    0.375392  0.404325   \n3  8a8588f35438fe12015444567666018e    0.249476   -0.697536 -0.772263   \n4  8a85890754145ace015429211b513e16   -0.673771   -0.697536 -0.772263   \n\n   termdays  closeddate_days  firstduedate_days  firstrepaiddate_days  \n0  0.302132        -0.556943           0.618378             -0.543251  \n1  0.302132         0.424067           0.897378              0.365004  \n2  0.302132         2.159701           0.618378              2.429218  \n3 -1.068200        -0.707868          -1.474120             -0.708388  \n4 -1.068200         0.273143          -1.334620              0.365004  ",
      "text/html": "<div>\n<style scoped>\n    .dataframe tbody tr th:only-of-type {\n        vertical-align: middle;\n    }\n\n    .dataframe tbody tr th {\n        vertical-align: top;\n    }\n\n    .dataframe thead th {\n        text-align: right;\n    }\n</style>\n<table border=\"1\" class=\"dataframe\">\n  <thead>\n    <tr style=\"text-align: right;\">\n      <th></th>\n      <th>customerid</th>\n      <th>loannumber</th>\n      <th>loanamount</th>\n      <th>totaldue</th>\n      <th>termdays</th>\n      <th>closeddate_days</th>\n      <th>firstduedate_days</th>\n      <th>firstrepaiddate_days</th>\n    </tr>\n  </thead>\n  <tbody>\n    <tr>\n      <th>0</th>\n      <td>8a2a81a74ce8c05d014cfb32a0da1049</td>\n      <td>-0.673771</td>\n      <td>-0.697536</td>\n      <td>-0.628776</td>\n      <td>0.302132</td>\n      <td>-0.556943</td>\n      <td>0.618378</td>\n      <td>-0.543251</td>\n    </tr>\n    <tr>\n      <th>1</th>\n      <td>8a2a81a74ce8c05d014cfb32a0da1049</td>\n      <td>1.480472</td>\n      <td>-0.697536</td>\n      <td>-0.628776</td>\n      <td>0.302132</td>\n      <td>0.424067</td>\n      <td>0.897378</td>\n      <td>0.365004</td>\n    </tr>\n    <tr>\n      <th>2</th>\n      <td>8a2a81a74ce8c05d014cfb32a0da1049</td>\n      <td>1.172723</td>\n      <td>0.375392</td>\n      <td>0.404325</td>\n      <td>0.302132</td>\n      <td>2.159701</td>\n      <td>0.618378</td>\n      <td>2.429218</td>\n    </tr>\n    <tr>\n      <th>3</th>\n      <td>8a8588f35438fe12015444567666018e</td>\n      <td>0.249476</td>\n      <td>-0.697536</td>\n      <td>-0.772263</td>\n      <td>-1.068200</td>\n      <td>-0.707868</td>\n      <td>-1.474120</td>\n      <td>-0.708388</td>\n    </tr>\n    <tr>\n      <th>4</th>\n      <td>8a85890754145ace015429211b513e16</td>\n      <td>-0.673771</td>\n      <td>-0.697536</td>\n      <td>-0.772263</td>\n      <td>-1.068200</td>\n      <td>0.273143</td>\n      <td>-1.334620</td>\n      <td>0.365004</td>\n    </tr>\n  </tbody>\n</table>\n</div>"
     },
     "execution_count": 143,
     "metadata": {},
     "output_type": "execute_result"
    }
   ],
   "source": [
    "train_prevloans = pd.read_csv(\"../data/preprocessed/train/train_prevloans.csv\")\n",
    "cols_dtypes = {\n",
    "    \"customerid\": \"category\",\n",
    "    \"loannumber\": \"int\",\n",
    "    \"loanamount\": \"float\",\n",
    "    \"totaldue\": \"float\",\n",
    "    \"termdays\": \"int\",\n",
    "    \"closeddate_days\": \"int\",\n",
    "    \"firstduedate_days\": \"int\",\n",
    "    \"firstrepaiddate_days\": \"int\",\n",
    "}\n",
    "train_prevloans = convert_dtype(data=train_prevloans, columns_type=cols_dtypes)\n",
    "\n",
    "prevloan_scaler = CustomScalerPerf(\n",
    "    cols=['loannumber', 'loanamount', 'totaldue', 'termdays', 'closeddate_days', 'firstduedate_days',\n",
    "          'firstrepaiddate_days']\n",
    ")\n",
    "train_prevloans = prevloan_scaler.fit_transform(train_prevloans)\n",
    "\n",
    "train_prevloans.head()"
   ],
   "metadata": {
    "collapsed": false,
    "pycharm": {
     "name": "#%%\n"
    }
   }
  },
  {
   "cell_type": "code",
   "execution_count": 144,
   "outputs": [
    {
     "data": {
      "text/plain": "                         customerid  birthdate  bank_account_type  \\\n0  8a858e135cb22031015cbafc76964ebd 1973-10-10                  2   \n1  8a858e275c7ea5ec015c82482d7c3996 1986-01-21                  2   \n2  8a858e5b5bd99460015bdc95cd485634 1987-04-01                  2   \n3  8a858efd5ca70688015cabd1f1e94b55 1991-07-19                  2   \n4  8a858e785acd3412015acd48f4920d04 1982-11-22                  2   \n\n   longitude_gps  latitude_gps  bank_name_clients  employment_status_clients  \\\n0       3.319219      6.528604                  6                          1   \n1       3.325598      7.119403                 12                          1   \n2       5.746100      5.563174                  4                          1   \n3       3.362850      6.642485                  6                          1   \n4       8.455332     11.971410                  6                          1   \n\n   is_missing_emp_status_clients  \n0                              1  \n1                              0  \n2                              1  \n3                              0  \n4                              0  ",
      "text/html": "<div>\n<style scoped>\n    .dataframe tbody tr th:only-of-type {\n        vertical-align: middle;\n    }\n\n    .dataframe tbody tr th {\n        vertical-align: top;\n    }\n\n    .dataframe thead th {\n        text-align: right;\n    }\n</style>\n<table border=\"1\" class=\"dataframe\">\n  <thead>\n    <tr style=\"text-align: right;\">\n      <th></th>\n      <th>customerid</th>\n      <th>birthdate</th>\n      <th>bank_account_type</th>\n      <th>longitude_gps</th>\n      <th>latitude_gps</th>\n      <th>bank_name_clients</th>\n      <th>employment_status_clients</th>\n      <th>is_missing_emp_status_clients</th>\n    </tr>\n  </thead>\n  <tbody>\n    <tr>\n      <th>0</th>\n      <td>8a858e135cb22031015cbafc76964ebd</td>\n      <td>1973-10-10</td>\n      <td>2</td>\n      <td>3.319219</td>\n      <td>6.528604</td>\n      <td>6</td>\n      <td>1</td>\n      <td>1</td>\n    </tr>\n    <tr>\n      <th>1</th>\n      <td>8a858e275c7ea5ec015c82482d7c3996</td>\n      <td>1986-01-21</td>\n      <td>2</td>\n      <td>3.325598</td>\n      <td>7.119403</td>\n      <td>12</td>\n      <td>1</td>\n      <td>0</td>\n    </tr>\n    <tr>\n      <th>2</th>\n      <td>8a858e5b5bd99460015bdc95cd485634</td>\n      <td>1987-04-01</td>\n      <td>2</td>\n      <td>5.746100</td>\n      <td>5.563174</td>\n      <td>4</td>\n      <td>1</td>\n      <td>1</td>\n    </tr>\n    <tr>\n      <th>3</th>\n      <td>8a858efd5ca70688015cabd1f1e94b55</td>\n      <td>1991-07-19</td>\n      <td>2</td>\n      <td>3.362850</td>\n      <td>6.642485</td>\n      <td>6</td>\n      <td>1</td>\n      <td>0</td>\n    </tr>\n    <tr>\n      <th>4</th>\n      <td>8a858e785acd3412015acd48f4920d04</td>\n      <td>1982-11-22</td>\n      <td>2</td>\n      <td>8.455332</td>\n      <td>11.971410</td>\n      <td>6</td>\n      <td>1</td>\n      <td>0</td>\n    </tr>\n  </tbody>\n</table>\n</div>"
     },
     "execution_count": 144,
     "metadata": {},
     "output_type": "execute_result"
    }
   ],
   "source": [
    "train_dg = pd.read_csv(\"../data/preprocessed/train/train_dg.csv\")\n",
    "\n",
    "# Convert columns types\n",
    "cols_dtypes = {\n",
    "    \"customerid\": \"category\",\n",
    "    \"birthdate\": \"datetime\",\n",
    "    \"bank_account_type\": \"category\",\n",
    "    \"longitude_gps\": \"float\",\n",
    "    \"latitude_gps\": \"float\",\n",
    "    \"bank_name_clients\": \"category\",\n",
    "    \"employment_status_clients\": \"category\",\n",
    "    \"is_missing_emp_status_clients\": \"int\"\n",
    "}\n",
    "train_dg = convert_dtype(data=train_dg, columns_type=cols_dtypes)\n",
    "\n",
    "# Label encoding\n",
    "dg_enc = MultiLabelEncoder(cols=[\"bank_account_type\", \"bank_name_clients\", \"employment_status_clients\"])\n",
    "train_dg = dg_enc.fit_transform(train_dg)\n",
    "\n",
    "train_dg.head()"
   ],
   "metadata": {
    "collapsed": false,
    "pycharm": {
     "name": "#%%\n"
    }
   }
  },
  {
   "cell_type": "code",
   "execution_count": 145,
   "outputs": [
    {
     "data": {
      "text/plain": "                         customerid  loannumber        approveddate  \\\n0  8a2a81a74ce8c05d014cfb32a0da1049    1.868965 2017-07-25 08:22:56   \n1  8a85886e54beabf90154c0a29ae757c0   -0.868398 2017-07-05 17:04:41   \n2  8a8588f35438fe12015444567666018e    0.500283 2017-07-06 14:52:57   \n3  8a85890754145ace015429211b513e16   -0.594662 2017-07-27 19:00:41   \n4  8a858970548359cc0154883481981866    1.047756 2017-07-03 23:42:45   \n\n   loanamount  totaldue  termdays good_bad_flag  \n0    1.134202  1.108898  0.064140             1  \n1   -0.261346 -0.335566  0.064140             1  \n2    0.203837  0.083119 -1.238939             1  \n3   -0.726529 -0.817054 -1.238939             1  \n4    2.064568  1.904400  0.064140             1  ",
      "text/html": "<div>\n<style scoped>\n    .dataframe tbody tr th:only-of-type {\n        vertical-align: middle;\n    }\n\n    .dataframe tbody tr th {\n        vertical-align: top;\n    }\n\n    .dataframe thead th {\n        text-align: right;\n    }\n</style>\n<table border=\"1\" class=\"dataframe\">\n  <thead>\n    <tr style=\"text-align: right;\">\n      <th></th>\n      <th>customerid</th>\n      <th>loannumber</th>\n      <th>approveddate</th>\n      <th>loanamount</th>\n      <th>totaldue</th>\n      <th>termdays</th>\n      <th>good_bad_flag</th>\n    </tr>\n  </thead>\n  <tbody>\n    <tr>\n      <th>0</th>\n      <td>8a2a81a74ce8c05d014cfb32a0da1049</td>\n      <td>1.868965</td>\n      <td>2017-07-25 08:22:56</td>\n      <td>1.134202</td>\n      <td>1.108898</td>\n      <td>0.064140</td>\n      <td>1</td>\n    </tr>\n    <tr>\n      <th>1</th>\n      <td>8a85886e54beabf90154c0a29ae757c0</td>\n      <td>-0.868398</td>\n      <td>2017-07-05 17:04:41</td>\n      <td>-0.261346</td>\n      <td>-0.335566</td>\n      <td>0.064140</td>\n      <td>1</td>\n    </tr>\n    <tr>\n      <th>2</th>\n      <td>8a8588f35438fe12015444567666018e</td>\n      <td>0.500283</td>\n      <td>2017-07-06 14:52:57</td>\n      <td>0.203837</td>\n      <td>0.083119</td>\n      <td>-1.238939</td>\n      <td>1</td>\n    </tr>\n    <tr>\n      <th>3</th>\n      <td>8a85890754145ace015429211b513e16</td>\n      <td>-0.594662</td>\n      <td>2017-07-27 19:00:41</td>\n      <td>-0.726529</td>\n      <td>-0.817054</td>\n      <td>-1.238939</td>\n      <td>1</td>\n    </tr>\n    <tr>\n      <th>4</th>\n      <td>8a858970548359cc0154883481981866</td>\n      <td>1.047756</td>\n      <td>2017-07-03 23:42:45</td>\n      <td>2.064568</td>\n      <td>1.904400</td>\n      <td>0.064140</td>\n      <td>1</td>\n    </tr>\n  </tbody>\n</table>\n</div>"
     },
     "execution_count": 145,
     "metadata": {},
     "output_type": "execute_result"
    }
   ],
   "source": [
    "train_perf = pd.read_csv(\"../data/preprocessed/train/train_perf.csv\")\n",
    "\n",
    "# Convert columns types\n",
    "cols_dtypes = {\n",
    "    \"customerid\": \"category\",\n",
    "    \"loannumber\": \"int\",\n",
    "    \"approveddate\": \"datetime\",\n",
    "    \"loanamount\": \"float\",\n",
    "    \"totaldue\": \"float\",\n",
    "    \"termdays\": \"int\",\n",
    "    \"good_bad_flag\": \"category\"\n",
    "}\n",
    "train_perf = convert_dtype(data=train_perf, columns_type=cols_dtypes)\n",
    "\n",
    "# Apply scaling to some columns\n",
    "loan_scaler = CustomScalerPerf(cols=[\"loannumber\", \"loanamount\", \"totaldue\", \"termdays\"])\n",
    "train_perf = loan_scaler.fit_transform(train_perf)\n",
    "\n",
    "# Encode The target column\n",
    "target_encoder = TargetEncoder(auto=False, mapping={\"Good\": 1, \"Bad\": 0})\n",
    "train_perf = target_encoder.encode_target(train_perf, target=\"good_bad_flag\")\n",
    "\n",
    "train_perf.head()"
   ],
   "metadata": {
    "collapsed": false,
    "pycharm": {
     "name": "#%%\n"
    }
   }
  },
  {
   "cell_type": "code",
   "execution_count": 146,
   "outputs": [
    {
     "name": "stdout",
     "output_type": "stream",
     "text": [
      "Shape of train_dg: (4346, 8)\n",
      "Shape of train_perf: (4368, 7)\n",
      "Shape of train_loans: (18183, 8)\n"
     ]
    }
   ],
   "source": [
    "print(f\"Shape of train_dg: {train_dg.shape}\")\n",
    "print(f\"Shape of train_perf: {train_perf.shape}\")\n",
    "print(f\"Shape of train_loans: {train_prevloans.shape}\")"
   ],
   "metadata": {
    "collapsed": false,
    "pycharm": {
     "name": "#%%\n"
    }
   }
  },
  {
   "cell_type": "markdown",
   "source": [
    "## Categorical Embedding"
   ],
   "metadata": {
    "collapsed": false,
    "pycharm": {
     "name": "#%% md\n"
    }
   }
  },
  {
   "cell_type": "code",
   "execution_count": 147,
   "outputs": [
    {
     "data": {
      "text/plain": "                         customerid  loannumber  loanamount  totaldue  \\\n0  8a2a81a74ce8c05d014cfb32a0da1049    1.868965    1.134202  1.108898   \n1  8a85886e54beabf90154c0a29ae757c0   -0.868398   -0.261346 -0.335566   \n2  8a8588f35438fe12015444567666018e    0.500283    0.203837  0.083119   \n3  8a85890754145ace015429211b513e16   -0.594662   -0.726529 -0.817054   \n4  8a858970548359cc0154883481981866    1.047756    2.064568  1.904400   \n\n   termdays good_bad_flag  bank_account_type  longitude_gps  latitude_gps  \\\n0  0.064140             1                  1       3.432010      6.433055   \n1  0.064140             1                  2       3.885298      7.320700   \n2 -1.238939             1                  1      11.139350     10.292041   \n3 -1.238939             1                  2       3.985770      7.491708   \n4  0.064140             1                  1       7.457913      9.076574   \n\n   bank_name_clients  employment_status_clients  is_missing_emp_status_clients  \n0                  1                          1                              0  \n1                  6                          1                              0  \n2                  2                          1                              0  \n3                  5                          1                              0  \n4                  6                          1                              0  ",
      "text/html": "<div>\n<style scoped>\n    .dataframe tbody tr th:only-of-type {\n        vertical-align: middle;\n    }\n\n    .dataframe tbody tr th {\n        vertical-align: top;\n    }\n\n    .dataframe thead th {\n        text-align: right;\n    }\n</style>\n<table border=\"1\" class=\"dataframe\">\n  <thead>\n    <tr style=\"text-align: right;\">\n      <th></th>\n      <th>customerid</th>\n      <th>loannumber</th>\n      <th>loanamount</th>\n      <th>totaldue</th>\n      <th>termdays</th>\n      <th>good_bad_flag</th>\n      <th>bank_account_type</th>\n      <th>longitude_gps</th>\n      <th>latitude_gps</th>\n      <th>bank_name_clients</th>\n      <th>employment_status_clients</th>\n      <th>is_missing_emp_status_clients</th>\n    </tr>\n  </thead>\n  <tbody>\n    <tr>\n      <th>0</th>\n      <td>8a2a81a74ce8c05d014cfb32a0da1049</td>\n      <td>1.868965</td>\n      <td>1.134202</td>\n      <td>1.108898</td>\n      <td>0.064140</td>\n      <td>1</td>\n      <td>1</td>\n      <td>3.432010</td>\n      <td>6.433055</td>\n      <td>1</td>\n      <td>1</td>\n      <td>0</td>\n    </tr>\n    <tr>\n      <th>1</th>\n      <td>8a85886e54beabf90154c0a29ae757c0</td>\n      <td>-0.868398</td>\n      <td>-0.261346</td>\n      <td>-0.335566</td>\n      <td>0.064140</td>\n      <td>1</td>\n      <td>2</td>\n      <td>3.885298</td>\n      <td>7.320700</td>\n      <td>6</td>\n      <td>1</td>\n      <td>0</td>\n    </tr>\n    <tr>\n      <th>2</th>\n      <td>8a8588f35438fe12015444567666018e</td>\n      <td>0.500283</td>\n      <td>0.203837</td>\n      <td>0.083119</td>\n      <td>-1.238939</td>\n      <td>1</td>\n      <td>1</td>\n      <td>11.139350</td>\n      <td>10.292041</td>\n      <td>2</td>\n      <td>1</td>\n      <td>0</td>\n    </tr>\n    <tr>\n      <th>3</th>\n      <td>8a85890754145ace015429211b513e16</td>\n      <td>-0.594662</td>\n      <td>-0.726529</td>\n      <td>-0.817054</td>\n      <td>-1.238939</td>\n      <td>1</td>\n      <td>2</td>\n      <td>3.985770</td>\n      <td>7.491708</td>\n      <td>5</td>\n      <td>1</td>\n      <td>0</td>\n    </tr>\n    <tr>\n      <th>4</th>\n      <td>8a858970548359cc0154883481981866</td>\n      <td>1.047756</td>\n      <td>2.064568</td>\n      <td>1.904400</td>\n      <td>0.064140</td>\n      <td>1</td>\n      <td>1</td>\n      <td>7.457913</td>\n      <td>9.076574</td>\n      <td>6</td>\n      <td>1</td>\n      <td>0</td>\n    </tr>\n  </tbody>\n</table>\n</div>"
     },
     "execution_count": 147,
     "metadata": {},
     "output_type": "execute_result"
    }
   ],
   "source": [
    "emb_data = pd.merge(train_perf[[\"customerid\", \"loannumber\", \"loanamount\", \"totaldue\", \"termdays\", \"good_bad_flag\"]],\n",
    "                    train_dg, on=\"customerid\", how=\"inner\").drop(\"birthdate\", axis=1)\n",
    "emb_data.head()"
   ],
   "metadata": {
    "collapsed": false,
    "pycharm": {
     "name": "#%%\n"
    }
   }
  },
  {
   "cell_type": "code",
   "execution_count": 148,
   "outputs": [],
   "source": [
    "cat_cols = [\"bank_account_type\", \"bank_name_clients\", \"employment_status_clients\"]\n",
    "cont_col = [\"loannumber\", \"loanamount\", \"totaldue\", \"termdays\", \"longitude_gps\", \"latitude_gps\",\n",
    "            \"is_missing_emp_status_clients\"]"
   ],
   "metadata": {
    "collapsed": false,
    "pycharm": {
     "name": "#%%\n"
    }
   }
  },
  {
   "cell_type": "code",
   "execution_count": 169,
   "outputs": [
    {
     "data": {
      "text/plain": "CategoricalEmbeddingModel(\n  (dropout): Dropout(p=0.5, inplace=False)\n  (bn): BatchNorm1d(7, eps=1e-05, momentum=0.1, affine=True, track_running_stats=True)\n  (embedding_layers): ModuleList(\n    (0): Embedding(4, 2)\n    (1): Embedding(19, 10)\n    (2): Embedding(7, 4)\n  )\n  (linears): Sequential(\n    (0): Linear(in_features=23, out_features=64, bias=True)\n    (1): ReLU()\n    (2): BatchNorm1d(64, eps=1e-05, momentum=0.1, affine=True, track_running_stats=True)\n    (3): Linear(in_features=64, out_features=16, bias=True)\n    (4): ReLU()\n    (5): BatchNorm1d(16, eps=1e-05, momentum=0.1, affine=True, track_running_stats=True)\n    (6): Linear(in_features=16, out_features=1, bias=True)\n  )\n)"
     },
     "execution_count": 169,
     "metadata": {},
     "output_type": "execute_result"
    }
   ],
   "source": [
    "cat_embedder = CategoricalEmbeddingSizes(\n",
    "    cat_cols=[\"bank_account_type\", \"bank_name_clients\", \"employment_status_clients\"]\n",
    ")\n",
    "emb_sizes, emb_cols = cat_embedder.get_cat_emb_dims(data=train_dg)\n",
    "emb_model = CategoricalEmbeddingModel(\n",
    "    emb_dims=emb_sizes,\n",
    "    cont_dim=7,\n",
    "    dropout=0.5,\n",
    "    output_size=1\n",
    ")\n",
    "emb_model.to(config[\"DEVICE\"])"
   ],
   "metadata": {
    "collapsed": false,
    "pycharm": {
     "name": "#%%\n"
    }
   }
  },
  {
   "cell_type": "code",
   "execution_count": 170,
   "outputs": [],
   "source": [
    "X = emb_data.drop([\"customerid\", \"good_bad_flag\"], axis=1)\n",
    "y = emb_data.good_bad_flag\n",
    "X_train, X_test, y_train, y_test = train_test_split(\n",
    "    X, y,\n",
    "    train_size=0.8, random_state=42\n",
    ")"
   ],
   "metadata": {
    "collapsed": false,
    "pycharm": {
     "name": "#%%\n"
    }
   }
  },
  {
   "cell_type": "code",
   "execution_count": 205,
   "outputs": [],
   "source": [
    "\n",
    "\n",
    "train_dataset = CreateTensorDataset(\n",
    "    emb_cols=emb_cols,\n",
    "    x_data=X_train,\n",
    "    y_data=y_train\n",
    ")\n",
    "valid_dataset = CreateTensorDataset(\n",
    "    emb_cols=emb_cols,\n",
    "    x_data=X_test,\n",
    "    y_data=y_test\n",
    ")\n",
    "\n",
    "train_dataloader = DataLoader(\n",
    "    train_dataset,\n",
    "    sampler=RandomSampler(train_dataset),\n",
    "    batch_size=config[\"TRAIN_BS\"],\n",
    "    drop_last=True\n",
    ")\n",
    "valid_dataloader = DataLoader(\n",
    "    valid_dataset,\n",
    "    sampler=SequentialSampler(valid_dataset),\n",
    "    batch_size=config[\"VALID_BS\"]\n",
    ")\n"
   ],
   "metadata": {
    "collapsed": false,
    "pycharm": {
     "name": "#%%\n"
    }
   }
  },
  {
   "cell_type": "code",
   "execution_count": 206,
   "outputs": [
    {
     "data": {
      "text/plain": "573"
     },
     "execution_count": 206,
     "metadata": {},
     "output_type": "execute_result"
    }
   ],
   "source": [
    "y_train.value_counts()[0]"
   ],
   "metadata": {
    "collapsed": false,
    "pycharm": {
     "name": "#%%\n"
    }
   }
  },
  {
   "cell_type": "code",
   "execution_count": 210,
   "outputs": [],
   "source": [
    "# from torch import optim\n",
    "# import torch.nn as nn\n",
    "#\n",
    "# # we're setting the positive class weight because the data is imbalanced\n",
    "# pos_weight = y_train.value_counts()[0] / y_train.value_counts()[1]\n",
    "#\n",
    "# criterion = nn.BCEWithLogitsLoss(pos_weight=torch.tensor(pos_weight))\n",
    "# criterion.to(config[\"DEVICE\"])\n",
    "#\n",
    "# optimizer = optim.Adam(emb_model.parameters(), lr=config[\"LR\"])\n",
    "#\n",
    "# y_trues = []\n",
    "# losses = 0.0\n",
    "# probs = []\n",
    "#\n",
    "# emb_model.train()\n",
    "# for batch in train_dataloader:\n",
    "#     y_true = batch[\"y\"].float().to(\"cuda\")\n",
    "#\n",
    "#     logits = emb_model(\n",
    "#         x_cont=batch[\"x_cont\"].to(\"cuda\"),\n",
    "#         x_emb=batch[\"x_emb\"].to(\"cuda\")\n",
    "#     )\n",
    "#\n",
    "#     optimizer.zero_grad()\n",
    "#     loss = criterion(logits.squeeze(1), y_true)\n",
    "#     loss.backward()\n",
    "#     optimizer.step()\n",
    "#\n",
    "#     losses += loss.item() * y_true.size(0)  # Using y_true just to get the len of the batch\n",
    "#     y_trues.extend([int(y.item()) for y in y_true])\n",
    "#     probs.extend([torch.sigmoid(p).item() for p in logits])\n",
    "#\n",
    "# y_preds = [int(p > 0.5) for p in probs]\n",
    "# roc_auc = roc_auc_score(y_true=y_trues, y_score=y_preds)\n",
    "# average_loss = losses / len(train_dataloader.sampler)"
   ],
   "metadata": {
    "collapsed": false,
    "pycharm": {
     "name": "#%%\n"
    }
   }
  },
  {
   "cell_type": "code",
   "execution_count": 235,
   "outputs": [],
   "source": [
    "\n",
    "\n",
    "pos_weight = y_train.value_counts()[0] / y_train.value_counts()[1]\n",
    "\n",
    "criterion = nn.BCEWithLogitsLoss(pos_weight=torch.tensor(pos_weight))\n",
    "criterion.to(config[\"DEVICE\"])\n",
    "\n",
    "optimizer = optim.Adam(emb_model.parameters(), lr=config[\"LR\"])\n",
    "scheduler = lr_scheduler.ReduceLROnPlateau(\n",
    "    optimizer,\n",
    "    \"min\",\n",
    "    patience=10,\n",
    ")"
   ],
   "metadata": {
    "collapsed": false,
    "pycharm": {
     "name": "#%%\n"
    }
   }
  },
  {
   "cell_type": "code",
   "execution_count": 236,
   "outputs": [
    {
     "name": "stdout",
     "output_type": "stream",
     "text": [
      "======================= Training Started ============================\n"
     ]
    },
    {
     "ename": "KeyError",
     "evalue": "'CHECKPOINT_POINT'",
     "output_type": "error",
     "traceback": [
      "\u001B[1;31m---------------------------------------------------------------------------\u001B[0m",
      "\u001B[1;31mKeyError\u001B[0m                                  Traceback (most recent call last)",
      "Input \u001B[1;32mIn [236]\u001B[0m, in \u001B[0;36m<cell line: 1>\u001B[1;34m()\u001B[0m\n\u001B[1;32m----> 1\u001B[0m \u001B[43mengine\u001B[49m\u001B[43m(\u001B[49m\n\u001B[0;32m      2\u001B[0m \u001B[43m    \u001B[49m\u001B[43mmodel\u001B[49m\u001B[38;5;241;43m=\u001B[39;49m\u001B[43memb_model\u001B[49m\u001B[43m,\u001B[49m\n\u001B[0;32m      3\u001B[0m \u001B[43m    \u001B[49m\u001B[43mcriterion\u001B[49m\u001B[38;5;241;43m=\u001B[39;49m\u001B[43mcriterion\u001B[49m\u001B[43m,\u001B[49m\n\u001B[0;32m      4\u001B[0m \u001B[43m    \u001B[49m\u001B[43moptimizer\u001B[49m\u001B[38;5;241;43m=\u001B[39;49m\u001B[43moptimizer\u001B[49m\u001B[43m,\u001B[49m\n\u001B[0;32m      5\u001B[0m \u001B[43m    \u001B[49m\u001B[43mscheduler\u001B[49m\u001B[38;5;241;43m=\u001B[39;49m\u001B[43mscheduler\u001B[49m\u001B[43m,\u001B[49m\n\u001B[0;32m      6\u001B[0m \u001B[43m    \u001B[49m\u001B[43mtrain_dataloader\u001B[49m\u001B[38;5;241;43m=\u001B[39;49m\u001B[43mtrain_dataloader\u001B[49m\u001B[43m,\u001B[49m\n\u001B[0;32m      7\u001B[0m \u001B[43m    \u001B[49m\u001B[43meval_dataloader\u001B[49m\u001B[38;5;241;43m=\u001B[39;49m\u001B[43mvalid_dataloader\u001B[49m\u001B[43m,\u001B[49m\n\u001B[0;32m      8\u001B[0m \u001B[43m    \u001B[49m\u001B[43mconfig\u001B[49m\u001B[38;5;241;43m=\u001B[39;49m\u001B[43mconfig\u001B[49m\u001B[43m,\u001B[49m\n\u001B[0;32m      9\u001B[0m \u001B[43m    \u001B[49m\u001B[43mcheckpoint\u001B[49m\u001B[38;5;241;43m=\u001B[39;49m\u001B[38;5;28;43;01mNone\u001B[39;49;00m\n\u001B[0;32m     10\u001B[0m \u001B[43m)\u001B[49m\n",
      "File \u001B[1;32mC:\\workspace\\Projects\\MLProjects\\ZindiLoanPredChallenge\\src\\loan_pred\\train\\engine.py:70\u001B[0m, in \u001B[0;36mengine\u001B[1;34m(model, train_dataloader, eval_dataloader, optimizer, criterion, scheduler, config, checkpoint)\u001B[0m\n\u001B[0;32m     67\u001B[0m checkpoint[\u001B[38;5;124m\"\u001B[39m\u001B[38;5;124mbest_state_dict\u001B[39m\u001B[38;5;124m\"\u001B[39m] \u001B[38;5;241m=\u001B[39m best_state_dict\n\u001B[0;32m     68\u001B[0m checkpoint[\u001B[38;5;124m\"\u001B[39m\u001B[38;5;124mepoch_at_best\u001B[39m\u001B[38;5;124m\"\u001B[39m] \u001B[38;5;241m=\u001B[39m epoch_at_best\n\u001B[1;32m---> 70\u001B[0m torch\u001B[38;5;241m.\u001B[39msave(checkpoint, \u001B[43mconfig\u001B[49m\u001B[43m[\u001B[49m\u001B[38;5;124;43m\"\u001B[39;49m\u001B[38;5;124;43mCHECKPOINT_POINT\u001B[39;49m\u001B[38;5;124;43m\"\u001B[39;49m\u001B[43m]\u001B[49m)\n\u001B[0;32m     72\u001B[0m \u001B[38;5;28mprint\u001B[39m(display_msg)\n",
      "\u001B[1;31mKeyError\u001B[0m: 'CHECKPOINT_POINT'"
     ]
    }
   ],
   "source": [
    "\n",
    "\n",
    "engine(\n",
    "    model=emb_model,\n",
    "    criterion=criterion,\n",
    "    optimizer=optimizer,\n",
    "    scheduler=scheduler,\n",
    "    train_dataloader=train_dataloader,\n",
    "    eval_dataloader=valid_dataloader,\n",
    "    config=config,\n",
    "    checkpoint=None\n",
    ")"
   ],
   "metadata": {
    "collapsed": false,
    "pycharm": {
     "name": "#%%\n"
    }
   }
  },
  {
   "cell_type": "code",
   "execution_count": 212,
   "outputs": [
    {
     "data": {
      "text/plain": "array([[ 304,  269],\n       [1038, 1009]], dtype=int64)"
     },
     "execution_count": 212,
     "metadata": {},
     "output_type": "execute_result"
    }
   ],
   "source": [
    "from sklearn.metrics import confusion_matrix\n",
    "\n",
    "confusion_matrix(y_true=y_trues, y_pred=y_preds)"
   ],
   "metadata": {
    "collapsed": false,
    "pycharm": {
     "name": "#%%\n"
    }
   }
  },
  {
   "cell_type": "code",
   "execution_count": 213,
   "outputs": [
    {
     "name": "stdout",
     "output_type": "stream",
     "text": [
      "1572\n",
      "2621\n"
     ]
    }
   ],
   "source": [
    "print(total)\n",
    "print(len(train_dataloader.sampler))"
   ],
   "metadata": {
    "collapsed": false,
    "pycharm": {
     "name": "#%%\n"
    }
   }
  },
  {
   "cell_type": "code",
   "execution_count": 215,
   "outputs": [],
   "source": [
    "\n",
    "pos_weight = y_train.value_counts()[0] / y_train.value_counts()[1]\n",
    "\n",
    "criterion = nn.BCEWithLogitsLoss(pos_weight=torch.tensor(pos_weight))\n",
    "criterion.to(config[\"DEVICE\"])\n",
    "\n",
    "optimizer = optim.Adam(emb_model.parameters(), lr=config[\"LR\"])"
   ],
   "metadata": {
    "collapsed": false,
    "pycharm": {
     "name": "#%%\n"
    }
   }
  },
  {
   "cell_type": "code",
   "execution_count": 216,
   "outputs": [],
   "source": [
    "dt = train(\n",
    "    model=emb_model,\n",
    "    dataloader=train_dataloader,\n",
    "    optimizer=optimizer,\n",
    "    criterion=criterion,\n",
    "    device=config[\"DEVICE\"]\n",
    ")"
   ],
   "metadata": {
    "collapsed": false,
    "pycharm": {
     "name": "#%%\n"
    }
   }
  },
  {
   "cell_type": "code",
   "execution_count": 217,
   "outputs": [
    {
     "data": {
      "text/plain": "0.3097066255652327"
     },
     "execution_count": 217,
     "metadata": {},
     "output_type": "execute_result"
    }
   ],
   "source": [
    "dt[0]"
   ],
   "metadata": {
    "collapsed": false,
    "pycharm": {
     "name": "#%%\n"
    }
   }
  },
  {
   "cell_type": "code",
   "execution_count": 218,
   "outputs": [
    {
     "data": {
      "text/plain": "0.522235323305463"
     },
     "execution_count": 218,
     "metadata": {},
     "output_type": "execute_result"
    }
   ],
   "source": [
    "dt[1]"
   ],
   "metadata": {
    "collapsed": false,
    "pycharm": {
     "name": "#%%\n"
    }
   }
  },
  {
   "cell_type": "code",
   "execution_count": 98,
   "outputs": [
    {
     "data": {
      "text/plain": "tensor([[0.0106, 0.0165]], grad_fn=<AddmmBackward0>)"
     },
     "execution_count": 98,
     "metadata": {},
     "output_type": "execute_result"
    }
   ],
   "source": [
    "# Let's find the data to train the embedding\n",
    "# We will join the load table and demographic table to gather the target\n",
    "\n",
    "emb_data = pd.merge(train_perf[\"customerid\", \"loanumber\", \"loanamount\", \"totaldue\", \"termdays\", \"good_bad_flag\"])"
   ],
   "metadata": {
    "collapsed": false,
    "pycharm": {
     "name": "#%%\n"
    }
   }
  },
  {
   "cell_type": "code",
   "execution_count": 46,
   "outputs": [],
   "source": [],
   "metadata": {
    "collapsed": false,
    "pycharm": {
     "name": "#%%\n"
    }
   }
  },
  {
   "cell_type": "code",
   "execution_count": 47,
   "outputs": [],
   "source": [],
   "metadata": {
    "collapsed": false,
    "pycharm": {
     "name": "#%%\n"
    }
   }
  },
  {
   "cell_type": "code",
   "execution_count": 48,
   "outputs": [],
   "source": [],
   "metadata": {
    "collapsed": false,
    "pycharm": {
     "name": "#%%\n"
    }
   }
  },
  {
   "cell_type": "code",
   "execution_count": 49,
   "outputs": [
    {
     "data": {
      "text/plain": "                         customerid  loannumber        approveddate  \\\n0  8a2a81a74ce8c05d014cfb32a0da1049    1.868965 2017-07-25 08:22:56   \n1  8a85886e54beabf90154c0a29ae757c0   -0.868398 2017-07-05 17:04:41   \n2  8a8588f35438fe12015444567666018e    0.500283 2017-07-06 14:52:57   \n3  8a85890754145ace015429211b513e16   -0.594662 2017-07-27 19:00:41   \n4  8a858970548359cc0154883481981866    1.047756 2017-07-03 23:42:45   \n\n   loanamount  totaldue  termdays good_bad_flag  \n0    1.134202  1.108898  0.064140             1  \n1   -0.261346 -0.335566  0.064140             1  \n2    0.203837  0.083119 -1.238939             1  \n3   -0.726529 -0.817054 -1.238939             1  \n4    2.064568  1.904400  0.064140             1  ",
      "text/html": "<div>\n<style scoped>\n    .dataframe tbody tr th:only-of-type {\n        vertical-align: middle;\n    }\n\n    .dataframe tbody tr th {\n        vertical-align: top;\n    }\n\n    .dataframe thead th {\n        text-align: right;\n    }\n</style>\n<table border=\"1\" class=\"dataframe\">\n  <thead>\n    <tr style=\"text-align: right;\">\n      <th></th>\n      <th>customerid</th>\n      <th>loannumber</th>\n      <th>approveddate</th>\n      <th>loanamount</th>\n      <th>totaldue</th>\n      <th>termdays</th>\n      <th>good_bad_flag</th>\n    </tr>\n  </thead>\n  <tbody>\n    <tr>\n      <th>0</th>\n      <td>8a2a81a74ce8c05d014cfb32a0da1049</td>\n      <td>1.868965</td>\n      <td>2017-07-25 08:22:56</td>\n      <td>1.134202</td>\n      <td>1.108898</td>\n      <td>0.064140</td>\n      <td>1</td>\n    </tr>\n    <tr>\n      <th>1</th>\n      <td>8a85886e54beabf90154c0a29ae757c0</td>\n      <td>-0.868398</td>\n      <td>2017-07-05 17:04:41</td>\n      <td>-0.261346</td>\n      <td>-0.335566</td>\n      <td>0.064140</td>\n      <td>1</td>\n    </tr>\n    <tr>\n      <th>2</th>\n      <td>8a8588f35438fe12015444567666018e</td>\n      <td>0.500283</td>\n      <td>2017-07-06 14:52:57</td>\n      <td>0.203837</td>\n      <td>0.083119</td>\n      <td>-1.238939</td>\n      <td>1</td>\n    </tr>\n    <tr>\n      <th>3</th>\n      <td>8a85890754145ace015429211b513e16</td>\n      <td>-0.594662</td>\n      <td>2017-07-27 19:00:41</td>\n      <td>-0.726529</td>\n      <td>-0.817054</td>\n      <td>-1.238939</td>\n      <td>1</td>\n    </tr>\n    <tr>\n      <th>4</th>\n      <td>8a858970548359cc0154883481981866</td>\n      <td>1.047756</td>\n      <td>2017-07-03 23:42:45</td>\n      <td>2.064568</td>\n      <td>1.904400</td>\n      <td>0.064140</td>\n      <td>1</td>\n    </tr>\n  </tbody>\n</table>\n</div>"
     },
     "execution_count": 49,
     "metadata": {},
     "output_type": "execute_result"
    }
   ],
   "source": [
    "de.head()"
   ],
   "metadata": {
    "collapsed": false,
    "pycharm": {
     "name": "#%%\n"
    }
   }
  },
  {
   "cell_type": "code",
   "execution_count": 38,
   "outputs": [
    {
     "data": {
      "text/plain": "['Good', 'Bad']\nCategories (2, object): ['Bad', 'Good']"
     },
     "execution_count": 38,
     "metadata": {},
     "output_type": "execute_result"
    }
   ],
   "source": [
    "train_perf.good_bad_flag.unique()"
   ],
   "metadata": {
    "collapsed": false,
    "pycharm": {
     "name": "#%%\n"
    }
   }
  },
  {
   "cell_type": "code",
   "execution_count": 193,
   "outputs": [],
   "source": [
    "\n",
    "\n",
    "generator = generate_graph(\n",
    "    perf=train_perf,\n",
    "    prev_loan=train_prevloans,\n",
    "    dg=train_dg\n",
    ")"
   ],
   "metadata": {
    "collapsed": false,
    "pycharm": {
     "name": "#%%\n"
    }
   }
  },
  {
   "cell_type": "code",
   "execution_count": 40,
   "outputs": [
    {
     "data": {
      "text/plain": "{'user_id': '8a85886e54beabf90154c0a29ae757c0',\n 'graph_label': 'Good',\n 'node_type_loans': [[2.0, 15000.0, 17250.0, 30.0, 31.868447909671378]],\n 'node_type_prevloans': [],\n 'node_type_dg': [['Savings', 3.885298, 7.3207003, 'GT Bank', 'Permanent', 0]]}"
     },
     "execution_count": 40,
     "metadata": {},
     "output_type": "execute_result"
    }
   ],
   "source": [
    "next(generator)"
   ],
   "metadata": {
    "collapsed": false,
    "pycharm": {
     "name": "#%%\n"
    }
   }
  },
  {
   "cell_type": "code",
   "execution_count": 35,
   "outputs": [
    {
     "name": "stdout",
     "output_type": "stream",
     "text": [
      "Graph(num_nodes={'loan': 1, 'prev_loans': 6},\n",
      "      num_edges={('loan', 'has', 'prev_loans'): 2},\n",
      "      metagraph=[('loan', 'prev_loans', 'has')])\n"
     ]
    }
   ],
   "source": [
    "rating = dgl.heterograph({\n",
    "    (\"loan\", \"has\", \"prev_loans\"): (np.array([0, 0]), np.array([5, 5]))\n",
    "})\n",
    "print(rating)"
   ],
   "metadata": {
    "collapsed": false,
    "pycharm": {
     "name": "#%%\n"
    }
   }
  },
  {
   "cell_type": "code",
   "execution_count": 36,
   "outputs": [
    {
     "data": {
      "text/plain": "NodeSpace(data={})"
     },
     "execution_count": 36,
     "metadata": {},
     "output_type": "execute_result"
    }
   ],
   "source": [
    "rating.nodes['loan'].data"
   ],
   "metadata": {
    "collapsed": false,
    "pycharm": {
     "name": "#%%\n"
    }
   }
  },
  {
   "cell_type": "code",
   "execution_count": 39,
   "outputs": [
    {
     "data": {
      "text/plain": "tensor([[1.],\n        [1.],\n        [1.]])"
     },
     "execution_count": 39,
     "metadata": {},
     "output_type": "execute_result"
    }
   ],
   "source": [
    "import torch\n",
    "\n",
    "torch.ones(3, 1)"
   ],
   "metadata": {
    "collapsed": false,
    "pycharm": {
     "name": "#%%\n"
    }
   }
  },
  {
   "cell_type": "code",
   "execution_count": null,
   "outputs": [],
   "source": [],
   "metadata": {
    "collapsed": false,
    "pycharm": {
     "name": "#%%\n"
    }
   }
  }
 ],
 "metadata": {
  "kernelspec": {
   "display_name": "Python 3",
   "language": "python",
   "name": "python3"
  },
  "language_info": {
   "codemirror_mode": {
    "name": "ipython",
    "version": 2
   },
   "file_extension": ".py",
   "mimetype": "text/x-python",
   "name": "python",
   "nbconvert_exporter": "python",
   "pygments_lexer": "ipython2",
   "version": "2.7.6"
  }
 },
 "nbformat": 4,
 "nbformat_minor": 0
}